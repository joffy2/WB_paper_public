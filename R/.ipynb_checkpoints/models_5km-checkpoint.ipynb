{
 "cells": [
  {
   "cell_type": "markdown",
   "metadata": {},
   "source": [
    "## Analysis of World Bank projects and conservtion metrics"
   ]
  },
  {
   "cell_type": "code",
   "execution_count": 60,
   "metadata": {},
   "outputs": [],
   "source": [
    "##load the packages - analysis run in R 3.6.3 there may be some compaitbility issues with versions 4.0.0 and greater \n",
    "library(tidyverse)\n",
    "library(raster)\n",
    "library(rgdal)\n",
    "library(gridExtra)\n",
    "library(spatialreg)\n",
    "library(lme4)\n",
    "library(stargazer)\n",
    "library(spatstat)\n",
    "library(spdep)\n",
    "library(broom)\n",
    "library(broom.mixed)\n",
    "library(DHARMa)"
   ]
  },
  {
   "cell_type": "code",
   "execution_count": 4,
   "metadata": {},
   "outputs": [],
   "source": [
    "##set working directory and path to data\n",
    "setwd('~/WB_paper')\n",
    "path <- \"insert path\""
   ]
  },
  {
   "cell_type": "markdown",
   "metadata": {},
   "source": [
    "## Create 5 km dataset"
   ]
  },
  {
   "cell_type": "code",
   "execution_count": 45,
   "metadata": {},
   "outputs": [],
   "source": [
    "##read in base layers\n",
    "base5 <- raster(paste(path,'rasters/5_base_moll.tif', sep =\"\")) #referecne raster \n",
    "names(base5) <- \"ID\"\n",
    "adm1 <- raster(paste(path,'rasters/adm1_5_moll.tif', sep = \"\")) # county information \n",
    "names(adm1) <- 'adm1'\n",
    "adm1_lookup <- read.csv('Data/adm1_lookup.csv') #lookup values for country info \n",
    "\n",
    "###read in list of just those countires the world bank could possibly lend to\n",
    "borrowers <- read.csv('Data/possible_WB_borrowers.csv')"
   ]
  },
  {
   "cell_type": "code",
   "execution_count": 4,
   "metadata": {},
   "outputs": [],
   "source": [
    "##read in species counts\n",
    "brd <- raster(paste(path,'rasters/birds_5_moll.tif', sep = \"\"))\n",
    "amp <- raster(paste(path,'rasters/mam_5_moll.tif', sep = \"\"))\n",
    "mam <- raster(paste(path,'rasters/amp_5_moll.tif', sep =\"\"))\n",
    "\n",
    "##create a layer which gives the sum of Globally threatended species \n",
    "sp <- sum(amp,brd,mam)\n",
    "names(sp) <- 'sp_count'\n",
    "\n",
    "##read in the biodiversity area layers - these are a percentgae covergae within the cell\n",
    "pa <- raster(paste(path, 'rasters/pa_iv_5_moll.tif', sep =\"\"))\n",
    "kba <- raster(paste(path,'rasters/kba_5_moll.tif', sep =\"\"))\n",
    "hot <- raster(paste(path,'rasters/hot_5_moll.tif',sep= \"\"))"
   ]
  },
  {
   "cell_type": "code",
   "execution_count": 5,
   "metadata": {},
   "outputs": [],
   "source": [
    "##create dataframe of all biodiversity layers and lookup values and filter to just borrowers\n",
    "layers <- stack(mam,amp,brd,sp,hot,kba,pa,base5,adm1)\n",
    "bio_wb <- as.data.frame(layers, xy = T, centroids = T, na.rm = F) %>% filter(adm1 > 0) %>% left_join(adm1_lookup, by = c(\"adm1\" = \"lookup\")) %>% \n",
    "                filter(GID_0 %in% borrowers$GID_0)"
   ]
  },
  {
   "cell_type": "code",
   "execution_count": 11,
   "metadata": {},
   "outputs": [],
   "source": [
    "##read in projects with all details - just for perscion 1\n",
    "##each project point has a lookup value whcih tells us which cell it is in \n",
    "p <- read.csv(paste(path, 'projects/wb_p1_lookup_moll_5.csv', sep =\"\"))\n",
    "p_info <- read.csv(paste(path, 'projects/wb_p12_detail_moll.csv', sep =\"\"))\n",
    "\n",
    "#create dataframe with all details attached to the projects\n",
    "p_detail <- left_join(p, p_info, by = c(\"pro_lo_id\" = \"project_location_id\")) %>% \n",
    "                    mutate(p_length = difftime(strptime(end_actual_isodate, format = \"%Y-%m-%d\"), ## calculate project length\n",
    "                                               strptime(start_actual_isodate, format = \"%Y-%m-%d\"), units = \"weeks\")) %>% rename(\"ID\" = \"X5base\") ## set Cell id varable"
   ]
  },
  {
   "cell_type": "code",
   "execution_count": 13,
   "metadata": {},
   "outputs": [],
   "source": [
    "##filter projects to just those likely to cause harm to biodiversity - first by lending instrument \n",
    "p1 <- filter(p_detail, LENDING.INSTRUMENT %in% c(\"Specific Investment Loan\", \n",
    "                                                 \"Adaptable Program Loan\", \n",
    "                                                 \"Investment Project Financing\",\n",
    "                                                 \"Sector Investment and Maintenance Loan\"))"
   ]
  },
  {
   "cell_type": "code",
   "execution_count": 15,
   "metadata": {},
   "outputs": [],
   "source": [
    "##filter by the major sectors the projects are assigned\n",
    "##create list of sectors which are most likey to cause harm to biodiverity\n",
    "harm_sects = c(\"Agriculture, fishing, and forestry\",\"Energy and mining\",\"Transportation\", \n",
    "               \"Water, sanitation and flood protection\")\n",
    "\n",
    "##filter that dataset to only include major sectors which may cause harm - use both Major sector 1 and 2 feilds\n",
    "p1 = filter(p1,MJSECTOR.1 %in% harm_sects | MJSECTOR.2 %in% harm_sects) %>% \n",
    "            filter(ENV..CATEGORY %in% c(\"A\",\"B\")) ##filter environmental risk category to just the two highest "
   ]
  },
  {
   "cell_type": "code",
   "execution_count": 16,
   "metadata": {},
   "outputs": [
    {
     "name": "stderr",
     "output_type": "stream",
     "text": [
      "`summarise()` ungrouping output (override with `.groups` argument)\n",
      "\n"
     ]
    }
   ],
   "source": [
    "##create dataset of project actvites by cells\n",
    "p1_cells <- dplyr::select(p1, pro_lo_id, year, money, ID) %>% group_by(ID) %>%\n",
    "  summarise(count_all = n_distinct(pro_lo_id)) %>% mutate_all(~replace(., is.na(.), 0))"
   ]
  },
  {
   "cell_type": "code",
   "execution_count": 17,
   "metadata": {},
   "outputs": [],
   "source": [
    "##create final dataset by mergeing projects and other data and create binary varables\n",
    "data5 <- left_join(bio_wb, p1_cells, by = \"ID\") %>% mutate(count_all = replace(count_all, is.na(count_all), 0)) %>% mutate(bin_p = ifelse(count_all>0,1,0), \n",
    "                                                                                                                          bin_kba = ifelse(kba_5_moll >0,1,0),\n",
    "                                                                                                                          bin_pa = ifelse(pa_iv_5_moll >0,1,0),\n",
    "                                                                                                                          bin_hot = ifelse(hot_5_moll >0,1,0))"
   ]
  },
  {
   "cell_type": "code",
   "execution_count": 24,
   "metadata": {},
   "outputs": [
    {
     "data": {
      "text/html": [
       "1367"
      ],
      "text/latex": [
       "1367"
      ],
      "text/markdown": [
       "1367"
      ],
      "text/plain": [
       "[1] 1367"
      ]
     },
     "metadata": {},
     "output_type": "display_data"
    },
    {
     "data": {
      "text/html": [
       "18151"
      ],
      "text/latex": [
       "18151"
      ],
      "text/markdown": [
       "18151"
      ],
      "text/plain": [
       "[1] 18151"
      ]
     },
     "metadata": {},
     "output_type": "display_data"
    },
    {
     "data": {
      "text/html": [
       "102504535600.799"
      ],
      "text/latex": [
       "102504535600.799"
      ],
      "text/markdown": [
       "102504535600.799"
      ],
      "text/plain": [
       "[1] 102504535601"
      ]
     },
     "metadata": {},
     "output_type": "display_data"
    },
    {
     "data": {
      "text/html": [
       "<dl class=dl-horizontal>\n",
       "\t<dt>1</dt>\n",
       "\t\t<dd>0</dd>\n",
       "\t<dt>A</dt>\n",
       "\t\t<dd>4420</dd>\n",
       "\t<dt>B</dt>\n",
       "\t\t<dd>13731</dd>\n",
       "\t<dt>C</dt>\n",
       "\t\t<dd>0</dd>\n",
       "\t<dt>F</dt>\n",
       "\t\t<dd>0</dd>\n",
       "\t<dt>U</dt>\n",
       "\t\t<dd>0</dd>\n",
       "</dl>\n"
      ],
      "text/latex": [
       "\\begin{description*}\n",
       "\\item[1] 0\n",
       "\\item[A] 4420\n",
       "\\item[B] 13731\n",
       "\\item[C] 0\n",
       "\\item[F] 0\n",
       "\\item[U] 0\n",
       "\\end{description*}\n"
      ],
      "text/markdown": [
       "1\n",
       ":   0A\n",
       ":   4420B\n",
       ":   13731C\n",
       ":   0F\n",
       ":   0U\n",
       ":   0\n",
       "\n"
      ],
      "text/plain": [
       "          A     B     C     F     U \n",
       "    0  4420 13731     0     0     0 "
      ]
     },
     "metadata": {},
     "output_type": "display_data"
    },
    {
     "data": {
      "text/html": [
       "<dl class=dl-horizontal>\n",
       "\t<dt>Agriculture, fishing, and forestry</dt>\n",
       "\t\t<dd>2598</dd>\n",
       "\t<dt>Education</dt>\n",
       "\t\t<dd>34</dd>\n",
       "\t<dt>Energy and mining</dt>\n",
       "\t\t<dd>2478</dd>\n",
       "\t<dt>Finance</dt>\n",
       "\t\t<dd>5</dd>\n",
       "\t<dt>Health and other social services</dt>\n",
       "\t\t<dd>203</dd>\n",
       "\t<dt>Industry and trade</dt>\n",
       "\t\t<dd>185</dd>\n",
       "\t<dt>Information and communications</dt>\n",
       "\t\t<dd>0</dd>\n",
       "\t<dt>Public Administration, Law, and Justice</dt>\n",
       "\t\t<dd>643</dd>\n",
       "\t<dt>Transportation</dt>\n",
       "\t\t<dd>8047</dd>\n",
       "\t<dt>Water, sanitation and flood protection</dt>\n",
       "\t\t<dd>3958</dd>\n",
       "</dl>\n"
      ],
      "text/latex": [
       "\\begin{description*}\n",
       "\\item[Agriculture, fishing, and forestry] 2598\n",
       "\\item[Education] 34\n",
       "\\item[Energy and mining] 2478\n",
       "\\item[Finance] 5\n",
       "\\item[Health and other social services] 203\n",
       "\\item[Industry and trade] 185\n",
       "\\item[Information and communications] 0\n",
       "\\item[Public Administration, Law, and Justice] 643\n",
       "\\item[Transportation] 8047\n",
       "\\item[Water, sanitation and flood protection] 3958\n",
       "\\end{description*}\n"
      ],
      "text/markdown": [
       "Agriculture, fishing, and forestry\n",
       ":   2598Education\n",
       ":   34Energy and mining\n",
       ":   2478Finance\n",
       ":   5Health and other social services\n",
       ":   203Industry and trade\n",
       ":   185Information and communications\n",
       ":   0Public Administration, Law, and Justice\n",
       ":   643Transportation\n",
       ":   8047Water, sanitation and flood protection\n",
       ":   3958\n",
       "\n"
      ],
      "text/plain": [
       "     Agriculture, fishing, and forestry                               Education \n",
       "                                   2598                                      34 \n",
       "                      Energy and mining                                 Finance \n",
       "                                   2478                                       5 \n",
       "       Health and other social services                      Industry and trade \n",
       "                                    203                                     185 \n",
       "         Information and communications Public Administration, Law, and Justice \n",
       "                                      0                                     643 \n",
       "                         Transportation  Water, sanitation and flood protection \n",
       "                                   8047                                    3958 "
      ]
     },
     "metadata": {},
     "output_type": "display_data"
    },
    {
     "data": {
      "text/html": [
       "7.28617585814173"
      ],
      "text/latex": [
       "7.28617585814173"
      ],
      "text/markdown": [
       "7.28617585814173"
      ],
      "text/plain": [
       "[1] 7.286176"
      ]
     },
     "metadata": {},
     "output_type": "display_data"
    },
    {
     "data": {
      "text/html": [
       "1.90664915359275"
      ],
      "text/latex": [
       "1.90664915359275"
      ],
      "text/markdown": [
       "1.90664915359275"
      ],
      "text/plain": [
       "[1] 1.906649"
      ]
     },
     "metadata": {},
     "output_type": "display_data"
    },
    {
     "data": {
      "text/html": [
       "<dl class=dl-horizontal>\n",
       "\t<dt>0</dt>\n",
       "\t\t<dd>3972560</dd>\n",
       "\t<dt>1</dt>\n",
       "\t\t<dd>12620</dd>\n",
       "</dl>\n"
      ],
      "text/latex": [
       "\\begin{description*}\n",
       "\\item[0] 3972560\n",
       "\\item[1] 12620\n",
       "\\end{description*}\n"
      ],
      "text/markdown": [
       "0\n",
       ":   39725601\n",
       ":   12620\n",
       "\n"
      ],
      "text/plain": [
       "      0       1 \n",
       "3972560   12620 "
      ]
     },
     "metadata": {},
     "output_type": "display_data"
    }
   ],
   "source": [
    "##descriptive statistics - main dataset\n",
    "length(unique(p1$project_id.x))\n",
    "length((p1$project_id.x))\n",
    "sum(p1$money, na.rm = T)\n",
    "\n",
    "summary(as.factor(p1$ENV..CATEGORY))\n",
    "summary(as.factor(p1$MJSECTOR.1))\n",
    "\n",
    "##time\n",
    "mean(as.numeric(p1$p_length), na.rm = T) /52\n",
    "sd(as.numeric(p1$p_length), na.rm = T) /52\n",
    "\n",
    "##by cells\n",
    "summary(as.factor(data5$bin_p))"
   ]
  },
  {
   "cell_type": "markdown",
   "metadata": {},
   "source": [
    "## Simple global models"
   ]
  },
  {
   "cell_type": "code",
   "execution_count": null,
   "metadata": {},
   "outputs": [],
   "source": [
    "##create vector with distances to nearest neighbour\n",
    "data5$nndist <-nndist(data5$x, data5$y)"
   ]
  },
  {
   "cell_type": "code",
   "execution_count": null,
   "metadata": {},
   "outputs": [],
   "source": [
    "##how many cells do not have a direct neighbour?\n",
    "length(data5$nndist[data5$nndist > 5001])"
   ]
  },
  {
   "cell_type": "code",
   "execution_count": 22,
   "metadata": {},
   "outputs": [],
   "source": [
    "##filter to just those points with a direct neighbour\n",
    "data5 <- filter(data5, nndist < 50001)"
   ]
  },
  {
   "cell_type": "code",
   "execution_count": 25,
   "metadata": {},
   "outputs": [],
   "source": [
    "##create list of cooridinates of centroids of the cells\n",
    "xy5 <- as.matrix(cbind(data5$x, data5$y))"
   ]
  },
  {
   "cell_type": "code",
   "execution_count": null,
   "metadata": {},
   "outputs": [],
   "source": [
    "##create a neghbours object based on distance - this gives second order or queens case neghbours (i.e.e 1.5 times the distnace between centriods)\n",
    "nb <- dnearneigh(xy5, d1 = 4900, d2 =7500,  row.names = data5$ID)"
   ]
  },
  {
   "cell_type": "code",
   "execution_count": null,
   "metadata": {},
   "outputs": [],
   "source": [
    "##convert neighbour object to a spare list of weights\n",
    "listw <- nb2listw(nb, style = \"B\")"
   ]
  },
  {
   "cell_type": "code",
   "execution_count": null,
   "metadata": {},
   "outputs": [],
   "source": [
    "#calculate the autocoverate which is the sum of neighbouring cells based on queens case or second order neighbours \n",
    "#i.e. all those cells touching as it is 1.5 times the distance between centriods\n",
    "#data5$ac <- autocov_dist(data5$bin_p, xy5, nbs=7500, style=\"B\", type=\"one\")\n",
    "\n",
    "#alterntive method which is quicker \n",
    "data5.1$ac <-lag.listw(x = listw5.1, var=as.numeric(as.character(data5.1$bin_p)))"
   ]
  },
  {
   "cell_type": "code",
   "execution_count": 32,
   "metadata": {},
   "outputs": [],
   "source": [
    "#save the listW object \n",
    "save(listw,file = paste0(path,'R_objects/listw5.rda'))"
   ]
  },
  {
   "cell_type": "code",
   "execution_count": 3,
   "metadata": {},
   "outputs": [],
   "source": [
    "##write dataset/read dataset with auto covarite included\n",
    "write.csv(data5,\"Data/wb_global_data_moll_5.csv\")\n",
    "#data5 <- read.csv('Data/wb_global_data_moll_5.csv') "
   ]
  },
  {
   "cell_type": "code",
   "execution_count": 59,
   "metadata": {},
   "outputs": [],
   "source": [
    "##rescale species and set other metrics as factors\n",
    "data5 <- data5 %>% mutate(sp_norm = (sp_count - mean(sp_count)) / (2*sd(sp_count)), bin_p = as.factor(bin_p), bin_kba = as.factor(bin_kba), \n",
    "                            bin_hot = as.factor(bin_hot), bin_pa = as.factor(bin_pa))"
   ]
  },
  {
   "cell_type": "code",
   "execution_count": 6,
   "metadata": {},
   "outputs": [],
   "source": [
    "##simple models to test global level overlap - species\n",
    "glm.sp <-glm(bin_p~ac+sp_norm, family=binomial, data=data5)"
   ]
  },
  {
   "cell_type": "code",
   "execution_count": 7,
   "metadata": {},
   "outputs": [],
   "source": [
    "##simple models to test global level overlap - PAs\n",
    "glm.pa <- glm(bin_p~ac+bin_pa, family=binomial, data=data5)"
   ]
  },
  {
   "cell_type": "code",
   "execution_count": 8,
   "metadata": {},
   "outputs": [],
   "source": [
    "##simple models to test global level overlap - KBAs\n",
    "glm.kba <- glm(bin_p~ac+bin_kba, family=binomial, data=data5)"
   ]
  },
  {
   "cell_type": "code",
   "execution_count": 9,
   "metadata": {},
   "outputs": [],
   "source": [
    "##simple models to test global level overlap - Hotspots\n",
    "glm.hot <- glm(bin_p~ac+bin_hot, family=binomial, data=data5)"
   ]
  },
  {
   "cell_type": "code",
   "execution_count": null,
   "metadata": {},
   "outputs": [],
   "source": [
    "#create table of model reuslts for simple models\n",
    "stargazer(glm.sp,glm.pa, glm.kba, glm.hot, type=\"html\",out=\"Figures/simp_g_models_moll_5.html\")"
   ]
  },
  {
   "cell_type": "code",
   "execution_count": 34,
   "metadata": {},
   "outputs": [],
   "source": [
    "#test for spatial autocorrelation in the residuals\n",
    "sgm.sp.MI <- moran.mc(x=residuals(glm.sp), listw=listw, nsim=1000, zero.policy =T)"
   ]
  },
  {
   "cell_type": "code",
   "execution_count": 36,
   "metadata": {},
   "outputs": [],
   "source": [
    "#test for spatial autocorrelation in the residuals\n",
    "sgm.pa.MI <- moran.mc(x=residuals(glm.pa), listw=listw, nsim=1000, zero.policy =T)"
   ]
  },
  {
   "cell_type": "code",
   "execution_count": 37,
   "metadata": {},
   "outputs": [],
   "source": [
    "#test for spatial autocorrelation in the residuals\n",
    "sgm.kba.MI <- moran.mc(x=residuals(glm.kba), listw=listw, nsim=1000, zero.policy =T)"
   ]
  },
  {
   "cell_type": "code",
   "execution_count": 38,
   "metadata": {},
   "outputs": [],
   "source": [
    "#test for spatial autocorrelation in the residuals\n",
    "sgm.hot.MI <- moran.mc(x=residuals(glm.hot), listw=listw, nsim=1000, zero.policy =T)"
   ]
  },
  {
   "cell_type": "code",
   "execution_count": 39,
   "metadata": {},
   "outputs": [],
   "source": [
    "##create combined table of Moran I test results\n",
    "sp <- tidy(sgm.sp.MI) %>% mutate(Model = \"Species\")\n",
    "pa <- tidy(sgm.pa.MI) %>% mutate(Model = \"PAs\")\n",
    "kba <- tidy(sgm.kba.MI) %>% mutate(Model = \"KBAs\")\n",
    "hot <- tidy(sgm.hot.MI) %>% mutate(Model = \"Hotspots\")\n",
    "sgm.MIs <- bind_rows(sp,pa,kba,hot) %>% dplyr::select(Model,statistic,p.value)"
   ]
  },
  {
   "cell_type": "code",
   "execution_count": 40,
   "metadata": {},
   "outputs": [
    {
     "data": {
      "text/html": [
       "<table>\n",
       "<thead><tr><th scope=col>Model</th><th scope=col>statistic</th><th scope=col>p.value</th></tr></thead>\n",
       "<tbody>\n",
       "\t<tr><td>Species    </td><td>-0.05756404</td><td>0.999001   </td></tr>\n",
       "\t<tr><td>PAs        </td><td>-0.05839255</td><td>0.999001   </td></tr>\n",
       "\t<tr><td>KBAs       </td><td>-0.05827617</td><td>0.999001   </td></tr>\n",
       "\t<tr><td>Hotspots   </td><td>-0.05253696</td><td>0.999001   </td></tr>\n",
       "</tbody>\n",
       "</table>\n"
      ],
      "text/latex": [
       "\\begin{tabular}{r|lll}\n",
       " Model & statistic & p.value\\\\\n",
       "\\hline\n",
       "\t Species     & -0.05756404 & 0.999001   \\\\\n",
       "\t PAs         & -0.05839255 & 0.999001   \\\\\n",
       "\t KBAs        & -0.05827617 & 0.999001   \\\\\n",
       "\t Hotspots    & -0.05253696 & 0.999001   \\\\\n",
       "\\end{tabular}\n"
      ],
      "text/markdown": [
       "\n",
       "| Model | statistic | p.value |\n",
       "|---|---|---|\n",
       "| Species     | -0.05756404 | 0.999001    |\n",
       "| PAs         | -0.05839255 | 0.999001    |\n",
       "| KBAs        | -0.05827617 | 0.999001    |\n",
       "| Hotspots    | -0.05253696 | 0.999001    |\n",
       "\n"
      ],
      "text/plain": [
       "  Model    statistic   p.value \n",
       "1 Species  -0.05756404 0.999001\n",
       "2 PAs      -0.05839255 0.999001\n",
       "3 KBAs     -0.05827617 0.999001\n",
       "4 Hotspots -0.05253696 0.999001"
      ]
     },
     "metadata": {},
     "output_type": "display_data"
    }
   ],
   "source": [
    "sgm.MIs"
   ]
  },
  {
   "cell_type": "code",
   "execution_count": 41,
   "metadata": {},
   "outputs": [],
   "source": [
    "##write results as a csv\n",
    "write.csv(sgm.MIs, \"Figures/simp_g_mod_MI_moll_5km.csv\",row.names = F)"
   ]
  },
  {
   "cell_type": "markdown",
   "metadata": {},
   "source": [
    "## Complex models "
   ]
  },
  {
   "cell_type": "code",
   "execution_count": 4,
   "metadata": {},
   "outputs": [],
   "source": [
    "##read in country level predictors and merge into one dataset - taking the avergae value for the time period\n",
    "cpi <- read.csv(paste(path,\"other_data/cpi.csv\", sep=\"\"))\n",
    "gni <- read.csv(paste(path,\"other_data/GNI_per_cap.csv\", sep =\"\"))\n",
    "\n",
    "##merge datasets \n",
    "cnty_vars <- dplyr::select(gni, Country.Code, avg_GNI) %>%\n",
    "                left_join(dplyr::select(cpi, country_code, avg_cpi), by = c(\"Country.Code\" = \"country_code\"))"
   ]
  },
  {
   "cell_type": "code",
   "execution_count": 5,
   "metadata": {},
   "outputs": [],
   "source": [
    "##read in human popultion at the cell level and join to the dataset - using the avge of pop from 2000-2015\n",
    "pop_00_in <- raster(paste(path,\"other_data/gpw_v4_population_count_adjusted_to_2015_unwpp_country_totals_rev11_2000_2pt5_min.tif\",sep=\"\"))\n",
    "names(pop_00_in) <- \"pop_00\"\n",
    "\n",
    "pop_05_in <- raster(paste(path,\"other_data/gpw_v4_population_count_adjusted_to_2015_unwpp_country_totals_rev11_2005_2pt5_min.tif\", sep =\"\"))\n",
    "names(pop_05_in) <- \"pop_05\"\n",
    "\n",
    "pop_10_in <- raster(paste(path,\"other_data/gpw_v4_population_count_adjusted_to_2015_unwpp_country_totals_rev11_2010_2pt5_min.tif\", sep =\"\"))\n",
    "names(pop_10_in) <- \"pop_10\"\n",
    "\n",
    "pop_15_in <- raster(paste(path,\"other_data/gpw_v4_population_count_adjusted_to_2015_unwpp_country_totals_rev11_2015_2pt5_min.tif\", sep =\"\"))\n",
    "names(pop_15_in) <- \"pop_15\""
   ]
  },
  {
   "cell_type": "code",
   "execution_count": null,
   "metadata": {},
   "outputs": [],
   "source": [
    "####reproject to correct projection and resample to the base raster \n",
    "pop_00 <- resample(projectRaster(pop_00_in, base5), base5, method =\"bilinear\")\n",
    "pop_05 <- resample(projectRaster(pop_05_in, base5), base5, method =\"bilinear\")\n",
    "pop_10 <- resample(projectRaster(pop_10_in, base5), base5, method =\"bilinear\")\n",
    "pop_15 <- resample( projectRaster(pop_15_in, base5), base5, method =\"bilinear\")"
   ]
  },
  {
   "cell_type": "code",
   "execution_count": null,
   "metadata": {},
   "outputs": [],
   "source": [
    "##create a dataframe\n",
    "pop_stack <- stack(pop_00, pop_05, pop_10, pop_15, base5)\n",
    "pop <- as.data.frame(pop_stack, xy = T, centroids = T)\n",
    "#create avergae populaiton varable \n",
    "pop$avg_pop <- (pop$pop_00 + pop$pop_05 + pop$pop_10 + pop$pop_15) /4"
   ]
  },
  {
   "cell_type": "code",
   "execution_count": null,
   "metadata": {},
   "outputs": [],
   "source": [
    "##join to main dataset\n",
    "data5.1 <- left_join(data5, dplyr::select(pop, ID, avg_pop), by=\"ID\") %>% mutate(avg_pop = replace(avg_pop, is.na(avg_pop), 0)) %>% \n",
    "                    left_join(cnty_vars,  by = c(\"GID_0\"= \"Country.Code\")) %>% filter(avg_GNI >0 & avg_cpi > 0) %>% \n",
    "                        mutate(pop_norm = (avg_pop - mean(avg_pop))/ (2*sd(avg_pop)), \n",
    "                                            gni_norm = (avg_GNI - mean(avg_GNI, na.rm = T))/ (2*sd(avg_GNI)),\n",
    "                                                        cpi_norm = (avg_cpi - mean(avg_cpi, na.rm = T))/ (2*sd(avg_cpi))) %>% droplevels()"
   ]
  },
  {
   "cell_type": "markdown",
   "metadata": {},
   "source": [
    "### some NAs values so need to repeat the spatil statistics steps to create new lists of neighbours and auto covarites"
   ]
  },
  {
   "cell_type": "code",
   "execution_count": null,
   "metadata": {},
   "outputs": [],
   "source": [
    "##create vector with disances to nearest neighbour\n",
    "data5.1$nndist <-nndist(data5.1$x, data5.1$y)"
   ]
  },
  {
   "cell_type": "code",
   "execution_count": null,
   "metadata": {},
   "outputs": [],
   "source": [
    "##filter to jsut those points with a direct neighbour\n",
    "data5.1 <- filter(data5.1, nndist < 5001)"
   ]
  },
  {
   "cell_type": "code",
   "execution_count": 53,
   "metadata": {},
   "outputs": [],
   "source": [
    "##create list of cordinets of centroids of the cells\n",
    "xy5.1 <- as.matrix(cbind(data5.1$x, data5.1$y))"
   ]
  },
  {
   "cell_type": "code",
   "execution_count": null,
   "metadata": {},
   "outputs": [],
   "source": [
    "##create neghbours object based on distacne = this is all queens case neighbours (i.e 1.5 times the distnace betweeen centroids.)\n",
    "#nb5.1 <- dnearneigh(xy5.1, d1 = 4900, d2 =7500,  row.names = data5.1$ID)"
   ]
  },
  {
   "cell_type": "code",
   "execution_count": null,
   "metadata": {},
   "outputs": [],
   "source": [
    "##change a list of weights object\n",
    "#listw5.1 <- nb2listw(nb5.1, style = \"B\")"
   ]
  },
  {
   "cell_type": "code",
   "execution_count": 56,
   "metadata": {},
   "outputs": [],
   "source": [
    "##alternative means of creating listw for 5.1 dataset - reduces computation time\n",
    "listw5.1 <- subset(listw, data5$ID %in% data5.1$ID)"
   ]
  },
  {
   "cell_type": "code",
   "execution_count": 7,
   "metadata": {},
   "outputs": [],
   "source": [
    "##save/laod olistW objects \n",
    "save(listw5.1, file = 'R_objects/listw5_1.rda')\n",
    "#load('R_objects/listw5_1.rda')"
   ]
  },
  {
   "cell_type": "code",
   "execution_count": null,
   "metadata": {},
   "outputs": [],
   "source": [
    "#calculate the autocoverate for 5.1 dataset\n",
    "data5.1$ac <-lag.listw(x = listw5.1, var=as.numeric(as.character(data5.1$bin_p)))"
   ]
  },
  {
   "cell_type": "code",
   "execution_count": 86,
   "metadata": {},
   "outputs": [],
   "source": [
    "#complex global model for species\n",
    "glmm.sp <- glmer(bin_p ~ ac + pop_norm + sp_norm + gni_norm + cpi_norm + (1|NAME_0), family=binomial, data=data5.1)"
   ]
  },
  {
   "cell_type": "code",
   "execution_count": 89,
   "metadata": {},
   "outputs": [],
   "source": [
    "#complex global model for PAs\n",
    "glmm.pa <- glmer(bin_p ~ ac + pop_norm + bin_pa + gni_norm + cpi_norm + (1|NAME_0), family=binomial, data=data5.1)"
   ]
  },
  {
   "cell_type": "code",
   "execution_count": 90,
   "metadata": {},
   "outputs": [],
   "source": [
    "#complex global model for KBAs\n",
    "glmm.kba <- glmer(bin_p~ ac + pop_norm + bin_kba + gni_norm + cpi_norm + (1|NAME_0), family=binomial, data=data5.1)"
   ]
  },
  {
   "cell_type": "code",
   "execution_count": null,
   "metadata": {},
   "outputs": [],
   "source": [
    "#complex global model for hotspots\n",
    "glmm.hot <- glmer(bin_p~ ac + pop_norm + bin_hot + gni_norm + cpi_norm + (1|NAME_0), family=binomial, data=data5.1)"
   ]
  },
  {
   "cell_type": "code",
   "execution_count": 148,
   "metadata": {},
   "outputs": [],
   "source": [
    "##save models as objects\n",
    "save(glmm.sp, file = paste0(path,'R_objects/m2sp.rda'))\n",
    "save(glmm.pa, file = paste0(path,'R_objects/m2pa.rda'))\n",
    "save(glmm.kba, file = paste0(path,'R_objects/m2kba.rda'))\n",
    "save(glmm.hot, file = paste0(path,'R_objects/m2hot.rda'))"
   ]
  },
  {
   "cell_type": "code",
   "execution_count": 8,
   "metadata": {},
   "outputs": [],
   "source": [
    "##load models\n",
    "#load(paste0(path,'R_objects/m2sp.rda'))\n",
    "#load(paste0(path,'R_objects/m2pa.rda'))\n",
    "#load(paste0(path,'R_objects/m2kba.rda'))\n",
    "#load(paste0(path,'R_objects/m2hot.rda'))"
   ]
  },
  {
   "cell_type": "code",
   "execution_count": null,
   "metadata": {},
   "outputs": [],
   "source": [
    "##table of coefficents of complex global models\n",
    "stargazer(glmm.sp,glmm.pa, glmm.kba, glmm.hot, type=\"html\",out=\"Figures/com_g_models_moll_5.htm\")"
   ]
  },
  {
   "cell_type": "code",
   "execution_count": null,
   "metadata": {},
   "outputs": [],
   "source": [
    "##create simulated quantile residuals using the DHARMA package\n",
    "res_glmm.sp <- residuals(simulateResiduals(fittedModel = glmm.sp))"
   ]
  },
  {
   "cell_type": "code",
   "execution_count": 12,
   "metadata": {},
   "outputs": [],
   "source": [
    "#test for spatial autocorrelation in the residuals\n",
    "cgm.sp.MI <- moran.mc(x=res_glmm.sp, listw=listw5.1, nsim=1000, zero.policy =T)"
   ]
  },
  {
   "cell_type": "code",
   "execution_count": 103,
   "metadata": {},
   "outputs": [],
   "source": [
    "##create simulated quantile residuals suing the DHARMA package\n",
    "res_glmm.pa <- residuals(simulateResiduals(fittedModel = glmm.pa))"
   ]
  },
  {
   "cell_type": "code",
   "execution_count": 13,
   "metadata": {},
   "outputs": [],
   "source": [
    "#test for spatial autocorrelation in the residuals\n",
    "cgm.pa.MI <- moran.mc(x=res_glmm.pa, listw=listw5.1, nsim=1000, zero.policy =T)"
   ]
  },
  {
   "cell_type": "code",
   "execution_count": null,
   "metadata": {},
   "outputs": [],
   "source": [
    "##create simulated quantile residuals using the DHARMA package\n",
    "res_glmm.kba <- residuals(simulateResiduals(fittedModel = glmm.kba))"
   ]
  },
  {
   "cell_type": "code",
   "execution_count": null,
   "metadata": {},
   "outputs": [],
   "source": [
    "#test for spatial autocorrelation in the residuals\n",
    "cgm.kba.MI <- moran.mc(x= res_glmm.kba, listw=listw5.1, nsim=1000, zero.policy =T)"
   ]
  },
  {
   "cell_type": "code",
   "execution_count": null,
   "metadata": {},
   "outputs": [],
   "source": [
    "##create simulated quantile residuals using the DHARMA package\n",
    "res_glmm.hot <- residuals(simulateResiduals(fittedModel = glmm.hot))"
   ]
  },
  {
   "cell_type": "code",
   "execution_count": null,
   "metadata": {},
   "outputs": [],
   "source": [
    "#test for spatial autocorrelation in the residuals\n",
    "cgm.hot.MI <- moran.mc(x=res_glmm.hot, listw=listw5.1, nsim=1000, zero.policy =T)"
   ]
  },
  {
   "cell_type": "code",
   "execution_count": null,
   "metadata": {},
   "outputs": [],
   "source": [
    "##create combined table of Moran I test results\n",
    "sp <- tidy(cgm.sp.MI) %>% mutate(Model = \"Species\")\n",
    "pa <- tidy(cgm.pa.MI) %>% mutate(Model = \"PAs\")\n",
    "kba <- tidy(cgm.kba.MI) %>% mutate(Model = \"KBAs\")\n",
    "hot <- tidy(cgm.hot.MI) %>% mutate(Model = \"Hotspots\")\n",
    "cgm.MIs <- bind_rows(sp,pa,kba,hot) %>% dplyr::select(Model,statistic,p.value)"
   ]
  },
  {
   "cell_type": "code",
   "execution_count": null,
   "metadata": {},
   "outputs": [],
   "source": [
    "##write results of MI tests to a csv\n",
    "write.csv(cgm.MIs, \"Figures/cg_MI_moll_5km.csv\",row.names = F)"
   ]
  },
  {
   "cell_type": "code",
   "execution_count": 74,
   "metadata": {},
   "outputs": [],
   "source": [
    "##create table of model results to make plots for simple global models using brooms tidy function \n",
    "sp <- tidy(glm.sp) %>% mutate(Metric = \"Species\")\n",
    "pa <- tidy(glm.pa) %>% mutate(Metric = \"PAs\")\n",
    "kba <- tidy(glm.kba) %>% mutate(Metric = \"KBAs\")\n",
    "hot <- tidy (glm.hot) %>% mutate(Metric = \"Hotspots\")\n",
    "sg_models <- bind_rows(sp,pa,kba,hot) %>% mutate(model = \"Simple\")"
   ]
  },
  {
   "cell_type": "code",
   "execution_count": 75,
   "metadata": {},
   "outputs": [],
   "source": [
    "##cereate table of complex global model results\n",
    "sp <- tidy(glmm.sp) %>% mutate(Metric = \"Species\")\n",
    "pa <- tidy(glmm.pa) %>% mutate(Metric = \"PAs\")\n",
    "kba <- tidy (glmm.kba) %>% mutate(Metric = \"KBAs\")\n",
    "hot <- tidy (glmm.hot) %>% mutate(Metric = \"Hotspots\")\n",
    "cg_models <- bind_rows(sp,pa,kba,hot) %>% filter(cg_models, effect ==\"fixed\") %>% mutate(model = \"Complex\")\n",
    "\n",
    "#merege into asingle table of resutls and filter to just the effects of conservation metrics\n",
    "global <- bind_rows(sg_models, cg_models) %>% filter(global, term %in% c(\"sp_norm\", \"bin_pa1\", \"bin_kba1\", \"bin_hot1\"))"
   ]
  },
  {
   "cell_type": "code",
   "execution_count": 50,
   "metadata": {},
   "outputs": [
    {
     "data": {
      "image/png": "[encoded data removed]",
      "text/plain": [
       "plot without title"
      ]
     },
     "metadata": {
      "image/png": {
       "height": 420,
       "width": 420
      }
     },
     "output_type": "display_data"
    }
   ],
   "source": [
    "##plot of the conservtion metrics effects for both models\n",
    "pd <- position_dodge(width = 0.2)\n",
    "Palette <- c (\"#000000\",\"#7E7C7C\")\n",
    "models <- ggplot(data = global, aes(x = Metric, y = estimate))+ \n",
    "geom_linerange(aes(ymin=estimate - (std.error *1.96) , ymax = estimate + (std.error*1.96),colour = model), position=pd, size = .7) +\n",
    "geom_pointrange(aes(ymin=estimate-(std.error*1.28), ymax = estimate + (std.error*1.28),\n",
    "                    colour = model), fatten = 1.5, size = 1.2, shape=22, fill = \"#FFFFFF\", position=pd) +\n",
    "geom_hline(yintercept=0, linetype = \"dashed\") + coord_flip() +\n",
    "theme_bw() + theme(legend.position = \"bottom\", legend.justification='left', legend.title = element_blank(), legend.spacing.x = unit(c(0.),\"cm\"), \n",
    "                  legend.text = element_text(margin = margin(l = 1, r = 10)),) + \n",
    "                   #text = element_text(size=10), \n",
    "                   #plot.margin = unit(c(0.05,0.05,0.5,0.5), \"cm\")) + \n",
    "ylab(\"Effect (logit)\") + scale_colour_manual(values = Palette, labels = c(\"Auto-covariate + Metric + GNI + CPI + Population\", \"Auto-covariate + Metric\")) \n",
    "models"
   ]
  },
  {
   "cell_type": "code",
   "execution_count": 53,
   "metadata": {},
   "outputs": [],
   "source": [
    "##save the plot\n",
    "ggsave(filename = \"Figures/global_models_moll_5.png\", plot = models, width=15, height=10, units=\"cm\", dpi=1000)"
   ]
  },
  {
   "cell_type": "code",
   "execution_count": 83,
   "metadata": {},
   "outputs": [],
   "source": [
    "###summary of results\n",
    "global <- global %>% mutate(p.value2 = round(p.value,4),low_ci = round(estimate-(std.error*1.96),2), \n",
    "                            up_ci = round(estimate+(std.error*1.96),2), est_round = round(estimate,2))"
   ]
  },
  {
   "cell_type": "code",
   "execution_count": 84,
   "metadata": {},
   "outputs": [
    {
     "data": {
      "text/html": [
       "<table>\n",
       "<thead><tr><th scope=col>term</th><th scope=col>estimate</th><th scope=col>std.error</th><th scope=col>statistic</th><th scope=col>p.value</th><th scope=col>Metric</th><th scope=col>model</th><th scope=col>effect</th><th scope=col>group</th><th scope=col>low_ci</th><th scope=col>up_ci</th><th scope=col>est_round</th><th scope=col>p.value2</th></tr></thead>\n",
       "<tbody>\n",
       "\t<tr><td>sp_norm      </td><td> 0.36244979  </td><td>0.01434142   </td><td>25.272928    </td><td>6.340611e-141</td><td>Species      </td><td>Simple       </td><td>NA           </td><td>NA           </td><td> 0.33        </td><td> 0.39        </td><td> 0.36        </td><td>0e+00        </td></tr>\n",
       "\t<tr><td>bin_pa1      </td><td>-0.22257377  </td><td>0.03870861   </td><td>-5.749981    </td><td> 8.925357e-09</td><td>PAs          </td><td>Simple       </td><td>NA           </td><td>NA           </td><td>-0.30        </td><td>-0.15        </td><td>-0.22        </td><td>0e+00        </td></tr>\n",
       "\t<tr><td>bin_kba1     </td><td> 0.16583995  </td><td>0.02629693   </td><td> 6.306438    </td><td> 2.855305e-10</td><td>KBAs         </td><td>Simple       </td><td>NA           </td><td>NA           </td><td> 0.11        </td><td> 0.22        </td><td> 0.17        </td><td>0e+00        </td></tr>\n",
       "\t<tr><td>bin_hot1     </td><td> 0.83898309  </td><td>0.01894574   </td><td>44.283480    </td><td> 0.000000e+00</td><td>Hotspots     </td><td>Simple       </td><td>NA           </td><td>NA           </td><td> 0.80        </td><td> 0.88        </td><td> 0.84        </td><td>0e+00        </td></tr>\n",
       "\t<tr><td>sp_norm      </td><td> 0.09036662  </td><td>0.02720817   </td><td> 3.321305    </td><td> 8.959761e-04</td><td>Species      </td><td>Complex      </td><td>fixed        </td><td>NA           </td><td> 0.04        </td><td> 0.14        </td><td> 0.09        </td><td>9e-04        </td></tr>\n",
       "\t<tr><td>bin_pa1      </td><td>-0.38381247  </td><td>0.04124190   </td><td>-9.306372    </td><td> 1.322739e-20</td><td>PAs          </td><td>Complex      </td><td>fixed        </td><td>NA           </td><td>-0.46        </td><td>-0.30        </td><td>-0.38        </td><td>0e+00        </td></tr>\n",
       "\t<tr><td>bin_kba1     </td><td>-0.15967054  </td><td>0.02704859   </td><td>-5.903099    </td><td> 3.567355e-09</td><td>KBAs         </td><td>Complex      </td><td>fixed        </td><td>NA           </td><td>-0.21        </td><td>-0.11        </td><td>-0.16        </td><td>0e+00        </td></tr>\n",
       "\t<tr><td>bin_hot1     </td><td> 0.51759529  </td><td>0.02756148   </td><td>18.779659    </td><td> 1.107882e-78</td><td>Hotspots     </td><td>Complex      </td><td>fixed        </td><td>NA           </td><td> 0.46        </td><td> 0.57        </td><td> 0.52        </td><td>0e+00        </td></tr>\n",
       "</tbody>\n",
       "</table>\n"
      ],
      "text/latex": [
       "\\begin{tabular}{r|lllllllllllll}\n",
       " term & estimate & std.error & statistic & p.value & Metric & model & effect & group & low\\_ci & up\\_ci & est\\_round & p.value2\\\\\n",
       "\\hline\n",
       "\t sp\\_norm     &  0.36244979   & 0.01434142    & 25.272928     & 6.340611e-141 & Species       & Simple        & NA            & NA            &  0.33         &  0.39         &  0.36         & 0e+00        \\\\\n",
       "\t bin\\_pa1     & -0.22257377   & 0.03870861    & -5.749981     &  8.925357e-09 & PAs           & Simple        & NA            & NA            & -0.30         & -0.15         & -0.22         & 0e+00        \\\\\n",
       "\t bin\\_kba1    &  0.16583995   & 0.02629693    &  6.306438     &  2.855305e-10 & KBAs          & Simple        & NA            & NA            &  0.11         &  0.22         &  0.17         & 0e+00        \\\\\n",
       "\t bin\\_hot1    &  0.83898309   & 0.01894574    & 44.283480     &  0.000000e+00 & Hotspots      & Simple        & NA            & NA            &  0.80         &  0.88         &  0.84         & 0e+00        \\\\\n",
       "\t sp\\_norm     &  0.09036662   & 0.02720817    &  3.321305     &  8.959761e-04 & Species       & Complex       & fixed         & NA            &  0.04         &  0.14         &  0.09         & 9e-04        \\\\\n",
       "\t bin\\_pa1     & -0.38381247   & 0.04124190    & -9.306372     &  1.322739e-20 & PAs           & Complex       & fixed         & NA            & -0.46         & -0.30         & -0.38         & 0e+00        \\\\\n",
       "\t bin\\_kba1    & -0.15967054   & 0.02704859    & -5.903099     &  3.567355e-09 & KBAs          & Complex       & fixed         & NA            & -0.21         & -0.11         & -0.16         & 0e+00        \\\\\n",
       "\t bin\\_hot1    &  0.51759529   & 0.02756148    & 18.779659     &  1.107882e-78 & Hotspots      & Complex       & fixed         & NA            &  0.46         &  0.57         &  0.52         & 0e+00        \\\\\n",
       "\\end{tabular}\n"
      ],
      "text/markdown": [
       "\n",
       "| term | estimate | std.error | statistic | p.value | Metric | model | effect | group | low_ci | up_ci | est_round | p.value2 |\n",
       "|---|---|---|---|---|---|---|---|---|---|---|---|---|\n",
       "| sp_norm       |  0.36244979   | 0.01434142    | 25.272928     | 6.340611e-141 | Species       | Simple        | NA            | NA            |  0.33         |  0.39         |  0.36         | 0e+00         |\n",
       "| bin_pa1       | -0.22257377   | 0.03870861    | -5.749981     |  8.925357e-09 | PAs           | Simple        | NA            | NA            | -0.30         | -0.15         | -0.22         | 0e+00         |\n",
       "| bin_kba1      |  0.16583995   | 0.02629693    |  6.306438     |  2.855305e-10 | KBAs          | Simple        | NA            | NA            |  0.11         |  0.22         |  0.17         | 0e+00         |\n",
       "| bin_hot1      |  0.83898309   | 0.01894574    | 44.283480     |  0.000000e+00 | Hotspots      | Simple        | NA            | NA            |  0.80         |  0.88         |  0.84         | 0e+00         |\n",
       "| sp_norm       |  0.09036662   | 0.02720817    |  3.321305     |  8.959761e-04 | Species       | Complex       | fixed         | NA            |  0.04         |  0.14         |  0.09         | 9e-04         |\n",
       "| bin_pa1       | -0.38381247   | 0.04124190    | -9.306372     |  1.322739e-20 | PAs           | Complex       | fixed         | NA            | -0.46         | -0.30         | -0.38         | 0e+00         |\n",
       "| bin_kba1      | -0.15967054   | 0.02704859    | -5.903099     |  3.567355e-09 | KBAs          | Complex       | fixed         | NA            | -0.21         | -0.11         | -0.16         | 0e+00         |\n",
       "| bin_hot1      |  0.51759529   | 0.02756148    | 18.779659     |  1.107882e-78 | Hotspots      | Complex       | fixed         | NA            |  0.46         |  0.57         |  0.52         | 0e+00         |\n",
       "\n"
      ],
      "text/plain": [
       "  term     estimate    std.error  statistic p.value       Metric   model  \n",
       "1 sp_norm   0.36244979 0.01434142 25.272928 6.340611e-141 Species  Simple \n",
       "2 bin_pa1  -0.22257377 0.03870861 -5.749981  8.925357e-09 PAs      Simple \n",
       "3 bin_kba1  0.16583995 0.02629693  6.306438  2.855305e-10 KBAs     Simple \n",
       "4 bin_hot1  0.83898309 0.01894574 44.283480  0.000000e+00 Hotspots Simple \n",
       "5 sp_norm   0.09036662 0.02720817  3.321305  8.959761e-04 Species  Complex\n",
       "6 bin_pa1  -0.38381247 0.04124190 -9.306372  1.322739e-20 PAs      Complex\n",
       "7 bin_kba1 -0.15967054 0.02704859 -5.903099  3.567355e-09 KBAs     Complex\n",
       "8 bin_hot1  0.51759529 0.02756148 18.779659  1.107882e-78 Hotspots Complex\n",
       "  effect group low_ci up_ci est_round p.value2\n",
       "1 NA     NA     0.33   0.39  0.36     0e+00   \n",
       "2 NA     NA    -0.30  -0.15 -0.22     0e+00   \n",
       "3 NA     NA     0.11   0.22  0.17     0e+00   \n",
       "4 NA     NA     0.80   0.88  0.84     0e+00   \n",
       "5 fixed  NA     0.04   0.14  0.09     9e-04   \n",
       "6 fixed  NA    -0.46  -0.30 -0.38     0e+00   \n",
       "7 fixed  NA    -0.21  -0.11 -0.16     0e+00   \n",
       "8 fixed  NA     0.46   0.57  0.52     0e+00   "
      ]
     },
     "metadata": {},
     "output_type": "display_data"
    }
   ],
   "source": [
    "global"
   ]
  },
  {
   "cell_type": "code",
   "execution_count": null,
   "metadata": {},
   "outputs": [],
   "source": [
    "##write model results to csv\n",
    "write.csv(global, 'Data/global_models_5km.csv')"
   ]
  },
  {
   "cell_type": "markdown",
   "metadata": {},
   "source": [
    "## Country level models"
   ]
  },
  {
   "cell_type": "code",
   "execution_count": 147,
   "metadata": {},
   "outputs": [
    {
     "name": "stderr",
     "output_type": "stream",
     "text": [
      "`summarise()` ungrouping output (override with `.groups` argument)\n",
      "\n"
     ]
    }
   ],
   "source": [
    "##create country dataset with proportion of countries cells with projects and biodiversity metircs, along with other metrics\n",
    "country <- dplyr::select(data5, GID_0, bin_p, sp_count, bin_pa, bin_kba, bin_hot) %>%\n",
    "group_by(GID_0) %>%\n",
    "summarise(prj_tot = sum(as.numeric(as.character(bin_p))), sp_avg = mean(sp_count),  \n",
    "          size = length(bin_p), per_prj = (prj_tot /size) * 100, sp_sd = sd(sp_count), \n",
    "          pa = sum(as.numeric(as.character(bin_pa))), kba = sum(as.numeric(as.character(bin_kba))),\n",
    "          hot = sum(as.numeric(as.character(bin_hot))), per_pa = (pa/size) * 100, per_kba = (kba/size) *100, per_hot = (hot/size) *100)"
   ]
  },
  {
   "cell_type": "code",
   "execution_count": 149,
   "metadata": {},
   "outputs": [],
   "source": [
    "##create dataset with only countries with a project \n",
    "data5.2 <- left_join(data5, country, by = \"GID_0\") %>% filter(data5.2, prj_tot > 0)"
   ]
  },
  {
   "cell_type": "code",
   "execution_count": 153,
   "metadata": {},
   "outputs": [],
   "source": [
    "##create vector with disances to nearest neighbour for the new dataset\n",
    "data5.2$nndist <-nndist(data5.2$x, data5.2$y)"
   ]
  },
  {
   "cell_type": "code",
   "execution_count": 154,
   "metadata": {},
   "outputs": [],
   "source": [
    "##filter to just those points with a direct neighbour\n",
    "data5.2 <- filter(data5.2, nndist < 5001)"
   ]
  },
  {
   "cell_type": "code",
   "execution_count": 155,
   "metadata": {},
   "outputs": [],
   "source": [
    "##create list of coorindates of centroids of the cells\n",
    "xy5.2 <- as.matrix(cbind(data5.2$x, data5.2$y))"
   ]
  },
  {
   "cell_type": "code",
   "execution_count": null,
   "metadata": {},
   "outputs": [],
   "source": [
    "##Create lsitW object for 5.2 dataset - fast method\n",
    "listw5.2 <- subset(listw5, data5$ID %in% data5.2$ID)"
   ]
  },
  {
   "cell_type": "code",
   "execution_count": null,
   "metadata": {},
   "outputs": [],
   "source": [
    "save(listw5.2, file = 'R_objects/listw5_2.rda')"
   ]
  },
  {
   "cell_type": "code",
   "execution_count": null,
   "metadata": {},
   "outputs": [],
   "source": [
    "#calculate the autocoverate\n",
    "data5.2$ac <-lag.listw(x = listw5.2, var=as.numeric(as.character(data5.2$bin_p)))"
   ]
  },
  {
   "cell_type": "code",
   "execution_count": 6,
   "metadata": {},
   "outputs": [],
   "source": [
    "##write dataset\n",
    "write.csv(data5.2,\"Data/wb_global_data_moll_5_2.csv\")\n",
    "#data5.2 <- read.csv(\"Data/wb_global_data_moll_5_2.csv\") %>% mutate(bin_p = as.factor(bin_p), bin_kba = as.factor(bin_kba),\n",
    " #                                                                   bin_hot = as.factor(bin_hot), bin_pa = as.factor(bin_pa))"
   ]
  },
  {
   "cell_type": "code",
   "execution_count": 7,
   "metadata": {},
   "outputs": [
    {
     "name": "stderr",
     "output_type": "stream",
     "text": [
      "`summarise()` ungrouping output (override with `.groups` argument)\n",
      "\n"
     ]
    }
   ],
   "source": [
    "##create dataset of country level means\n",
    "c_means <- dplyr::select(data5.2, GID_0, bin_p, sp_count, bin_pa, bin_kba, bin_hot) %>% group_by(GID_0) %>% \n",
    "                    summarise(cm_sp = mean(sp_count), cm_pa = mean(as.numeric(as.character(bin_pa))), \n",
    "                              cm_kba = mean(as.numeric(as.character(bin_kba))), mean_hot = mean(as.numeric(as.character(bin_hot))))"
   ]
  },
  {
   "cell_type": "code",
   "execution_count": 8,
   "metadata": {},
   "outputs": [],
   "source": [
    "##add country means to dataset and calcaute country mean centred metircs (value for each cell minus its country mean)\n",
    "data5.2 <- left_join(data5.2, c_means, by = \"GID_0\") %>% mutate(cc_sp = sp_count - cm_sp, \n",
    "                                                             cc_pa = as.numeric(as.character(bin_pa)) - cm_pa,\n",
    "                                                             cc_kba = as.numeric(as.character(bin_kba)) - cm_kba)"
   ]
  },
  {
   "cell_type": "code",
   "execution_count": 27,
   "metadata": {},
   "outputs": [],
   "source": [
    "###country level models with a random slope and intercept\n",
    "rs.glmm.sp <- glmer(bin_p ~ ac + cm_sp + cc_sp + (1+cc_sp|NAME_0), family=binomial, data=data5.2)"
   ]
  },
  {
   "cell_type": "code",
   "execution_count": 15,
   "metadata": {},
   "outputs": [
    {
     "name": "stderr",
     "output_type": "stream",
     "text": [
      "Warning message in checkConv(attr(opt, \"derivs\"), opt$par, ctrl = control$checkConv, :\n",
      "“Model failed to converge with max|grad| = 0.00262944 (tol = 0.002, component 1)”\n"
     ]
    }
   ],
   "source": [
    "##country level models with a random slope and intercept - get starting values to ensure model convergance\n",
    "rs.glmm.kba.start <- glmer(bin_p~ ac + cm_kba + cc_kba + (1+cc_kba|NAME_0), family=binomial, data=data5.2)"
   ]
  },
  {
   "cell_type": "code",
   "execution_count": 24,
   "metadata": {},
   "outputs": [],
   "source": [
    "##use statring values for final model\n",
    "ss <- getME(rs.glmm.kba.start,c(\"theta\",\"fixef\"))\n",
    "rs.glmm.kba <- update(rs.glmm.kba.start,start=ss, data=data5.2,\n",
    "                     control = glmerControl(optimizer = \"nloptwrap\", optCtrl = list(algorithm = \"NLOPT_LN_BOBYQA\", maxfun = 1e+08)))"
   ]
  },
  {
   "cell_type": "code",
   "execution_count": null,
   "metadata": {},
   "outputs": [],
   "source": [
    "##country level models with a random slope and intercept - get starting values to ensure model convergance\n",
    "rs.glmm.pa.start <- glmer(bin_p~ ac + cm_pa + cc_pa + (1+cc_pa|NAME_0), family=binomial, data=data5.2, \n",
    "                           control = glmerControl(optimizer= \"bobyqa\", optCtrl = list(maxfun=900000000)))"
   ]
  },
  {
   "cell_type": "code",
   "execution_count": null,
   "metadata": {},
   "outputs": [],
   "source": [
    "##use statring values for final model\n",
    "ss <- getME(rs.glmm.pa.start,c(\"theta\",\"fixef\"))\n",
    "rs.glmm.pa <- update(rs.glmm.pa.start,start=ss, control = glmerControl(optimizer= \"Nelder_Mead\", optCtrl = list(maxfun=900000000)))"
   ]
  },
  {
   "cell_type": "code",
   "execution_count": null,
   "metadata": {},
   "outputs": [],
   "source": [
    "##table of coefficents of country slope models - showing fixed effects\n",
    "stargazer(rs.glmm.sp,rs.glmm.pa, rs.glmm.kba, type=\"html\",out=\"Figures/cntry_models_moll.htm\")"
   ]
  },
  {
   "cell_type": "code",
   "execution_count": 4,
   "metadata": {},
   "outputs": [],
   "source": [
    "##save mdoels as objects\n",
    "save(rs.glmm.sp, file = 'R_objects/cntry_sp_model_5km.rda')\n",
    "save(rs.glmm.pa, file = 'R_objects/cntry_pa_model_5km.rda')\n",
    "save(rs.glmm.kba, file ='R_objects/cntry_kba_model_5km.rda')"
   ]
  },
  {
   "cell_type": "code",
   "execution_count": 4,
   "metadata": {},
   "outputs": [],
   "source": [
    "#Load models objects\n",
    "#load('R_objects/cntry_sp_model_5km.rda')\n",
    "#load('R_objects/cntry_pa_model_5km.rda')\n",
    "#load('R_objects/cntry_kba_model_5km.rda')"
   ]
  },
  {
   "cell_type": "code",
   "execution_count": 38,
   "metadata": {},
   "outputs": [],
   "source": [
    "##create simulated quantile residuals using the DHARMA package - this will take a lot of memory\n",
    "res_rs.sp <- residuals(simulateResiduals(fittedModel = rs.glmm.sp))"
   ]
  },
  {
   "cell_type": "code",
   "execution_count": 39,
   "metadata": {},
   "outputs": [],
   "source": [
    "##save residuals as object \n",
    "save(res_rs.sp, file = paste0(path, 'R_objects/res_rs_sp.rda'))"
   ]
  },
  {
   "cell_type": "code",
   "execution_count": null,
   "metadata": {},
   "outputs": [],
   "source": [
    "##create simulated quantile residuals using the DHARMA package - this will take a lot of memory\n",
    "res_rs.pa <- residuals(simulateResiduals(fittedModel = rs.glmm.pa))"
   ]
  },
  {
   "cell_type": "code",
   "execution_count": null,
   "metadata": {},
   "outputs": [],
   "source": [
    "##save residuals as object \n",
    "save(res_rs.pa, file = paste0(path, 'R_objects/res_rs_pa.rda'))"
   ]
  },
  {
   "cell_type": "code",
   "execution_count": null,
   "metadata": {},
   "outputs": [],
   "source": [
    "##create simulated quantile residuals using the DHARMA package - this will take a lot of memory\n",
    "res_rs.kba <- residuals(simulateResiduals(fittedModel = rs.glmm.kba))"
   ]
  },
  {
   "cell_type": "code",
   "execution_count": null,
   "metadata": {},
   "outputs": [],
   "source": [
    "##save residuals as object \n",
    "save(res_rs.kba, file = paste0(path, 'R_objects/res_rs_kba.rda'))"
   ]
  },
  {
   "cell_type": "code",
   "execution_count": 3,
   "metadata": {},
   "outputs": [],
   "source": [
    "##laod residuals for autocorrelation tests\n",
    "#load(paste0(path, 'R_objects/res_rs_sp.rda'))\n",
    "#load(paste0(path, 'R_objects/res_rs_pa.rda'))\n",
    "#load(paste0(path, 'R_objects/res_rs_kba.rda'))"
   ]
  },
  {
   "cell_type": "code",
   "execution_count": null,
   "metadata": {},
   "outputs": [],
   "source": [
    "#test for spatial autocorrelation in the residuals\n",
    "cm.sp.MI <- moran.mc(x=res_rs.sp, listw=listw5.2, nsim=1000, zero.policy =T)"
   ]
  },
  {
   "cell_type": "code",
   "execution_count": null,
   "metadata": {},
   "outputs": [],
   "source": [
    "#test for spatial autocorrelation in the residuals\n",
    "cm.pa.MI <- moran.mc(x=res_rs.pa, listw=listw5.2, nsim=1000, zero.policy =T)"
   ]
  },
  {
   "cell_type": "code",
   "execution_count": null,
   "metadata": {},
   "outputs": [],
   "source": [
    "#test for spatial autocorrelation in the residuals\n",
    "cm.kba.MI <- moran.mc(x=res_rs.kba, listw=listw5.2, nsim=1000, zero.policy =T)"
   ]
  },
  {
   "cell_type": "code",
   "execution_count": null,
   "metadata": {},
   "outputs": [],
   "source": [
    "##create combined table of Moran I test results\n",
    "sp <- tidy(cm.sp.MI) %>% mutate(Model = \"Species\")\n",
    "pa <- tidy(cm.pa.MI) %>% mutate(Model = \"PAs\")\n",
    "kba <- tidy(cm.kba.MI) %>% mutate(Model = \"KBAs\")\n",
    "cm.MIs <- bind_rows(sp,pa,kba) %>% dplyr::select(Model,statistic,p.value)"
   ]
  },
  {
   "cell_type": "code",
   "execution_count": null,
   "metadata": {},
   "outputs": [],
   "source": [
    "##save results of MI test as a csv\n",
    "write.csv(cm.MIs, \"Figures/cntry_MI_moll_5km.csv\",row.names = F)"
   ]
  },
  {
   "cell_type": "code",
   "execution_count": 7,
   "metadata": {},
   "outputs": [],
   "source": [
    "##extract the random effects of the species country models\n",
    "coefs.sp <- as.data.frame(ranef(rs.glmm.sp))  %>% gather(variable, value, -(grp:term)) %>%\n",
    "    unite(temp, term, variable) %>%\n",
    "    spread(temp, value)"
   ]
  },
  {
   "cell_type": "code",
   "execution_count": 8,
   "metadata": {},
   "outputs": [],
   "source": [
    "##add in the fixed effects for speices country models\n",
    "fix.sp <- coef(summary((rs.glmm.sp)))\n",
    "coefs.sp$fix_sp_est <- fix.sp[4,1]\n",
    "coefs.sp$fix_sp_sd <- fix.sp[4,2]"
   ]
  },
  {
   "cell_type": "code",
   "execution_count": 9,
   "metadata": {},
   "outputs": [],
   "source": [
    "##create a simulated distribution from the estimate and sd for both the fixed and random effects, \n",
    "#add them together and produice new combined effect estimate and sd\n",
    "\n",
    "sp.fix.sim <- rnorm(1000000,mean = fix.sp[4,1], sd =fix.sp[4,2])\n",
    "for (row in 1:nrow(coefs.sp)) {\n",
    "    sd.r <- coefs.sp[row,\"cc_sp_condsd\"]\n",
    "    u.r <- coefs.sp[row,\"cc_sp_condval\"]\n",
    "    r.sim <- rnorm(1000000, mean = as.numeric(u.r), sd = as.numeric(sd.r))\n",
    "    ef.sim <- r.sim + sp.fix.sim\n",
    "    coefs.sp[row,\"ef.sp.mean\"] <- mean(ef.sim) \n",
    "    coefs.sp[row,\"ef.sp.sd\"] <- sd(ef.sim)\n",
    "    }"
   ]
  },
  {
   "cell_type": "code",
   "execution_count": 10,
   "metadata": {},
   "outputs": [],
   "source": [
    "## create a variable of whether or not there is a significant effect at 80% CI\n",
    "coefs.sp$effect <- ifelse((coefs.sp$ef.sp.mean - coefs.sp$ef.sp.sd * 1.28) > 0 & (coefs.sp$ef.sp.mean + coefs.sp$ef.sp.sd * 1.28) > 0 | \n",
    "                          (coefs.sp$ef.sp.mean - coefs.sp$ef.sp.sd * 1.28) < 0 & (coefs.sp$ef.sp.mean + coefs.sp$ef.sp.sd * 1.28) < 0 , \"yes\", \"no\")    "
   ]
  },
  {
   "cell_type": "code",
   "execution_count": 35,
   "metadata": {},
   "outputs": [],
   "source": [
    "##reorder the dataset so factor is determined by sp_norm effect size\n",
    "coefs.sp <- coefs.sp %>% arrange(desc(-ef.sp.mean))\n",
    "coefs.sp$grp <- factor(coefs.sp$grp, levels=unique(coefs.sp$grp), ordered=TRUE)"
   ]
  },
  {
   "cell_type": "code",
   "execution_count": 36,
   "metadata": {},
   "outputs": [],
   "source": [
    "##combined fixed and random effect country level slope plot\n",
    "options(repr.plot.width=8, repr.plot.height=14)\n",
    "Palette <- c(\"#7E7C7C\", \"#000000\")\n",
    "c_slopes_sp <- ggplot(coefs.sp, aes(x = grp, y = ef.sp.mean))+ \n",
    "                geom_pointrange(aes(ymin=ef.sp.mean - (ef.sp.sd * 1.96) , ymax = ef.sp.mean + (ef.sp.sd * 1.96), colour = effect), size = .2) + \n",
    "                geom_linerange(aes(ymin=ef.sp.mean - (ef.sp.sd *1.28) , ymax = ef.sp.mean + (ef.sp.sd*1.28), colour = effect), size = .8) +\n",
    "                geom_hline(yintercept=0, linetype = \"dashed\")  +\n",
    "                scale_color_manual(values = Palette) +\n",
    "                coord_flip() + theme_bw() +theme(text = element_text(size=10), legend.position = \"none\") + xlab(\"\") + ylab(\"Effect Species (logit)\")\n",
    "c_slopes_sp"
   ]
  },
  {
   "cell_type": "code",
   "execution_count": null,
   "metadata": {},
   "outputs": [],
   "source": [
    "##save the plot\n",
    "ggsave(filename = \"Figures/c_slopes_sp.png\", plot = c_slopes_sp, width=15, height=25, units=\"cm\", dpi=500)"
   ]
  },
  {
   "cell_type": "code",
   "execution_count": 13,
   "metadata": {},
   "outputs": [],
   "source": [
    "##extract the random effects for PA model\n",
    "coefs.pa <- as.data.frame(ranef(rs.glmm.pa))  %>% gather(variable, value, -(grp:term)) %>%\n",
    "    unite(temp, term, variable) %>%\n",
    "    spread(temp, value)"
   ]
  },
  {
   "cell_type": "code",
   "execution_count": 14,
   "metadata": {},
   "outputs": [],
   "source": [
    "##add in the fixed effects for PA model\n",
    "fix.pa <- coef(summary((rs.glmm.pa)))\n",
    "coefs.pa$fix_pa_est <- fix.pa[4,1]\n",
    "coefs.pa$fix_pa_sd <- fix.pa[4,2]"
   ]
  },
  {
   "cell_type": "code",
   "execution_count": 15,
   "metadata": {},
   "outputs": [],
   "source": [
    "##create a simulated distribution from the esitmate and sd for both the fixed and rnadom effects, add them together and calcualte new combine effect esitmate and sd\n",
    "pa.fix.sim <- rnorm(1000000,mean = fix.pa[4,1], sd = fix.pa[4,2] )\n",
    "for (row in 1:nrow(coefs.pa)) {\n",
    "    sd.r <- coefs.pa[row,\"cc_pa_condsd\"]\n",
    "    u.r <- coefs.pa[row,\"cc_pa_condval\"]\n",
    "    r.sim <- rnorm(1000000, mean = as.numeric(u.r), sd = as.numeric(sd.r))\n",
    "    ef.sim <- r.sim + pa.fix.sim\n",
    "    coefs.pa[row,\"ef.pa.mean\"] <- mean(ef.sim) \n",
    "    coefs.pa[row,\"ef.pa.sd\"] <- sd(ef.sim)\n",
    "    }"
   ]
  },
  {
   "cell_type": "code",
   "execution_count": 16,
   "metadata": {},
   "outputs": [],
   "source": [
    "## Signficnat effect at 80% CIs?\n",
    "coefs.pa$effect <- ifelse((coefs.pa$ef.pa.mean - coefs.pa$ef.pa.sd * 1.28) > 0 & (coefs.pa$ef.pa.mean + coefs.pa$ef.pa.sd * 1.28) > 0 | \n",
    "                          (coefs.pa$ef.pa.mean - coefs.pa$ef.pa.sd * 1.28) < 0 & (coefs.pa$ef.pa.mean + coefs.pa$ef.pa.sd * 1.28) < 0 , \"yes\", \"no\")    "
   ]
  },
  {
   "cell_type": "code",
   "execution_count": 17,
   "metadata": {},
   "outputs": [],
   "source": [
    "##reorder the dataset so factor is determined by combined effect estimate\n",
    "coefs.pa <- coefs.pa %>% arrange(desc(-ef.pa.mean))\n",
    "coefs.pa$grp <- factor(coefs.pa$grp, levels=unique(coefs.pa$grp), ordered=TRUE)"
   ]
  },
  {
   "cell_type": "code",
   "execution_count": 18,
   "metadata": {},
   "outputs": [
    {
     "data": {
      "image/png": "[encoded data removed]",
      "text/plain": [
       "plot without title"
      ]
     },
     "metadata": {
      "image/png": {
       "height": 840,
       "width": 480
      }
     },
     "output_type": "display_data"
    }
   ],
   "source": [
    "##country level slope plot\n",
    "options(repr.plot.width=8, repr.plot.height=14)\n",
    "c_slopes_pa <- ggplot(coefs.pa, aes(x = grp, y = ef.pa.mean))+ \n",
    "                    geom_pointrange(aes(ymin=ef.pa.mean - (ef.pa.sd *1.96) , ymax = ef.pa.mean + (ef.pa.sd*1.96),colour = effect), size = .2) + \n",
    "                    geom_linerange(aes(ymin=ef.pa.mean - (ef.pa.sd *1.28) , ymax = ef.pa.mean + (ef.pa.sd*1.28),colour = effect), size = .8) +\n",
    "                    geom_hline(yintercept=0, linetype = \"dashed\")  +\n",
    "                    scale_color_manual(values = Palette) +\n",
    "                    coord_flip() + theme_bw() +theme(text = element_text(size=10), legend.position = \"none\") + xlab(\"\") + ylab(\"Effect PAs (logit)\")\n",
    "c_slopes_pa"
   ]
  },
  {
   "cell_type": "code",
   "execution_count": null,
   "metadata": {},
   "outputs": [],
   "source": [
    "##save plot\n",
    "ggsave(filename = \"Figures/c_slopes_pa.png\", plot = c_slopes_pa, width=15, height=25, units=\"cm\", dpi=500)"
   ]
  },
  {
   "cell_type": "code",
   "execution_count": 20,
   "metadata": {},
   "outputs": [],
   "source": [
    "##extract the random effects for KBA model\n",
    "coefs.kba <- as.data.frame(ranef(rs.glmm.kba))  %>% gather(variable, value, -(grp:term)) %>%\n",
    "    unite(temp, term, variable) %>% spread(temp, value)"
   ]
  },
  {
   "cell_type": "code",
   "execution_count": 21,
   "metadata": {},
   "outputs": [],
   "source": [
    "##add in the fixed effects\n",
    "fix.kba <- coef(summary((rs.glmm.kba)))\n",
    "coefs.kba$fix_kba_est <- fix.kba[4,1]\n",
    "coefs.kba$fix_kba_sd <- fix.kba[4,2]"
   ]
  },
  {
   "cell_type": "code",
   "execution_count": 22,
   "metadata": {},
   "outputs": [],
   "source": [
    "##create a simulated distribution from the estimates and sd for both the fixed and rnadom effects, add them together and proecue new combine effect estimates\n",
    "kba.fix.sim <- rnorm(1000000,mean = fix.kba[4,1], sd = fix.kba[4,2] )\n",
    "for (row in 1:nrow(coefs.kba)) {\n",
    "    sd.r <- coefs.kba[row,\"cc_kba_condsd\"]\n",
    "    u.r <- coefs.kba[row,\"cc_kba_condval\"]\n",
    "    r.sim <- rnorm(1000000, mean = as.numeric(u.r), sd = as.numeric(sd.r))\n",
    "    ef.sim <- r.sim + kba.fix.sim\n",
    "    coefs.kba[row,\"ef.kba.mean\"] <- mean(ef.sim) \n",
    "    coefs.kba[row,\"ef.kba.sd\"] <- sd(ef.sim)\n",
    "    }"
   ]
  },
  {
   "cell_type": "code",
   "execution_count": 23,
   "metadata": {},
   "outputs": [],
   "source": [
    "##significance at 80% CIs \n",
    "coefs.kba$effect <- ifelse((coefs.kba$ef.kba.mean - coefs.kba$ef.kba.sd * 1.28) > 0 & (coefs.kba$ef.kba.mean + coefs.kba$ef.kba.sd * 1.28) > 0 | \n",
    "                          (coefs.kba$ef.kba.mean - coefs.kba$ef.kba.sd * 1.28) < 0 & (coefs.kba$ef.kba.mean + coefs.kba$ef.kba.sd * 1.28) < 0 , \"yes\", \"no\")    "
   ]
  },
  {
   "cell_type": "code",
   "execution_count": 24,
   "metadata": {},
   "outputs": [],
   "source": [
    "##reorder the dataset\n",
    "coefs.kba <- coefs.kba %>% arrange(desc(-ef.kba.mean))\n",
    "coefs.kba$grp <- factor(coefs.kba$grp, levels=unique(coefs.kba$grp), ordered=TRUE)"
   ]
  },
  {
   "cell_type": "code",
   "execution_count": 25,
   "metadata": {},
   "outputs": [
    {
     "data": {
      "image/png": "[encoded data removed]",
      "text/plain": [
       "plot without title"
      ]
     },
     "metadata": {
      "image/png": {
       "height": 840,
       "width": 480
      }
     },
     "output_type": "display_data"
    }
   ],
   "source": [
    "##country level slope plot\n",
    "options(repr.plot.width=8, repr.plot.height=14)\n",
    "c_slopes_kba <- ggplot(coefs.kba, aes(x = grp, y = ef.kba.mean))+ \n",
    "                    geom_pointrange(aes(ymin=ef.kba.mean - (ef.kba.sd*1.96) , ymax = ef.kba.mean + (ef.kba.sd*1.96),colour = effect), size = .2) + \n",
    "                    geom_linerange(aes(ymin=ef.kba.mean - (ef.kba.sd *1.28) , ymax = ef.kba.mean + (ef.kba.sd*1.28),colour = effect), size = .8) +\n",
    "                    geom_hline(yintercept=0, linetype = \"dashed\")  +\n",
    "                    scale_color_manual(values = Palette) +\n",
    "                    coord_flip() + theme_bw() +theme(text = element_text(size=10), legend.position = \"none\") + xlab(\"\") + ylab(\"Effect KBAs (logit)\")\n",
    "c_slopes_kba"
   ]
  },
  {
   "cell_type": "code",
   "execution_count": null,
   "metadata": {},
   "outputs": [],
   "source": [
    "##save plot\n",
    "ggsave(filename = \"Figures/c_slopes_kba.png\", plot = c_slopes_kba, width=15, height=25, units=\"cm\", dpi=500)"
   ]
  },
  {
   "cell_type": "code",
   "execution_count": 26,
   "metadata": {},
   "outputs": [],
   "source": [
    "##change the names to characters not facotrs for each model\n",
    "coefs.sp$grp <- as.character(coefs.sp$grp)\n",
    "coefs.pa$grp <- as.character(coefs.pa$grp)\n",
    "coefs.kba$grp <- as.character(coefs.kba$grp)"
   ]
  },
  {
   "cell_type": "code",
   "execution_count": 27,
   "metadata": {},
   "outputs": [],
   "source": [
    "##rename data, join together in a tidy data format \n",
    "coefs.sp$metric <- \"Species\"\n",
    "sp.out <- dplyr::select(coefs.sp,grp,metric,ef.sp.mean,ef.sp.sd) %>% rename(\"Country\"=\"grp\",\"mean\" =\"ef.sp.mean\",\"sd\"=\"ef.sp.sd\")\n",
    "coefs.pa$metric <- \"PA\"\n",
    "pa.out <- dplyr::select(coefs.pa,grp,metric,ef.pa.mean,ef.pa.sd) %>% rename(\"Country\"=\"grp\",\"mean\" =\"ef.pa.mean\",\"sd\"=\"ef.pa.sd\")\n",
    "coefs.kba$metric <- \"KBA\"\n",
    "kba.out <- dplyr::select(coefs.kba,grp,metric,ef.kba.mean,ef.kba.sd) %>% rename(\"Country\"=\"grp\",\"mean\" =\"ef.kba.mean\",\"sd\"=\"ef.kba.sd\")\n",
    "\n",
    "##create upper and lower bounds of CIs at 95% and 80%\n",
    "ctry_results <- bind_rows(sp.out, pa.out,kba.out) %>% mutate(low_95 = mean - (sd*1.96), up_95 = mean + (sd*1.96),\n",
    "                                                          low_80 = mean - (sd*1.28), up_80 = mean + (sd*1.28))"
   ]
  },
  {
   "cell_type": "code",
   "execution_count": 28,
   "metadata": {},
   "outputs": [],
   "source": [
    "##create a significance and postitive/negative varaible\n",
    "ctry_results$sig_95 <- ifelse(ctry_results$low_95 > 0 & ctry_results$up_95 > 0 | ctry_results$low_95 < 0 & ctry_results$up_95 < 0,1,0) \n",
    "ctry_results$sig_80 <- ifelse(ctry_results$low_80 > 0 & ctry_results$up_80 > 0 | ctry_results$low_80 < 0 & ctry_results$up_80 < 0,1,0) \n",
    "ctry_results$slope <- ifelse(ctry_results$mean > 0, \"Positive\",\"Negative\")\n",
    "ctry_results$result <- as.factor(ifelse(ctry_results$slope ==\"Positive\" & ctry_results$sig_95 == 1, \"Strong +\",\n",
    "                             ifelse(ctry_results$slope ==\"Positive\" & ctry_results$sig_80 == 1, \"Weak +\",   \n",
    "                               ifelse(ctry_results$slope ==\"Negative\" & ctry_results$sig_95 == 1, \"Strong -\", \n",
    "                                    ifelse(ctry_results$slope ==\"Negative\" & ctry_results$sig_80 == 1, \"Weak -\",\"No effect\")))))"
   ]
  },
  {
   "cell_type": "code",
   "execution_count": 29,
   "metadata": {},
   "outputs": [
    {
     "data": {
      "text/html": [
       "4"
      ],
      "text/latex": [
       "4"
      ],
      "text/markdown": [
       "4"
      ],
      "text/plain": [
       "[1] 4"
      ]
     },
     "metadata": {},
     "output_type": "display_data"
    },
    {
     "data": {
      "text/html": [
       "12"
      ],
      "text/latex": [
       "12"
      ],
      "text/markdown": [
       "12"
      ],
      "text/plain": [
       "[1] 12"
      ]
     },
     "metadata": {},
     "output_type": "display_data"
    },
    {
     "data": {
      "text/html": [
       "9"
      ],
      "text/latex": [
       "9"
      ],
      "text/markdown": [
       "9"
      ],
      "text/plain": [
       "[1] 9"
      ]
     },
     "metadata": {},
     "output_type": "display_data"
    },
    {
     "data": {
      "text/html": [
       "12"
      ],
      "text/latex": [
       "12"
      ],
      "text/markdown": [
       "12"
      ],
      "text/plain": [
       "[1] 12"
      ]
     },
     "metadata": {},
     "output_type": "display_data"
    },
    {
     "data": {
      "text/html": [
       "31"
      ],
      "text/latex": [
       "31"
      ],
      "text/markdown": [
       "31"
      ],
      "text/plain": [
       "[1] 31"
      ]
     },
     "metadata": {},
     "output_type": "display_data"
    },
    {
     "data": {
      "text/html": [
       "39"
      ],
      "text/latex": [
       "39"
      ],
      "text/markdown": [
       "39"
      ],
      "text/plain": [
       "[1] 39"
      ]
     },
     "metadata": {},
     "output_type": "display_data"
    },
    {
     "data": {
      "text/html": [
       "126"
      ],
      "text/latex": [
       "126"
      ],
      "text/markdown": [
       "126"
      ],
      "text/plain": [
       "[1] 126"
      ]
     },
     "metadata": {},
     "output_type": "display_data"
    }
   ],
   "source": [
    "##number of countires with a significant negative slopes\n",
    "length(ctry_results$Country[ctry_results$metric ==\"Species\" &  ctry_results$result == \"Weak -\"])\n",
    "length(ctry_results$Country[ctry_results$metric ==\"Species\" &  ctry_results$result == \"Strong -\"])\n",
    "length(ctry_results$Country[ctry_results$metric ==\"KBA\" &  ctry_results$result == \"Weak -\"])\n",
    "length(ctry_results$Country[ctry_results$metric ==\"KBA\" &  ctry_results$result == \"Strong -\"])\n",
    "length(ctry_results$Country[ctry_results$metric ==\"PA\" &  ctry_results$result == \"Weak -\"])\n",
    "length(ctry_results$Country[ctry_results$metric ==\"PA\" &  ctry_results$result == \"Strong -\"])\n",
    "length(unique(ctry_results$Country))"
   ]
  },
  {
   "cell_type": "code",
   "execution_count": 30,
   "metadata": {},
   "outputs": [
    {
     "data": {
      "text/html": [
       "14"
      ],
      "text/latex": [
       "14"
      ],
      "text/markdown": [
       "14"
      ],
      "text/plain": [
       "[1] 14"
      ]
     },
     "metadata": {},
     "output_type": "display_data"
    },
    {
     "data": {
      "text/html": [
       "32"
      ],
      "text/latex": [
       "32"
      ],
      "text/markdown": [
       "32"
      ],
      "text/plain": [
       "[1] 32"
      ]
     },
     "metadata": {},
     "output_type": "display_data"
    },
    {
     "data": {
      "text/html": [
       "8"
      ],
      "text/latex": [
       "8"
      ],
      "text/markdown": [
       "8"
      ],
      "text/plain": [
       "[1] 8"
      ]
     },
     "metadata": {},
     "output_type": "display_data"
    },
    {
     "data": {
      "text/html": [
       "3"
      ],
      "text/latex": [
       "3"
      ],
      "text/markdown": [
       "3"
      ],
      "text/plain": [
       "[1] 3"
      ]
     },
     "metadata": {},
     "output_type": "display_data"
    },
    {
     "data": {
      "text/html": [
       "1"
      ],
      "text/latex": [
       "1"
      ],
      "text/markdown": [
       "1"
      ],
      "text/plain": [
       "[1] 1"
      ]
     },
     "metadata": {},
     "output_type": "display_data"
    },
    {
     "data": {
      "text/html": [
       "1"
      ],
      "text/latex": [
       "1"
      ],
      "text/markdown": [
       "1"
      ],
      "text/plain": [
       "[1] 1"
      ]
     },
     "metadata": {},
     "output_type": "display_data"
    },
    {
     "data": {
      "text/html": [
       "126"
      ],
      "text/latex": [
       "126"
      ],
      "text/markdown": [
       "126"
      ],
      "text/plain": [
       "[1] 126"
      ]
     },
     "metadata": {},
     "output_type": "display_data"
    }
   ],
   "source": [
    "##number of countires with a significant positive slopes\n",
    "length(ctry_results$Country[ctry_results$metric ==\"Species\" &  ctry_results$result == \"Weak +\"])\n",
    "length(ctry_results$Country[ctry_results$metric ==\"Species\" &  ctry_results$result == \"Strong +\"])\n",
    "length(ctry_results$Country[ctry_results$metric ==\"KBA\" &  ctry_results$result == \"Weak +\"])\n",
    "length(ctry_results$Country[ctry_results$metric ==\"KBA\" &  ctry_results$result == \"Strong +\"])\n",
    "length(ctry_results$Country[ctry_results$metric ==\"PA\" &  ctry_results$result == \"Weak +\"])\n",
    "length(ctry_results$Country[ctry_results$metric ==\"PA\" &  ctry_results$result == \"Strong +\"])\n",
    "length(unique(ctry_results$Country))"
   ]
  },
  {
   "cell_type": "code",
   "execution_count": 31,
   "metadata": {},
   "outputs": [
    {
     "data": {
      "text/html": [
       "62"
      ],
      "text/latex": [
       "62"
      ],
      "text/markdown": [
       "62"
      ],
      "text/plain": [
       "[1] 62"
      ]
     },
     "metadata": {},
     "output_type": "display_data"
    },
    {
     "data": {
      "text/html": [
       "32"
      ],
      "text/latex": [
       "32"
      ],
      "text/markdown": [
       "32"
      ],
      "text/plain": [
       "[1] 32"
      ]
     },
     "metadata": {},
     "output_type": "display_data"
    },
    {
     "data": {
      "text/html": [
       "72"
      ],
      "text/latex": [
       "72"
      ],
      "text/markdown": [
       "72"
      ],
      "text/plain": [
       "[1] 72"
      ]
     },
     "metadata": {},
     "output_type": "display_data"
    },
    {
     "data": {
      "text/html": [
       "126"
      ],
      "text/latex": [
       "126"
      ],
      "text/markdown": [
       "126"
      ],
      "text/plain": [
       "[1] 126"
      ]
     },
     "metadata": {},
     "output_type": "display_data"
    }
   ],
   "source": [
    "##number of countires with no signifcant slope\n",
    "length(ctry_results$Country[ctry_results$metric ==\"Species\" &  ctry_results$result  != \"No effect\"])\n",
    "length(ctry_results$Country[ctry_results$metric ==\"KBA\" &  ctry_results$result != \"No effect\"])\n",
    "length(ctry_results$Country[ctry_results$metric ==\"PA\" &  ctry_results$result != \"No effect\"])\n",
    "length(unique(ctry_results$Country))"
   ]
  },
  {
   "cell_type": "code",
   "execution_count": 54,
   "metadata": {},
   "outputs": [],
   "source": [
    "##write results to a csv\n",
    "write.csv(ctry_results,'Data/ctry_results_5km.csv')\n",
    "#ctry_results <- read.csv('Data/ctry_results_5km.csv')"
   ]
  },
  {
   "cell_type": "code",
   "execution_count": 55,
   "metadata": {},
   "outputs": [],
   "source": [
    "##colour blind palette \n",
    "cbbPalette <- c(\"#E69F00\", \"#56B4E9\", \"#009E73\", \"#F0E442\", \"#0072B2\", \"#D55E00\", \"#CC79A7\",\"#999999\")"
   ]
  },
  {
   "cell_type": "code",
   "execution_count": 57,
   "metadata": {},
   "outputs": [
    {
     "data": {
      "image/png": "[encoded data removed]",
      "text/plain": [
       "plot without title"
      ]
     },
     "metadata": {
      "image/png": {
       "height": 420,
       "width": 600
      }
     },
     "output_type": "display_data"
    }
   ],
   "source": [
    "##create stacked bar chart showing the slopes plus significance\n",
    "options(repr.plot.width=10, repr.plot.height=7)\n",
    "##set the factor levels\n",
    "ctry_results$result <- factor(ctry_results$result, levels = c(\"Strong +\",\"Weak +\",\"No effect\",\"Weak -\",\"Strong -\"))\n",
    "    \n",
    "##make the plot \n",
    "cr1 <- ggplot(ctry_results, aes(x = metric, fill = (result))) + geom_bar(stat = \"count\", position = \"fill\") + \n",
    "    theme_classic() + \n",
    "    theme(axis.title.y =element_blank(), legend.position = \"bottom\") + #, text = element_text(size=11))+\n",
    "    scale_y_continuous(breaks=seq(0,1,0.1), labels = seq(0,100,10)) +\n",
    "    scale_fill_manual(breaks=c(\"Strong -\",\"Weak -\",\"No effect\",\"Weak +\",\"Strong +\"),values=c(\"#D55E00\",\"#FFB000\", \"#ADADAD\",\"#56B4E9\",\"#0072B2\")) +\n",
    "    labs(y =\"% of countries\", fill = \"Estimated effect\" ) +\n",
    "    coord_flip()\n",
    "cr1"
   ]
  },
  {
   "cell_type": "code",
   "execution_count": 59,
   "metadata": {},
   "outputs": [],
   "source": [
    "##save the plot\n",
    "ggsave(filename = \"Figures/cntry_percent_moll_5.svg\", plot = cr1, width=15, height=10, units=\"cm\", dpi=1000)"
   ]
  },
  {
   "cell_type": "markdown",
   "metadata": {},
   "source": [
    "## sensivity analysis - project filterting"
   ]
  },
  {
   "cell_type": "code",
   "execution_count": 12,
   "metadata": {},
   "outputs": [],
   "source": [
    "##create a more strict filtered dataset for sensetiveity testing\n",
    "##select harmful sectors - covers anything that might have a potenial imapct - remvoes 'general' categories\n",
    "\n",
    "harm_sub_secs = c(\"Roads and highways\", \"Water supply\", \"Power\",\"Irrigation and drainage\", \"Sewerage\",\n",
    "              \"Animal production\",\"Railways\", \"Crops\",\"Rural and Inter-Urban Roads and Highways\",\n",
    "              \"Mining and other extractive\",\"Urban Transport\", \"Oil and gas\",\"Forestry\", \"Housing construction\",\n",
    "              \"Transmission and Distribution of Electricity\",\"Renewable energy\",\n",
    "              \"Aviation\",\"Thermal Power Generation\",\"Hydropower\",\"Coal Mining\",\n",
    "              \"Wastewater Treatment and Disposal\",\"Wastewater Collection and Transportation\")                                                                                         \n",
    "                                     \n",
    "            \n",
    "##create filtered set of projects based on the harmful subsectors\n",
    "p2 <- filter(p1, SECTOR.1 %in% harm_sub_secs)\n",
    "\n",
    "##filter to remove any possible biodiversity points\n",
    "p2 <- filter(p2, THEME.1 != \"Biodiversity\" & THEME.2 != \"Biodiversity\" \n",
    "               & THEME.3 != \"Biodiversity\" & THEME.4 != \"Biodiversity\"\n",
    "               & THEME.5 != \"Biodiversity\")"
   ]
  },
  {
   "cell_type": "code",
   "execution_count": 13,
   "metadata": {},
   "outputs": [],
   "source": [
    "##create datasets with the different filters#\n",
    "p2 <- dplyr::select(p2, pro_lo_id, project_id.x, year, money, category, ID) # more strict filter\n",
    "p2[is.na(p2)] <- 0\n",
    "\n",
    "p3 <- dplyr::select(p_detail, pro_lo_id, project_id.x, year, money, category, ID) # no filter \n",
    "p3[is.na(p3)] <- 0\n",
    "\n",
    "##even further filter looking at just catgory A projects\n",
    "Aonly <- filter(p2, category == \"A\") "
   ]
  },
  {
   "cell_type": "code",
   "execution_count": 14,
   "metadata": {},
   "outputs": [
    {
     "name": "stderr",
     "output_type": "stream",
     "text": [
      "`summarise()` ungrouping output (override with `.groups` argument)\n",
      "\n",
      "`summarise()` ungrouping output (override with `.groups` argument)\n",
      "\n",
      "`summarise()` ungrouping output (override with `.groups` argument)\n",
      "\n"
     ]
    }
   ],
   "source": [
    "##summerise to numbers in each cell\n",
    "\n",
    "### the more filtered dataset\n",
    "p2_cells <- dplyr::select(p2, pro_lo_id, money, ID, pro_lo_id) %>%\n",
    "  group_by(ID) %>%\n",
    "  summarise(money_all = round(sum(money)/1000,0), count_all = n_distinct(pro_lo_id))\n",
    "\n",
    "##repeat for the unfiltered dataset\n",
    "p3_cells <- dplyr::select(p3, pro_lo_id, money, ID, pro_lo_id) %>%\n",
    "  group_by(ID) %>%\n",
    "  summarise(money_all = round(sum(money)/1000,0), count_all = n_distinct(pro_lo_id))\n",
    "\n",
    "##repeat for the category A only dataset\n",
    "A_cells <- dplyr::select(Aonly, pro_lo_id, money, ID, pro_lo_id) %>%\n",
    "  group_by(ID) %>%\n",
    "  summarise(money_all = round(sum(money)/1000,0), count_all = n_distinct(pro_lo_id))\n"
   ]
  },
  {
   "cell_type": "code",
   "execution_count": 202,
   "metadata": {},
   "outputs": [
    {
     "data": {
      "text/html": [
       "930"
      ],
      "text/latex": [
       "930"
      ],
      "text/markdown": [
       "930"
      ],
      "text/plain": [
       "[1] 930"
      ]
     },
     "metadata": {},
     "output_type": "display_data"
    },
    {
     "data": {
      "text/html": [
       "12864"
      ],
      "text/latex": [
       "12864"
      ],
      "text/markdown": [
       "12864"
      ],
      "text/plain": [
       "[1] 12864"
      ]
     },
     "metadata": {},
     "output_type": "display_data"
    },
    {
     "data": {
      "text/html": [
       "9762"
      ],
      "text/latex": [
       "9762"
      ],
      "text/markdown": [
       "9762"
      ],
      "text/plain": [
       "[1] 9762"
      ]
     },
     "metadata": {},
     "output_type": "display_data"
    },
    {
     "data": {
      "text/html": [
       "2256"
      ],
      "text/latex": [
       "2256"
      ],
      "text/markdown": [
       "2256"
      ],
      "text/plain": [
       "[1] 2256"
      ]
     },
     "metadata": {},
     "output_type": "display_data"
    },
    {
     "data": {
      "text/html": [
       "26455"
      ],
      "text/latex": [
       "26455"
      ],
      "text/markdown": [
       "26455"
      ],
      "text/plain": [
       "[1] 26455"
      ]
     },
     "metadata": {},
     "output_type": "display_data"
    },
    {
     "data": {
      "text/html": [
       "16282"
      ],
      "text/latex": [
       "16282"
      ],
      "text/markdown": [
       "16282"
      ],
      "text/plain": [
       "[1] 16282"
      ]
     },
     "metadata": {},
     "output_type": "display_data"
    },
    {
     "data": {
      "text/html": [
       "311"
      ],
      "text/latex": [
       "311"
      ],
      "text/markdown": [
       "311"
      ],
      "text/plain": [
       "[1] 311"
      ]
     },
     "metadata": {},
     "output_type": "display_data"
    },
    {
     "data": {
      "text/html": [
       "3694"
      ],
      "text/latex": [
       "3694"
      ],
      "text/markdown": [
       "3694"
      ],
      "text/plain": [
       "[1] 3694"
      ]
     },
     "metadata": {},
     "output_type": "display_data"
    },
    {
     "data": {
      "text/html": [
       "3074"
      ],
      "text/latex": [
       "3074"
      ],
      "text/markdown": [
       "3074"
      ],
      "text/plain": [
       "[1] 3074"
      ]
     },
     "metadata": {},
     "output_type": "display_data"
    }
   ],
   "source": [
    "#resutls of filters \n",
    "length(unique(p2$project_id.x))\n",
    "sum(p2_cells$count_all)\n",
    "length(p2_cells$count_all)\n",
    "\n",
    "length(unique(p3$project_id.x))\n",
    "sum(p3_cells$count_all)\n",
    "length(p3_cells$count_all)\n",
    "\n",
    "length(unique(Aonly$project_id.x))\n",
    "sum(A_cells$count_all)\n",
    "length(A_cells$count_all)"
   ]
  },
  {
   "cell_type": "code",
   "execution_count": 15,
   "metadata": {},
   "outputs": [],
   "source": [
    "##add a binary value for project activity presence\n",
    "p2_cells$f2_bin_p <- (ifelse(p2_cells$count_all>0,1,0))\n",
    "\n",
    "p3_cells$nf_bin_p <- (ifelse(p3_cells$count_all>0,1,0))\n",
    "\n",
    "A_cells$ao_bin_p <- (ifelse(A_cells$count_all>0,1,0))"
   ]
  },
  {
   "cell_type": "code",
   "execution_count": 16,
   "metadata": {},
   "outputs": [],
   "source": [
    "##join together the filtered datasets \n",
    "filt_test <- dplyr:::select(p3_cells, ID, nf_bin_p) %>%\n",
    "            left_join(dplyr:::select(p2_cells, ID, f2_bin_p), by = \"ID\") %>% left_join(dplyr:::select(A_cells, ID, ao_bin_p) , by = \"ID\")"
   ]
  },
  {
   "cell_type": "code",
   "execution_count": 17,
   "metadata": {},
   "outputs": [],
   "source": [
    "##join to main data frame\n",
    "data6 <- left_join(data5, filt_test, by = 'ID')\n",
    "data6[is.na(data6)] <- 0"
   ]
  },
  {
   "cell_type": "code",
   "execution_count": 18,
   "metadata": {},
   "outputs": [
    {
     "data": {
      "text/html": [
       "<dl class=dl-horizontal>\n",
       "\t<dt>0</dt>\n",
       "\t\t<dd>3974661</dd>\n",
       "\t<dt>1</dt>\n",
       "\t\t<dd>9756</dd>\n",
       "</dl>\n"
      ],
      "text/latex": [
       "\\begin{description*}\n",
       "\\item[0] 3974661\n",
       "\\item[1] 9756\n",
       "\\end{description*}\n"
      ],
      "text/markdown": [
       "0\n",
       ":   39746611\n",
       ":   9756\n",
       "\n"
      ],
      "text/plain": [
       "      0       1 \n",
       "3974661    9756 "
      ]
     },
     "metadata": {},
     "output_type": "display_data"
    },
    {
     "data": {
      "text/html": [
       "<dl class=dl-horizontal>\n",
       "\t<dt>0</dt>\n",
       "\t\t<dd>3968153</dd>\n",
       "\t<dt>1</dt>\n",
       "\t\t<dd>16264</dd>\n",
       "</dl>\n"
      ],
      "text/latex": [
       "\\begin{description*}\n",
       "\\item[0] 3968153\n",
       "\\item[1] 16264\n",
       "\\end{description*}\n"
      ],
      "text/markdown": [
       "0\n",
       ":   39681531\n",
       ":   16264\n",
       "\n"
      ],
      "text/plain": [
       "      0       1 \n",
       "3968153   16264 "
      ]
     },
     "metadata": {},
     "output_type": "display_data"
    },
    {
     "data": {
      "text/html": [
       "<dl class=dl-horizontal>\n",
       "\t<dt>0</dt>\n",
       "\t\t<dd>3981344</dd>\n",
       "\t<dt>1</dt>\n",
       "\t\t<dd>3073</dd>\n",
       "</dl>\n"
      ],
      "text/latex": [
       "\\begin{description*}\n",
       "\\item[0] 3981344\n",
       "\\item[1] 3073\n",
       "\\end{description*}\n"
      ],
      "text/markdown": [
       "0\n",
       ":   39813441\n",
       ":   3073\n",
       "\n"
      ],
      "text/plain": [
       "      0       1 \n",
       "3981344    3073 "
      ]
     },
     "metadata": {},
     "output_type": "display_data"
    }
   ],
   "source": [
    "#summary by cells of the effect of the filters\n",
    "summary(as.factor(data6$f2_bin_p))\n",
    "summary(as.factor(data6$nf_bin_p))\n",
    "summary(as.factor(data6$ao_bin_p))"
   ]
  },
  {
   "cell_type": "code",
   "execution_count": 24,
   "metadata": {},
   "outputs": [],
   "source": [
    "##calculate the auto covariate for the new responses\n",
    "data6$ac_f2 <- lag.listw(x = listw, var=(data6$f2_bin_p))\n",
    "data6$ac_nf <- lag.listw(x = listw, var=(data6$nf_bin_p))\n",
    "data6$ac_ao <- lag.listw(x = listw, var=(data6$ao_bin_p))"
   ]
  },
  {
   "cell_type": "code",
   "execution_count": 25,
   "metadata": {},
   "outputs": [],
   "source": [
    "## run the simple glboal models for the stricter filter\n",
    "glm.sp.filt.test1 <- glm(f2_bin_p ~ ac_f2 + sp_norm, family=binomial, data=data6)\n",
    "glm.pa.filt.test1 <- glm(f2_bin_p ~ ac_f2 + bin_pa, family=binomial, data=data6)\n",
    "glm.kba.filt.test1 <- glm(f2_bin_p ~ ac_f2 + bin_kba, family=binomial, data=data6)\n",
    "glm.hot.filt.test1 <- glm(f2_bin_p ~ ac_f2 + bin_hot, family=binomial, data=data6)"
   ]
  },
  {
   "cell_type": "code",
   "execution_count": 29,
   "metadata": {},
   "outputs": [
    {
     "name": "stdout",
     "output_type": "stream",
     "text": [
      "\n",
      "<table style=\"text-align:center\"><tr><td colspan=\"5\" style=\"border-bottom: 1px solid black\"></td></tr><tr><td style=\"text-align:left\"></td><td colspan=\"4\"><em>Dependent variable:</em></td></tr>\n",
      "<tr><td></td><td colspan=\"4\" style=\"border-bottom: 1px solid black\"></td></tr>\n",
      "<tr><td style=\"text-align:left\"></td><td colspan=\"4\">f2_bin_p</td></tr>\n",
      "<tr><td style=\"text-align:left\"></td><td>(1)</td><td>(2)</td><td>(3)</td><td>(4)</td></tr>\n",
      "<tr><td colspan=\"5\" style=\"border-bottom: 1px solid black\"></td></tr><tr><td style=\"text-align:left\">ac_f2</td><td>1.801<sup>***</sup></td><td>1.807<sup>***</sup></td><td>1.807<sup>***</sup></td><td>1.719<sup>***</sup></td></tr>\n",
      "<tr><td style=\"text-align:left\"></td><td>(0.013)</td><td>(0.013)</td><td>(0.013)</td><td>(0.013)</td></tr>\n",
      "<tr><td style=\"text-align:left\"></td><td></td><td></td><td></td><td></td></tr>\n",
      "<tr><td style=\"text-align:left\">sp_norm</td><td>0.357<sup>***</sup></td><td></td><td></td><td></td></tr>\n",
      "<tr><td style=\"text-align:left\"></td><td>(0.016)</td><td></td><td></td><td></td></tr>\n",
      "<tr><td style=\"text-align:left\"></td><td></td><td></td><td></td><td></td></tr>\n",
      "<tr><td style=\"text-align:left\">bin_pa1</td><td></td><td>-0.262<sup>***</sup></td><td></td><td></td></tr>\n",
      "<tr><td style=\"text-align:left\"></td><td></td><td>(0.045)</td><td></td><td></td></tr>\n",
      "<tr><td style=\"text-align:left\"></td><td></td><td></td><td></td><td></td></tr>\n",
      "<tr><td style=\"text-align:left\">bin_kba1</td><td></td><td></td><td>0.168<sup>***</sup></td><td></td></tr>\n",
      "<tr><td style=\"text-align:left\"></td><td></td><td></td><td>(0.030)</td><td></td></tr>\n",
      "<tr><td style=\"text-align:left\"></td><td></td><td></td><td></td><td></td></tr>\n",
      "<tr><td style=\"text-align:left\">bin_hot1</td><td></td><td></td><td></td><td>0.863<sup>***</sup></td></tr>\n",
      "<tr><td style=\"text-align:left\"></td><td></td><td></td><td></td><td>(0.021)</td></tr>\n",
      "<tr><td style=\"text-align:left\"></td><td></td><td></td><td></td><td></td></tr>\n",
      "<tr><td style=\"text-align:left\">Constant</td><td>-6.256<sup>***</sup></td><td>-6.217<sup>***</sup></td><td>-6.257<sup>***</sup></td><td>-6.507<sup>***</sup></td></tr>\n",
      "<tr><td style=\"text-align:left\"></td><td>(0.011)</td><td>(0.012)</td><td>(0.012)</td><td>(0.014)</td></tr>\n",
      "<tr><td style=\"text-align:left\"></td><td></td><td></td><td></td><td></td></tr>\n",
      "<tr><td colspan=\"5\" style=\"border-bottom: 1px solid black\"></td></tr><tr><td style=\"text-align:left\">Observations</td><td>3,984,417</td><td>3,984,417</td><td>3,984,417</td><td>3,984,417</td></tr>\n",
      "<tr><td style=\"text-align:left\">Log Likelihood</td><td>-61,700.440</td><td>-61,882.100</td><td>-61,885.400</td><td>-61,129.570</td></tr>\n",
      "<tr><td style=\"text-align:left\">Akaike Inf. Crit.</td><td>123,406.900</td><td>123,770.200</td><td>123,776.800</td><td>122,265.100</td></tr>\n",
      "<tr><td colspan=\"5\" style=\"border-bottom: 1px solid black\"></td></tr><tr><td style=\"text-align:left\"><em>Note:</em></td><td colspan=\"4\" style=\"text-align:right\"><sup>*</sup>p<0.1; <sup>**</sup>p<0.05; <sup>***</sup>p<0.01</td></tr>\n",
      "</table>\n"
     ]
    }
   ],
   "source": [
    "##table of coefficents for stricter filter simple global models\n",
    "stargazer(glm.sp.filt.test1,glm.pa.filt.test1, glm.kba.filt.test1, glm.hot.filt.test1,type=\"html\",out=\"Figures/con_filt_models_5.htm\")"
   ]
  },
  {
   "cell_type": "code",
   "execution_count": 30,
   "metadata": {},
   "outputs": [],
   "source": [
    "## run the simple glboal models for the no filter dataset\n",
    "glm.sp.filt.test2 <- glm(nf_bin_p~ac_nf+sp_norm, family=binomial, data=data6)\n",
    "glm.pa.filt.test2 <- glm(nf_bin_p~ac_nf+bin_pa, family=binomial, data=data6)\n",
    "glm.kba.filt.test2 <- glm(nf_bin_p~ac_nf+bin_kba, family=binomial, data=data6)\n",
    "glm.hot.filt.test2 <- glm(nf_bin_p~ac_nf+bin_hot, family=binomial, data=data6)"
   ]
  },
  {
   "cell_type": "code",
   "execution_count": 34,
   "metadata": {},
   "outputs": [
    {
     "name": "stdout",
     "output_type": "stream",
     "text": [
      "\n",
      "<table style=\"text-align:center\"><tr><td colspan=\"5\" style=\"border-bottom: 1px solid black\"></td></tr><tr><td style=\"text-align:left\"></td><td colspan=\"4\"><em>Dependent variable:</em></td></tr>\n",
      "<tr><td></td><td colspan=\"4\" style=\"border-bottom: 1px solid black\"></td></tr>\n",
      "<tr><td style=\"text-align:left\"></td><td colspan=\"4\">nf_bin_p</td></tr>\n",
      "<tr><td style=\"text-align:left\"></td><td>(1)</td><td>(2)</td><td>(3)</td><td>(4)</td></tr>\n",
      "<tr><td colspan=\"5\" style=\"border-bottom: 1px solid black\"></td></tr><tr><td style=\"text-align:left\">ac_nf</td><td>1.580<sup>***</sup></td><td>1.588<sup>***</sup></td><td>1.585<sup>***</sup></td><td>1.497<sup>***</sup></td></tr>\n",
      "<tr><td style=\"text-align:left\"></td><td>(0.009)</td><td>(0.009)</td><td>(0.009)</td><td>(0.009)</td></tr>\n",
      "<tr><td style=\"text-align:left\"></td><td></td><td></td><td></td><td></td></tr>\n",
      "<tr><td style=\"text-align:left\">sp_norm</td><td>0.348<sup>***</sup></td><td></td><td></td><td></td></tr>\n",
      "<tr><td style=\"text-align:left\"></td><td>(0.013)</td><td></td><td></td><td></td></tr>\n",
      "<tr><td style=\"text-align:left\"></td><td></td><td></td><td></td><td></td></tr>\n",
      "<tr><td style=\"text-align:left\">bin_pa1</td><td></td><td>-0.212<sup>***</sup></td><td></td><td></td></tr>\n",
      "<tr><td style=\"text-align:left\"></td><td></td><td>(0.034)</td><td></td><td></td></tr>\n",
      "<tr><td style=\"text-align:left\"></td><td></td><td></td><td></td><td></td></tr>\n",
      "<tr><td style=\"text-align:left\">bin_kba1</td><td></td><td></td><td>0.190<sup>***</sup></td><td></td></tr>\n",
      "<tr><td style=\"text-align:left\"></td><td></td><td></td><td>(0.023)</td><td></td></tr>\n",
      "<tr><td style=\"text-align:left\"></td><td></td><td></td><td></td><td></td></tr>\n",
      "<tr><td style=\"text-align:left\">bin_hot1</td><td></td><td></td><td></td><td>0.829<sup>***</sup></td></tr>\n",
      "<tr><td style=\"text-align:left\"></td><td></td><td></td><td></td><td>(0.017)</td></tr>\n",
      "<tr><td style=\"text-align:left\"></td><td></td><td></td><td></td><td></td></tr>\n",
      "<tr><td style=\"text-align:left\">Constant</td><td>-5.790<sup>***</sup></td><td>-5.756<sup>***</sup></td><td>-5.796<sup>***</sup></td><td>-6.027<sup>***</sup></td></tr>\n",
      "<tr><td style=\"text-align:left\"></td><td>(0.009)</td><td>(0.009)</td><td>(0.009)</td><td>(0.011)</td></tr>\n",
      "<tr><td style=\"text-align:left\"></td><td></td><td></td><td></td><td></td></tr>\n",
      "<tr><td colspan=\"5\" style=\"border-bottom: 1px solid black\"></td></tr><tr><td style=\"text-align:left\">Observations</td><td>3,984,417</td><td>3,984,417</td><td>3,984,417</td><td>3,984,417</td></tr>\n",
      "<tr><td style=\"text-align:left\">Log Likelihood</td><td>-93,609.630</td><td>-93,893.060</td><td>-93,880.740</td><td>-92,761.860</td></tr>\n",
      "<tr><td style=\"text-align:left\">Akaike Inf. Crit.</td><td>187,225.300</td><td>187,792.100</td><td>187,767.500</td><td>185,529.700</td></tr>\n",
      "<tr><td colspan=\"5\" style=\"border-bottom: 1px solid black\"></td></tr><tr><td style=\"text-align:left\"><em>Note:</em></td><td colspan=\"4\" style=\"text-align:right\"><sup>*</sup>p<0.1; <sup>**</sup>p<0.05; <sup>***</sup>p<0.01</td></tr>\n",
      "</table>\n"
     ]
    }
   ],
   "source": [
    "##table of coefficents for no filter simple global models\n",
    "stargazer(glm.sp.filt.test2,glm.pa.filt.test2, glm.kba.filt.test2, glm.hot.filt.test2,type=\"html\",out=\"Figures/no_filt_models_5.htm\")"
   ]
  },
  {
   "cell_type": "code",
   "execution_count": 35,
   "metadata": {},
   "outputs": [],
   "source": [
    "## run the simple global models for the category A only filter\n",
    "glm.sp.filt.test3 <- glm(ao_bin_p~ac_ao+sp_norm, family=binomial, data=data6)\n",
    "glm.pa.filt.test3 <- glm(ao_bin_p~ac_ao+bin_pa, family=binomial, data=data6)\n",
    "glm.kba.filt.test3 <- glm(ao_bin_p~ac_ao+bin_kba, family=binomial, data=data6)\n",
    "glm.hot.filt.test3 <- glm(ao_bin_p~ac_ao+bin_hot, family=binomial, data=data6)"
   ]
  },
  {
   "cell_type": "code",
   "execution_count": 39,
   "metadata": {},
   "outputs": [
    {
     "name": "stdout",
     "output_type": "stream",
     "text": [
      "\n",
      "<table style=\"text-align:center\"><tr><td colspan=\"5\" style=\"border-bottom: 1px solid black\"></td></tr><tr><td style=\"text-align:left\"></td><td colspan=\"4\"><em>Dependent variable:</em></td></tr>\n",
      "<tr><td></td><td colspan=\"4\" style=\"border-bottom: 1px solid black\"></td></tr>\n",
      "<tr><td style=\"text-align:left\"></td><td colspan=\"4\">ao_bin_p</td></tr>\n",
      "<tr><td style=\"text-align:left\"></td><td>(1)</td><td>(2)</td><td>(3)</td><td>(4)</td></tr>\n",
      "<tr><td colspan=\"5\" style=\"border-bottom: 1px solid black\"></td></tr><tr><td style=\"text-align:left\">ac_ao</td><td>2.195<sup>***</sup></td><td>2.208<sup>***</sup></td><td>2.219<sup>***</sup></td><td>2.207<sup>***</sup></td></tr>\n",
      "<tr><td style=\"text-align:left\"></td><td>(0.027)</td><td>(0.027)</td><td>(0.027)</td><td>(0.027)</td></tr>\n",
      "<tr><td style=\"text-align:left\"></td><td></td><td></td><td></td><td></td></tr>\n",
      "<tr><td style=\"text-align:left\">sp_norm</td><td>0.522<sup>***</sup></td><td></td><td></td><td></td></tr>\n",
      "<tr><td style=\"text-align:left\"></td><td>(0.024)</td><td></td><td></td><td></td></tr>\n",
      "<tr><td style=\"text-align:left\"></td><td></td><td></td><td></td><td></td></tr>\n",
      "<tr><td style=\"text-align:left\">bin_pa1</td><td></td><td>-0.723<sup>***</sup></td><td></td><td></td></tr>\n",
      "<tr><td style=\"text-align:left\"></td><td></td><td>(0.099)</td><td></td><td></td></tr>\n",
      "<tr><td style=\"text-align:left\"></td><td></td><td></td><td></td><td></td></tr>\n",
      "<tr><td style=\"text-align:left\">bin_kba1</td><td></td><td></td><td>-0.005</td><td></td></tr>\n",
      "<tr><td style=\"text-align:left\"></td><td></td><td></td><td>(0.057)</td><td></td></tr>\n",
      "<tr><td style=\"text-align:left\"></td><td></td><td></td><td></td><td></td></tr>\n",
      "<tr><td style=\"text-align:left\">bin_hot1</td><td></td><td></td><td></td><td>0.517<sup>***</sup></td></tr>\n",
      "<tr><td style=\"text-align:left\"></td><td></td><td></td><td></td><td>(0.040)</td></tr>\n",
      "<tr><td style=\"text-align:left\"></td><td></td><td></td><td></td><td></td></tr>\n",
      "<tr><td style=\"text-align:left\">Constant</td><td>-7.382<sup>***</sup></td><td>-7.293<sup>***</sup></td><td>-7.333<sup>***</sup></td><td>-7.476<sup>***</sup></td></tr>\n",
      "<tr><td style=\"text-align:left\"></td><td>(0.020)</td><td>(0.020)</td><td>(0.021)</td><td>(0.023)</td></tr>\n",
      "<tr><td style=\"text-align:left\"></td><td></td><td></td><td></td><td></td></tr>\n",
      "<tr><td colspan=\"5\" style=\"border-bottom: 1px solid black\"></td></tr><tr><td style=\"text-align:left\">Observations</td><td>3,984,417</td><td>3,984,417</td><td>3,984,417</td><td>3,984,417</td></tr>\n",
      "<tr><td style=\"text-align:left\">Log Likelihood</td><td>-22,736.670</td><td>-22,872.310</td><td>-22,905.620</td><td>-22,825.370</td></tr>\n",
      "<tr><td style=\"text-align:left\">Akaike Inf. Crit.</td><td>45,479.340</td><td>45,750.620</td><td>45,817.230</td><td>45,656.730</td></tr>\n",
      "<tr><td colspan=\"5\" style=\"border-bottom: 1px solid black\"></td></tr><tr><td style=\"text-align:left\"><em>Note:</em></td><td colspan=\"4\" style=\"text-align:right\"><sup>*</sup>p<0.1; <sup>**</sup>p<0.05; <sup>***</sup>p<0.01</td></tr>\n",
      "</table>\n"
     ]
    }
   ],
   "source": [
    "##table of coefficents for the category A only filter - simple global models\n",
    "stargazer(glm.sp.filt.test3,glm.pa.filt.test3, glm.kba.filt.test3, glm.hot.filt.test3,type=\"html\",out=\"Figures/a_only_models_5.htm\")"
   ]
  },
  {
   "cell_type": "markdown",
   "metadata": {},
   "source": [
    "## sensivity analysis - Spaitil resoltuion"
   ]
  },
  {
   "cell_type": "markdown",
   "metadata": {},
   "source": [
    "## Create 10 km dataset"
   ]
  },
  {
   "cell_type": "code",
   "execution_count": 5,
   "metadata": {},
   "outputs": [],
   "source": [
    "##read in all base layers\n",
    "base10 <- raster(paste(path,'rasters/10_base_moll.tif', sep =\"\")) #referecne raster \n",
    "names(base10) <- \"ID\"\n",
    "adm1 <- raster(paste(path,'rasters/adm1_10_moll.tif', sep = \"\")) # county information \n",
    "names(adm1) <- 'adm1'\n",
    "adm1_lookup <- read.csv('Data/adm1_lookup.csv') #lookup vlaues for country info \n",
    "###read in list of just those countires the world bank could possible lend to\n",
    "borrowers <- read.csv('Data/possible_WB_borrowers.csv')"
   ]
  },
  {
   "cell_type": "code",
   "execution_count": 6,
   "metadata": {},
   "outputs": [],
   "source": [
    "##read in species counts and sum - less than zero line removes water\n",
    "brd <- raster(paste(path,'rasters/birds_10_moll.tif', sep = \"\"))\n",
    "amp <- raster(paste(path,'rasters/mam_10_moll.tif', sep = \"\"))\n",
    "mam <- raster(paste(path,'rasters/amp_10_moll.tif', sep =\"\"))\n",
    "##create a layer which gives the sum of Globally threatended species \n",
    "sp <- sum(amp,brd,mam)\n",
    "names(sp) <- 'sp_count'\n",
    "##read in the biodvierty area layers - these are a percentgae covergae within the cell \n",
    "pa <- raster(paste(path, 'rasters/pa_iv_10_moll.tif', sep =\"\"))\n",
    "kba <- raster(paste(path,'rasters/kba_10_moll.tif', sep =\"\"))\n",
    "hot <- raster(paste(path,'rasters/hot_10_moll.tif',sep= \"\"))"
   ]
  },
  {
   "cell_type": "code",
   "execution_count": 7,
   "metadata": {},
   "outputs": [],
   "source": [
    "##create dataframe of all biodiversity layers and lookup values and filter to jsut borrowers\n",
    "layers <- stack(mam,amp,brd,sp,hot,kba,pa,base10,adm1)\n",
    "bio_wb <- as.data.frame(layers, xy = T, centroids = T, na.rm = F) %>% filter(adm1 > 0) %>% left_join(adm1_lookup, by = c(\"adm1\" = \"lookup\")) %>% \n",
    "                filter(GID_0 %in% borrowers$GID_0)"
   ]
  },
  {
   "cell_type": "code",
   "execution_count": 55,
   "metadata": {},
   "outputs": [],
   "source": [
    "##read in projects with all details - just for perscion 1\n",
    "##each project point has a lookup varable whcih tells us which cell it is in \n",
    "p <- read.csv(paste(path, 'projects/wb_p1_lookup_moll_10.csv', sep =\"\"))\n",
    "#create dataframe with all details attached to the projects\n",
    "p_info <- read.csv(paste(path, 'projects/wb_p1_detail_moll.csv', sep =\"\"))\n",
    "p_detail <- left_join(p, p_info, by = c(\"pro_lo_id\" = \"project_location_id\")) %>% \n",
    "                    mutate(p_length = difftime(strptime(end_actual_isodate, format = \"%Y-%m-%d\"), ## add project length\n",
    "                                               strptime(start_actual_isodate, format = \"%Y-%m-%d\"), units = \"weeks\")) %>% rename(\"ID\" = \"X5base\")"
   ]
  },
  {
   "cell_type": "code",
   "execution_count": 56,
   "metadata": {},
   "outputs": [],
   "source": [
    "##filter projects to jsut those likely to casue harm\n",
    "\n",
    "##create list of potenilly harmful sectors \n",
    "harm_sects = c(\"Agriculture, fishing, and forestry\",\"Energy and mining\",\"Transportation\", \n",
    "               \"Water, sanitation and flood protection\")\n",
    "\n",
    "p1 <- filter(p_detail, LENDING.INSTRUMENT %in% c(\"Specific Investment Loan\", \n",
    "                                                 \"Adaptable Program Loan\", \n",
    "                                                 \"Investment Project Financing\",\n",
    "                                                 \"Sector Investment and Maintenance Loan\")) %>% \n",
    "            filter(MJSECTOR.1 %in% harm_sects | MJSECTOR.2 %in% harm_sects) %>% \n",
    "                filter(ENV..CATEGORY %in% c(\"A\",\"B\"))\n",
    "\n"
   ]
  },
  {
   "cell_type": "code",
   "execution_count": 58,
   "metadata": {},
   "outputs": [
    {
     "name": "stderr",
     "output_type": "stream",
     "text": [
      "`summarise()` ungrouping output (override with `.groups` argument)\n",
      "\n"
     ]
    }
   ],
   "source": [
    "##create dataset\n",
    "p1_cells <- dplyr::select(p1, pro_lo_id, year, money, ID) %>% group_by(ID) %>%\n",
    "  summarise(count_all = n_distinct(pro_lo_id), money = sum(money, na.rm = T)) %>% mutate_all(~replace(., is.na(.), 0))"
   ]
  },
  {
   "cell_type": "code",
   "execution_count": 21,
   "metadata": {},
   "outputs": [],
   "source": [
    "##create final dataset and create binary varables\n",
    "data10 <- left_join(bio_wb, p1_cells, by = \"ID\") %>% mutate(count_all = replace(count_all, is.na(count_all), 0)) %>% mutate(bin_p = ifelse(count_all>0,1,0), \n",
    "                                                                                                                          bin_kba = ifelse(kba_10_moll >0,1,0),\n",
    "                                                                                                                          bin_pa = ifelse(pa_iv_10_moll >0,1,0),\n",
    "                                                                                                                          bin_hot = ifelse(hot_10_moll >0,1,0))"
   ]
  },
  {
   "cell_type": "code",
   "execution_count": 102,
   "metadata": {},
   "outputs": [],
   "source": [
    "##create vector with distances to nearest neighbour\n",
    "data10$nndist <- nndist(data10$x, data10$y)"
   ]
  },
  {
   "cell_type": "code",
   "execution_count": 103,
   "metadata": {},
   "outputs": [],
   "source": [
    "##filter to just those points with a direct neighbour\n",
    "data10 <- filter(data10, nndist < 10001)"
   ]
  },
  {
   "cell_type": "code",
   "execution_count": 23,
   "metadata": {},
   "outputs": [],
   "source": [
    "##list of cooridinates of centroids of the cells\n",
    "xy10 <- as.matrix(cbind(data10$x, data10$y))"
   ]
  },
  {
   "cell_type": "code",
   "execution_count": null,
   "metadata": {},
   "outputs": [],
   "source": [
    "##create neighbour object - queens case\n",
    "nb <- dnearneigh(xy10, d1 = 9000, d2 =15000,  row.names = data10$ID)"
   ]
  },
  {
   "cell_type": "code",
   "execution_count": null,
   "metadata": {},
   "outputs": [],
   "source": [
    "##create listW object \n",
    "listw10 <- nb2listw(nb, style = \"B\")"
   ]
  },
  {
   "cell_type": "code",
   "execution_count": 66,
   "metadata": {},
   "outputs": [],
   "source": [
    "#save object/ laod object \n",
    "save(listw10, file = 'R_objects/listw10.rda')\n",
    "#load('R_objects/listw10.rda')"
   ]
  },
  {
   "cell_type": "code",
   "execution_count": 24,
   "metadata": {},
   "outputs": [],
   "source": [
    "#calculate the autocoverate sum of neighbours\n",
    "data10$ac <-lag.listw(x = listw10, var=as.numeric(as.character(data10$bin_p)))"
   ]
  },
  {
   "cell_type": "code",
   "execution_count": 135,
   "metadata": {},
   "outputs": [],
   "source": [
    "##rescale species and set other metrics as factors\n",
    "data10 <- data10 %>% mutate(sp_norm = (sp_count - mean(sp_count)) / (2*sd(sp_count)), bin_p = as.factor(bin_p), bin_kba = as.factor(bin_kba),\n",
    "                            bin_hot = as.factor(bin_hot), bin_pa = as.factor(bin_pa))"
   ]
  },
  {
   "cell_type": "code",
   "execution_count": 53,
   "metadata": {},
   "outputs": [],
   "source": [
    "##save dataset\n",
    "write.csv(data10,\"Data/wb_global_data_moll_10.csv\")\n",
    "#data10 <- read.csv(\"Data/wb_global_data_moll_10.csv\")"
   ]
  },
  {
   "cell_type": "markdown",
   "metadata": {},
   "source": [
    "## Create 25km dataset"
   ]
  },
  {
   "cell_type": "code",
   "execution_count": 59,
   "metadata": {},
   "outputs": [],
   "source": [
    "##read in all base layers\n",
    "base25 <- raster(paste(path,'rasters/25_base_moll.tif', sep =\"\")) #referecne raster \n",
    "names(base25) <- \"ID\"\n",
    "adm1 <- raster(paste(path,'rasters/adm1_25_moll.tif', sep = \"\")) # county information \n",
    "names(adm1) <- 'adm1'\n",
    "adm1_lookup <- read.csv('Data/adm1_lookup.csv') #lookup vlaues for country info \n",
    "###read in list of just those countires the world bank could possible lend to\n",
    "borrowers <- read.csv('Data/possible_WB_borrowers.csv')"
   ]
  },
  {
   "cell_type": "code",
   "execution_count": 60,
   "metadata": {},
   "outputs": [],
   "source": [
    "##read in species counts and sum - less than zero line removes water\n",
    "brd <- raster(paste(path,'rasters/birds_25_moll.tif', sep = \"\"))\n",
    "amp <- raster(paste(path,'rasters/mam_25_moll.tif', sep = \"\"))\n",
    "mam <- raster(paste(path,'rasters/amp_25_moll.tif', sep =\"\"))\n",
    "##create a layer which gives the sum of Globally threatended species \n",
    "sp <- sum(amp,brd,mam)\n",
    "names(sp) <- 'sp_count'\n",
    "##read in the biodvierty area layers - these are a percentgae covergae within the 25km cell \n",
    "pa <- raster(paste(path, 'rasters/pa_iv_25_moll.tif', sep =\"\"))\n",
    "kba <- raster(paste(path,'rasters/kba_25_moll.tif', sep =\"\"))\n",
    "hot <- raster(paste(path,'rasters/hot_25_moll.tif',sep= \"\"))"
   ]
  },
  {
   "cell_type": "code",
   "execution_count": 61,
   "metadata": {},
   "outputs": [],
   "source": [
    "##create dataframe of all biodiversity layers and lookup values and filter to just borrowers\n",
    "layers <- stack(mam,amp,brd,sp,hot,kba,pa,base25,adm1)\n",
    "bio_world <- as.data.frame(layers, xy = T, centroids = T, na.rm = F) %>% filter(adm1 > 0) %>% left_join(adm1_lookup, by = c(\"adm1\" = \"lookup\"))  \n",
    "bio_wb <-  filter(bio_world, GID_0 %in% borrowers$GID_0)"
   ]
  },
  {
   "cell_type": "code",
   "execution_count": 67,
   "metadata": {},
   "outputs": [],
   "source": [
    "##read in projects with all details - just for perscion 1 and 2\n",
    "##each project point has a lookup varable whcih tells us which cell it is in \n",
    "p <- read.csv(paste(path, 'projects/wb_p12_lookup_moll_25.csv', sep =\"\"))\n",
    "#create dataframe with all details attached to the projects\n",
    "p_info <- read.csv(paste(path, 'projects/wb_p12_detail_moll.csv', sep =\"\"))\n",
    "p_detail <- left_join(p, p_info, by = c(\"pro_lo_id\" = \"project_location_id\")) %>% rename(\"ID\" = \"X25base\")"
   ]
  },
  {
   "cell_type": "code",
   "execution_count": 68,
   "metadata": {},
   "outputs": [],
   "source": [
    "##filter projects to just potenially harmful \n",
    "p1 <- filter(p_detail, LENDING.INSTRUMENT %in% c(\"Specific Investment Loan\", \n",
    "                                                 \"Adaptable Program Loan\", \n",
    "                                                 \"Investment Project Financing\",\n",
    "                                                 \"Sector Investment and Maintenance Loan\")) %>% \n",
    "        filter(p1,MJSECTOR.1 %in% harm_sects | MJSECTOR.2 %in% harm_sects) %>% \n",
    "            filter(ENV..CATEGORY %in% c(\"A\",\"B\"))"
   ]
  },
  {
   "cell_type": "code",
   "execution_count": 74,
   "metadata": {},
   "outputs": [],
   "source": [
    "#seperate dataset with only percsion code 1 for the maps\n",
    "p1.1 = filter(p1, precision_code == 1)"
   ]
  },
  {
   "cell_type": "code",
   "execution_count": 75,
   "metadata": {},
   "outputs": [],
   "source": [
    "##create dataset\n",
    "p1_cells <- dplyr::select(p1, pro_lo_id, year, money, ID) %>% group_by(ID) %>%\n",
    "  summarise(count_all = n_distinct(pro_lo_id)) %>% mutate_all(~replace(., is.na(.), 0))\n",
    "\n",
    "##create dataset with only percsion code 1 for maps\n",
    "p1_1_cells <- dplyr::select(p1.1, pro_lo_id, year, money, ID) %>% group_by(ID) %>%\n",
    "  summarise(count_all = n_distinct(pro_lo_id)) %>% mutate_all(~replace(., is.na(.), 0))"
   ]
  },
  {
   "cell_type": "code",
   "execution_count": 77,
   "metadata": {},
   "outputs": [],
   "source": [
    "##create final dataset and create binary varables\n",
    "data25 <- left_join(bio_wb, p1_cells, by = \"ID\") %>% mutate(count_all = replace(count_all, is.na(count_all), 0)) %>% mutate(bin_p = ifelse(count_all>0,1,0), \n",
    "                                                                                                                          bin_kba = ifelse(kba_25_moll >0,1,0),\n",
    "                                                                                                                          bin_pa = ifelse(pa_iv_25_moll >0,1,0),\n",
    "                                                                                                                          bin_hot = ifelse(hot_25_moll >0,1,0))\n",
    "\n",
    "##create final dataset and create binary varables - with only percion code 1 \n",
    "data25_p1 <- left_join(bio_wb, p1_1_cells, by = \"ID\") %>% mutate(count_all = replace(count_all, is.na(count_all), 0)) %>% mutate(bin_p = ifelse(count_all>0,1,0), \n",
    "                                                                                                                          bin_kba = ifelse(kba_25_moll >0,1,0),\n",
    "                                                                                                                          bin_pa = ifelse(pa_iv_25_moll >0,1,0),\n",
    "                                                                                                                          bin_hot = ifelse(hot_25_moll >0,1,0))"
   ]
  },
  {
   "cell_type": "code",
   "execution_count": 102,
   "metadata": {},
   "outputs": [],
   "source": [
    "##distances to nearest neighbour\n",
    "data25$nndist <- nndist(data25$x, data25$y)"
   ]
  },
  {
   "cell_type": "code",
   "execution_count": 103,
   "metadata": {},
   "outputs": [],
   "source": [
    "##filter to just those with a direct neighbour\n",
    "data25 <- filter(data25, nndist < 25001)"
   ]
  },
  {
   "cell_type": "code",
   "execution_count": 23,
   "metadata": {},
   "outputs": [],
   "source": [
    "##create list of coordinates of centroids of the cells\n",
    "xy25 <- as.matrix(cbind(data25$x, data25$y))"
   ]
  },
  {
   "cell_type": "code",
   "execution_count": null,
   "metadata": {},
   "outputs": [],
   "source": [
    "##create neghbour object - queesn case\n",
    "nb <- dnearneigh(xy25, d1 = 24000, d2 =37500,  row.names = data25$ID)"
   ]
  },
  {
   "cell_type": "code",
   "execution_count": null,
   "metadata": {},
   "outputs": [],
   "source": [
    "##create listW object \n",
    "listw25 <- nb2listw(nb, style = \"B\")"
   ]
  },
  {
   "cell_type": "code",
   "execution_count": 66,
   "metadata": {},
   "outputs": [],
   "source": [
    "#save object/ laod object \n",
    "save(listw25, file = 'R_objects/listw25.rda')\n",
    "#load('R_objects/listw10.rda')"
   ]
  },
  {
   "cell_type": "code",
   "execution_count": 24,
   "metadata": {},
   "outputs": [],
   "source": [
    "#calculate the autocoverate sum of neighbours\n",
    "data25$ac <-lag.listw(x = listw25, var=as.numeric(as.character(data25$bin_p)))"
   ]
  },
  {
   "cell_type": "code",
   "execution_count": 135,
   "metadata": {},
   "outputs": [],
   "source": [
    "##rescale species and set other metrics as factors\n",
    "data25 <- data25 %>% mutate(sp_norm = (sp_count - mean(sp_count)) / (2*sd(sp_count)), bin_p = as.factor(bin_p), bin_kba = as.factor(bin_kba),\n",
    "                            bin_hot = as.factor(bin_hot), bin_pa = as.factor(bin_pa))"
   ]
  },
  {
   "cell_type": "code",
   "execution_count": 78,
   "metadata": {},
   "outputs": [],
   "source": [
    "##write datasets\n",
    "write.csv(data25,\"Data/wb_global_data_moll_25.csv\") \n",
    "write.csv(data25_p1,\"Data/wb_global_data_moll_25_p1.csv\") ## for the maps\n",
    "write.csv(bio_world,\"Data/global_data_moll_25.csv\") ## for the maps\n",
    "#data10 <- read.csv(\"Data/wb_global_data_moll_10.csv\")"
   ]
  },
  {
   "cell_type": "markdown",
   "metadata": {},
   "source": [
    "## Create 50 km dataset"
   ]
  },
  {
   "cell_type": "code",
   "execution_count": 91,
   "metadata": {},
   "outputs": [],
   "source": [
    "##read in base layers\n",
    "base50 <- raster(paste(path,'rasters/50_base_moll.tif', sep =\"\")) #referecne raster \n",
    "names(base50) <- \"ID\"\n",
    "adm1 <- raster(paste(path,'rasters/adm1_50_moll.tif', sep = \"\")) # county information \n",
    "names(adm1) <- 'adm1'\n",
    "adm1_lookup <- read.csv('Data/adm1_lookup.csv') #lookup vlaues for country info \n",
    "###read in list of just those countires the world bank could possible lend to\n",
    "borrowers <- read.csv('Data/possible_WB_borrowers.csv')"
   ]
  },
  {
   "cell_type": "code",
   "execution_count": 92,
   "metadata": {},
   "outputs": [],
   "source": [
    "##read in species counts and sum - less than zero line removes water\n",
    "brd <- raster(paste(path,'rasters/birds_50_moll.tif', sep = \"\"))\n",
    "amp <- raster(paste(path,'rasters/mam_50_moll.tif', sep = \"\"))\n",
    "mam <- raster(paste(path,'rasters/amp_50_moll.tif', sep =\"\"))\n",
    "##create a layer which gives the sum of Globally threatended species \n",
    "sp <- sum(amp,brd,mam)\n",
    "names(sp) <- 'sp_count'\n",
    "##read in the biodvierty area layers - these are a percentgae covergae within the 25km cell \n",
    "pa <- raster(paste(path, 'rasters/pa_iv_50_moll.tif', sep =\"\"))\n",
    "kba <- raster(paste(path,'rasters/kba_50_moll.tif', sep =\"\"))\n",
    "hot <- raster(paste(path,'rasters/hot_50_moll.tif',sep= \"\"))"
   ]
  },
  {
   "cell_type": "code",
   "execution_count": 93,
   "metadata": {},
   "outputs": [],
   "source": [
    "##create dataframe of all biodiversity layers and lookup values and filter to jsut borrowers\n",
    "layers <- stack(mam,amp,brd,sp,hot,kba,pa,base50,adm1)\n",
    "bio_wb <- as.data.frame(layers, xy = T, centroids = T, na.rm = F) %>% filter(adm1 > 0) %>% left_join(adm1_lookup, by = c(\"adm1\" = \"lookup\")) %>% \n",
    "                filter(GID_0 %in% borrowers$GID_0)"
   ]
  },
  {
   "cell_type": "code",
   "execution_count": 95,
   "metadata": {},
   "outputs": [],
   "source": [
    "##read in projects with all details - just for perscion 1 and 2\n",
    "##each project point has a lookup varable whcih tells us which cell it is in \n",
    "p <- read.csv(paste(path, 'projects/wb_p12_lookup_moll_50.csv', sep =\"\"))\n",
    "#create dataframe with all details attached to the projects\n",
    "p_info <- read.csv(paste(path, 'projects/wb_p12_detail_moll.csv', sep =\"\"))\n",
    "p_detail <- left_join(p, p_info, by = c(\"pro_lo_id\" = \"project_location_id\")) %>% rename(\"ID\" = \"X50base\")"
   ]
  },
  {
   "cell_type": "code",
   "execution_count": 96,
   "metadata": {},
   "outputs": [],
   "source": [
    "##filter projects\n",
    "\n",
    "p1 <- filter(p_detail, LENDING.INSTRUMENT %in% c(\"Specific Investment Loan\", \n",
    "                                                 \"Adaptable Program Loan\", \n",
    "                                                 \"Investment Project Financing\",\n",
    "                                                 \"Sector Investment and Maintenance Loan\")) %>%\n",
    "        filter(MJSECTOR.1 %in% harm_sects | MJSECTOR.2 %in% harm_sects) %>% \n",
    "        filter(ENV..CATEGORY %in% c(\"A\",\"B\"))"
   ]
  },
  {
   "cell_type": "code",
   "execution_count": 99,
   "metadata": {},
   "outputs": [
    {
     "name": "stderr",
     "output_type": "stream",
     "text": [
      "`summarise()` ungrouping output (override with `.groups` argument)\n",
      "\n"
     ]
    }
   ],
   "source": [
    "##create dataset\n",
    "p1_cells <- dplyr::select(filt, pro_lo_id, year, money, ID) %>% group_by(ID) %>%\n",
    "  summarise(count_all = n_distinct(pro_lo_id)) %>% mutate_all(~replace(., is.na(.), 0))"
   ]
  },
  {
   "cell_type": "code",
   "execution_count": 100,
   "metadata": {},
   "outputs": [],
   "source": [
    "##create final dataset and create binary varables\n",
    "data50 <- left_join(bio_wb, p1_cells, by = \"ID\") %>% mutate(count_all = replace(count_all, is.na(count_all), 0)) %>% mutate(bin_p = ifelse(count_all>0,1,0), \n",
    "                                                                                                                          bin_kba = ifelse(kba_50_moll >0,1,0),\n",
    "                                                                                                                          bin_pa = ifelse(pa_iv_50_moll >0,1,0),\n",
    "                                                                                                                          bin_hot = ifelse(hot_50_moll >0,1,0))"
   ]
  },
  {
   "cell_type": "code",
   "execution_count": 102,
   "metadata": {},
   "outputs": [],
   "source": [
    "## distance to nearest neighbour\n",
    "data50$nndist <- nndist(data50$x, data50$y)"
   ]
  },
  {
   "cell_type": "code",
   "execution_count": 103,
   "metadata": {},
   "outputs": [],
   "source": [
    "##filter to just those with a direct neighbour\n",
    "data50 <- filter(data50, nndist < 50001)"
   ]
  },
  {
   "cell_type": "code",
   "execution_count": 23,
   "metadata": {},
   "outputs": [],
   "source": [
    "##create list of coordinates of centroids of the cells\n",
    "xy50 <- as.matrix(cbind(data50$x, data50$y))"
   ]
  },
  {
   "cell_type": "code",
   "execution_count": null,
   "metadata": {},
   "outputs": [],
   "source": [
    "##create neighbour object - queens case\n",
    "nb <- dnearneigh(xy50, d1 = 49000, d2 =75000,  row.names = data50$ID)"
   ]
  },
  {
   "cell_type": "code",
   "execution_count": null,
   "metadata": {},
   "outputs": [],
   "source": [
    "##create listW object \n",
    "listw50 <- nb2listw(nb, style = \"B\")"
   ]
  },
  {
   "cell_type": "code",
   "execution_count": 66,
   "metadata": {},
   "outputs": [],
   "source": [
    "#save object\n",
    "save(listw50, file = 'R_objects/listw50.rda')\n",
    "#load('R_objects/listw10.rda')"
   ]
  },
  {
   "cell_type": "code",
   "execution_count": 24,
   "metadata": {},
   "outputs": [],
   "source": [
    "#calculate the autocoverate\n",
    "data50$ac <-lag.listw(x = listw50, var=as.numeric(as.character(data50$bin_p)))"
   ]
  },
  {
   "cell_type": "code",
   "execution_count": 135,
   "metadata": {},
   "outputs": [],
   "source": [
    "##rescale species and set other metrics as factors\n",
    "data50 <- data50 %>% mutate(sp_norm = (sp_count - mean(sp_count)) / (2*sd(sp_count)), bin_p = as.factor(bin_p), bin_kba = as.factor(bin_kba),\n",
    "                            bin_hot = as.factor(bin_hot), bin_pa = as.factor(bin_pa))"
   ]
  },
  {
   "cell_type": "code",
   "execution_count": 114,
   "metadata": {},
   "outputs": [],
   "source": [
    "##write dataset\n",
    "write.csv(data50,\"Data/wb_global_data_moll_50.csv\")\n",
    "#data50 <- read.csv(\"Data/wb_global_data_moll_50.csv\")"
   ]
  },
  {
   "cell_type": "markdown",
   "metadata": {},
   "source": [
    "## Run the simple global analysis models to check effect of resolution"
   ]
  },
  {
   "cell_type": "code",
   "execution_count": 137,
   "metadata": {},
   "outputs": [],
   "source": [
    "##simple models to test global level overlap - 10km\n",
    "glm.sp10 <-glm(bin_p~ac+sp_norm, family=binomial, data=data10)\n",
    "glm.pa10 <- glm(bin_p~ac+bin_pa, family=binomial, data=data10)\n",
    "glm.kba10 <- glm(bin_p~ac+bin_kba, family=binomial, data=data10)\n",
    "glm.hot10 <- glm(bin_p~ac+bin_hot, family=binomial, data=data10)"
   ]
  },
  {
   "cell_type": "code",
   "execution_count": null,
   "metadata": {},
   "outputs": [],
   "source": [
    "#create table of model reuslts for simple models - 10 km \n",
    "stargazer(glm.sp10,glm.pa10, glm.kba10, glm.hot10, type=\"html\",out=\"Figures/simp_g_models_moll_10.html\")"
   ]
  },
  {
   "cell_type": "code",
   "execution_count": 137,
   "metadata": {},
   "outputs": [],
   "source": [
    "##simple models to test global level overlap - 25km\n",
    "glm.sp25 <-glm(bin_p~ac+sp_norm, family=binomial, data=data25)\n",
    "glm.pa25 <- glm(bin_p~ac+bin_pa, family=binomial, data=data25)\n",
    "glm.kba25 <- glm(bin_p~ac+bin_kba, family=binomial, data=data25)\n",
    "glm.hot25 <- glm(bin_p~ac+bin_hot, family=binomial, data=data25)"
   ]
  },
  {
   "cell_type": "code",
   "execution_count": null,
   "metadata": {},
   "outputs": [],
   "source": [
    "#create table of model reuslts for simple models - 25km \n",
    "stargazer(glm.sp25,glm.pa25, glm.kba25, glm.hot25, type=\"html\",out=\"Figures/simp_g_models_moll_25.html\")"
   ]
  },
  {
   "cell_type": "code",
   "execution_count": null,
   "metadata": {},
   "outputs": [],
   "source": [
    "##simple models to test global level overlap - 50km\n",
    "glm.sp50 <-glm(bin_p~ac+sp_norm, family=binomial, data=data50)\n",
    "glm.pa50 <- glm(bin_p~ac+bin_pa, family=binomial, data=data50)\n",
    "glm.kba50 <- glm(bin_p~ac+bin_kba, family=binomial, data=data50)\n",
    "glm.hot50 <- glm(bin_p~ac+bin_hot, family=binomial, data=data50)"
   ]
  },
  {
   "cell_type": "code",
   "execution_count": null,
   "metadata": {},
   "outputs": [],
   "source": [
    "#create table of model reuslts for simple models - 50km \n",
    "stargazer(glm.sp50,glm.pa50, glm.kba50, glm.hot50, type=\"html\",out=\"Figures/simp_g_models_moll_50.html\")"
   ]
  },
  {
   "cell_type": "markdown",
   "metadata": {},
   "source": [
    "# complex models"
   ]
  },
  {
   "cell_type": "code",
   "execution_count": 5,
   "metadata": {},
   "outputs": [],
   "source": [
    "##read in country level predictors and merge into one dataset - taking the avergae value for the time period\n",
    "cpi <- read.csv(paste(path,\"other_data/cpi.csv\", sep=\"\"))\n",
    "gni <- read.csv(paste(path,\"other_data/GNI_per_cap.csv\", sep =\"\"))\n",
    "##merge togther datasets \n",
    "cnty_vars <- dplyr::select(gni, Country.Code, avg_GNI) %>%\n",
    "                left_join(dplyr::select(cpi, country_code, avg_cpi), by = c(\"Country.Code\" = \"country_code\"))"
   ]
  },
  {
   "cell_type": "code",
   "execution_count": 6,
   "metadata": {},
   "outputs": [],
   "source": [
    "##read in human population data - using coarser resoltuion datasets to match others\n",
    "pop_00_in <- raster(paste(path,\"other_data/gpw_v4_population_count_rev11_2000_15_min.tif\",sep=\"\"))\n",
    "names(pop_00_in) <- \"pop_00\"\n",
    "\n",
    "pop_05_in <- raster(paste(path,\"other_data/gpw_v4_population_count_rev11_2005_15_min.tif\", sep =\"\"))\n",
    "names(pop_05_in) <- \"pop_05\"\n",
    "\n",
    "pop_10_in <- raster(paste(path,\"other_data/gpw_v4_population_count_rev11_2010_15_min.tif\", sep =\"\"))\n",
    "names(pop_10_in) <- \"pop_10\"\n",
    "\n",
    "pop_15_in <- raster(paste(path,\"other_data/gpw_v4_population_count_rev11_2015_15_min.tif\", sep =\"\"))\n",
    "names(pop_15_in) <- \"pop_15\""
   ]
  },
  {
   "cell_type": "markdown",
   "metadata": {},
   "source": [
    "### create 10 km dataset for complex models"
   ]
  },
  {
   "cell_type": "code",
   "execution_count": null,
   "metadata": {},
   "outputs": [],
   "source": [
    "####reproject to correct projection and resample to the base raster \n",
    "pop_00 <- resample(projectRaster(pop_00_in, base10), base10, method =\"bilinear\")\n",
    "pop_05 <- resample(projectRaster(pop_05_in, base10), base10, method =\"bilinear\")\n",
    "pop_10 <- resample(projectRaster(pop_10_in, base10), bas10, method =\"bilinear\")\n",
    "pop_15 <- resample( projectRaster(pop_15_in, base10), base10, method =\"bilinear\")"
   ]
  },
  {
   "cell_type": "code",
   "execution_count": 13,
   "metadata": {},
   "outputs": [],
   "source": [
    "##create a dataframe\n",
    "pop_stack <- stack(pop_00, pop_05, pop_10, pop_15, base10)\n",
    "pop <- as.data.frame(pop_stack, xy = T, centroids = T)\n",
    "#create avergae populaiton varable \n",
    "pop$avg_pop <- (pop$pop_00 + pop$pop_05 + pop$pop_10 + pop$pop_15) /4"
   ]
  },
  {
   "cell_type": "code",
   "execution_count": 18,
   "metadata": {},
   "outputs": [],
   "source": [
    "##join to dataset\n",
    "data10.1 <- left_join(data10, dplyr::select(pop, X10_base_moll, avg_pop), by=c(\"ID\"=\"X10_base_moll\")) %>% mutate(avg_pop = replace(avg_pop, is.na(avg_pop), 0)) %>% \n",
    "                    left_join(cnty_vars,  by = c(\"GID_0\"= \"Country.Code\")) %>% filter(avg_GNI >0 & avg_cpi > 0) %>% \n",
    "                        mutate(pop_norm = (avg_pop - mean(avg_pop))/ (2*sd(avg_pop)), \n",
    "                                            gni_norm = (avg_GNI - mean(avg_GNI, na.rm = T))/ (2*sd(avg_GNI)),\n",
    "                                                        cpi_norm = (avg_cpi - mean(avg_cpi, na.rm = T))/ (2*sd(avg_cpi))) %>% droplevels()"
   ]
  },
  {
   "cell_type": "code",
   "execution_count": 24,
   "metadata": {},
   "outputs": [],
   "source": [
    "##rescale species and set other metrics as factors\n",
    "data10.1 <- data10.1 %>% mutate(sp_norm = (sp_count - mean(sp_count)) / (2*sd(sp_count)), bin_p = as.factor(bin_p), bin_kba = as.factor(bin_kba),\n",
    "                            bin_hot = as.factor(bin_hot), bin_pa = as.factor(bin_pa))"
   ]
  },
  {
   "cell_type": "code",
   "execution_count": 102,
   "metadata": {},
   "outputs": [],
   "source": [
    "##distances to nearest neighbour\n",
    "data10.1$nndist <- nndist(data10.1$x, data10.1$y)"
   ]
  },
  {
   "cell_type": "code",
   "execution_count": 103,
   "metadata": {},
   "outputs": [],
   "source": [
    "##filter to those with a direct neighbour\n",
    "data10.1 <- filter(data10.1, nndist < 10001)"
   ]
  },
  {
   "cell_type": "code",
   "execution_count": 23,
   "metadata": {},
   "outputs": [],
   "source": [
    "##coordinates of centroids\n",
    "xy10.1 <- as.matrix(cbind(data10.1$x, data10.1$y))"
   ]
  },
  {
   "cell_type": "code",
   "execution_count": null,
   "metadata": {},
   "outputs": [],
   "source": [
    "##create neghbour object\n",
    "nb <- dnearneigh(xy10.1, d1 = 9000, d2 =15000,  row.names = data10.1$ID)"
   ]
  },
  {
   "cell_type": "code",
   "execution_count": null,
   "metadata": {},
   "outputs": [],
   "source": [
    "##create listW object \n",
    "listw10.1 <- nb2listw(nb, style = \"B\")"
   ]
  },
  {
   "cell_type": "code",
   "execution_count": 66,
   "metadata": {},
   "outputs": [],
   "source": [
    "#save object\n",
    "save(listw10.1, file = 'R_objects/listw10_1.rda')\n",
    "#load('R_objects/listw10_1.rda')"
   ]
  },
  {
   "cell_type": "code",
   "execution_count": 24,
   "metadata": {},
   "outputs": [],
   "source": [
    "#calculate the autocoverate\n",
    "data10.1$ac <-lag.listw(x = listw10.1, var=as.numeric(as.character(data10.1$bin_p)))"
   ]
  },
  {
   "cell_type": "code",
   "execution_count": 114,
   "metadata": {},
   "outputs": [],
   "source": [
    "##write dataset\n",
    "write.csv(data10.1,\"Data/wb_global_data_moll_10_1.csv\")\n",
    "#data10.1 <- read.csv(\"Data/wb_global_data_moll_10_1.csv\")"
   ]
  },
  {
   "cell_type": "markdown",
   "metadata": {},
   "source": [
    "### create 25 km dataset for complex models"
   ]
  },
  {
   "cell_type": "code",
   "execution_count": null,
   "metadata": {},
   "outputs": [],
   "source": [
    "####reproject to correct projection and resample to the base raster \n",
    "pop_00 <- resample(projectRaster(pop_00_in, base25), base25, method =\"bilinear\")\n",
    "pop_05 <- resample(projectRaster(pop_05_in, base25), base25, method =\"bilinear\")\n",
    "pop_10 <- resample(projectRaster(pop_10_in, base25), base25, method =\"bilinear\")\n",
    "pop_15 <- resample( projectRaster(pop_15_in, base25), base25, method =\"bilinear\")"
   ]
  },
  {
   "cell_type": "code",
   "execution_count": 13,
   "metadata": {},
   "outputs": [],
   "source": [
    "##create a dataframe\n",
    "pop_stack <- stack(pop_00, pop_05, pop_10, pop_15, base25)\n",
    "pop <- as.data.frame(pop_stack, xy = T, centroids = T)\n",
    "#create avergae populaiton varable \n",
    "pop$avg_pop <- (pop$pop_00 + pop$pop_05 + pop$pop_10 + pop$pop_15) /4"
   ]
  },
  {
   "cell_type": "code",
   "execution_count": 18,
   "metadata": {},
   "outputs": [],
   "source": [
    "##join to dataset\n",
    "data25.1 <- left_join(data25, dplyr::select(pop, X25_base_moll, avg_pop), by=c(\"ID\"=\"X25_base_moll\")) %>% mutate(avg_pop = replace(avg_pop, is.na(avg_pop), 0)) %>% \n",
    "                    left_join(cnty_vars,  by = c(\"GID_0\"= \"Country.Code\")) %>% filter(avg_GNI >0 & avg_cpi > 0) %>% \n",
    "                        mutate(pop_norm = (avg_pop - mean(avg_pop))/ (2*sd(avg_pop)), \n",
    "                                            gni_norm = (avg_GNI - mean(avg_GNI, na.rm = T))/ (2*sd(avg_GNI)),\n",
    "                                                        cpi_norm = (avg_cpi - mean(avg_cpi, na.rm = T))/ (2*sd(avg_cpi))) %>% droplevels()"
   ]
  },
  {
   "cell_type": "code",
   "execution_count": 24,
   "metadata": {},
   "outputs": [],
   "source": [
    "##rescale species and set other metrics as factors\n",
    "data25.1 <- data25.1 %>% mutate(sp_norm = (sp_count - mean(sp_count)) / (2*sd(sp_count)), bin_p = as.factor(bin_p), bin_kba = as.factor(bin_kba),\n",
    "                            bin_hot = as.factor(bin_hot), bin_pa = as.factor(bin_pa))"
   ]
  },
  {
   "cell_type": "code",
   "execution_count": 102,
   "metadata": {},
   "outputs": [],
   "source": [
    "##nearest neighbour\n",
    "data25.1$nndist <- nndist(data25.1$x, data25.1$y)"
   ]
  },
  {
   "cell_type": "code",
   "execution_count": 103,
   "metadata": {},
   "outputs": [],
   "source": [
    "##filter to those with a direct neighbour\n",
    "data25.1 <- filter(data25.1, nndist < 25001)"
   ]
  },
  {
   "cell_type": "code",
   "execution_count": 23,
   "metadata": {},
   "outputs": [],
   "source": [
    "##coords of centroids\n",
    "xy25.1 <- as.matrix(cbind(data25.1$x, data25.1$y))"
   ]
  },
  {
   "cell_type": "code",
   "execution_count": null,
   "metadata": {},
   "outputs": [],
   "source": [
    "##create neighbour object\n",
    "nb <- dnearneigh(xy25.1, d1 = 24000, d2 =37500,  row.names = data25.1$ID)"
   ]
  },
  {
   "cell_type": "code",
   "execution_count": null,
   "metadata": {},
   "outputs": [],
   "source": [
    "##create listW object \n",
    "listw25.1 <- nb2listw(nb, style = \"B\")"
   ]
  },
  {
   "cell_type": "code",
   "execution_count": 66,
   "metadata": {},
   "outputs": [],
   "source": [
    "#save object\n",
    "save(listw25.1, file = 'R_objects/listw25_1.rda')\n",
    "#load('R_objects/listw25_1.rda')"
   ]
  },
  {
   "cell_type": "code",
   "execution_count": 24,
   "metadata": {},
   "outputs": [],
   "source": [
    "#calcualte the autocoverate\n",
    "data25.1$ac <-lag.listw(x = listw25.1, var=as.numeric(as.character(data25.1$bin_p)))"
   ]
  },
  {
   "cell_type": "code",
   "execution_count": 114,
   "metadata": {},
   "outputs": [],
   "source": [
    "##write dataset\n",
    "write.csv(data25.1,\"Data/wb_global_data_moll_25_1.csv\")\n",
    "#data25.1 <- read.csv(\"Data/wb_global_data_moll_25_1.csv\")"
   ]
  },
  {
   "cell_type": "markdown",
   "metadata": {},
   "source": [
    "### create 50 km dataset for complex models"
   ]
  },
  {
   "cell_type": "code",
   "execution_count": null,
   "metadata": {},
   "outputs": [],
   "source": [
    "####reproject to correct projection and resample to the base raster \n",
    "pop_00 <- resample(projectRaster(pop_00_in, base50), base50, method =\"bilinear\")\n",
    "pop_05 <- resample(projectRaster(pop_05_in, base50), base50, method =\"bilinear\")\n",
    "pop_10 <- resample(projectRaster(pop_10_in, base50), base50, method =\"bilinear\")\n",
    "pop_15 <- resample( projectRaster(pop_15_in, base50), base50, method =\"bilinear\")"
   ]
  },
  {
   "cell_type": "code",
   "execution_count": 13,
   "metadata": {},
   "outputs": [],
   "source": [
    "##create a dataframe\n",
    "pop_stack <- stack(pop_00, pop_05, pop_10, pop_15, base50)\n",
    "pop <- as.data.frame(pop_stack, xy = T, centroids = T)\n",
    "#create avergae populaiton varable \n",
    "pop$avg_pop <- (pop$pop_00 + pop$pop_05 + pop$pop_10 + pop$pop_15) /4"
   ]
  },
  {
   "cell_type": "code",
   "execution_count": 18,
   "metadata": {},
   "outputs": [],
   "source": [
    "##join to dataset\n",
    "data50.1 <- left_join(data25, dplyr::select(pop, X50_base_moll, avg_pop), by=c(\"ID\"=\"X50_base_moll\")) %>% mutate(avg_pop = replace(avg_pop, is.na(avg_pop), 0)) %>% \n",
    "                    left_join(cnty_vars,  by = c(\"GID_0\"= \"Country.Code\")) %>% filter(avg_GNI >0 & avg_cpi > 0) %>% \n",
    "                        mutate(pop_norm = (avg_pop - mean(avg_pop))/ (2*sd(avg_pop)), \n",
    "                                            gni_norm = (avg_GNI - mean(avg_GNI, na.rm = T))/ (2*sd(avg_GNI)),\n",
    "                                                        cpi_norm = (avg_cpi - mean(avg_cpi, na.rm = T))/ (2*sd(avg_cpi))) %>% droplevels()"
   ]
  },
  {
   "cell_type": "code",
   "execution_count": 24,
   "metadata": {},
   "outputs": [],
   "source": [
    "##rescale species and set other metrics as factors\n",
    "data50.1 <- data50.1 %>% mutate(sp_norm = (sp_count - mean(sp_count)) / (2*sd(sp_count)), bin_p = as.factor(bin_p), bin_kba = as.factor(bin_kba),\n",
    "                            bin_hot = as.factor(bin_hot), bin_pa = as.factor(bin_pa))"
   ]
  },
  {
   "cell_type": "code",
   "execution_count": 102,
   "metadata": {},
   "outputs": [],
   "source": [
    "##nearest neighbour\n",
    "data50.1$nndist <- nndist(data50.1$x, data50.1$y)"
   ]
  },
  {
   "cell_type": "code",
   "execution_count": 103,
   "metadata": {},
   "outputs": [],
   "source": [
    "##those with a direct neighbours only \n",
    "data50.1 <- filter(data50.1, nndist < 50001)"
   ]
  },
  {
   "cell_type": "code",
   "execution_count": 23,
   "metadata": {},
   "outputs": [],
   "source": [
    "##coordiantes of centroids\n",
    "xy50.1 <- as.matrix(cbind(data50.1$x, data50.1$y))"
   ]
  },
  {
   "cell_type": "code",
   "execution_count": null,
   "metadata": {},
   "outputs": [],
   "source": [
    "##create neighbour object\n",
    "nb <- dnearneigh(xy50.1, d1 = 49000, d2 =75000,  row.names = data50.1$ID)"
   ]
  },
  {
   "cell_type": "code",
   "execution_count": null,
   "metadata": {},
   "outputs": [],
   "source": [
    "##create listW object \n",
    "listw50.1 <- nb2listw(nb, style = \"B\")"
   ]
  },
  {
   "cell_type": "code",
   "execution_count": 66,
   "metadata": {},
   "outputs": [],
   "source": [
    "#save object\n",
    "save(listw50.1, file = 'R_objects/listw50_1.rda')\n",
    "#load('R_objects/listw50_1.rda')"
   ]
  },
  {
   "cell_type": "code",
   "execution_count": 24,
   "metadata": {},
   "outputs": [],
   "source": [
    "#calcualte the autocoverate\n",
    "data50.1$ac <-lag.listw(x = listw50.1, var=as.numeric(as.character(data50.1$bin_p)))"
   ]
  },
  {
   "cell_type": "code",
   "execution_count": 114,
   "metadata": {},
   "outputs": [],
   "source": [
    "##write dataset\n",
    "write.csv(data50.1,\"Data/wb_global_data_moll_50_1.csv\")\n",
    "#data50.1 <- read.csv(\"Data/wb_global_data_moll_50_1.csv\")"
   ]
  },
  {
   "cell_type": "markdown",
   "metadata": {},
   "source": [
    "### run complex mdoels for all resolutions"
   ]
  },
  {
   "cell_type": "code",
   "execution_count": null,
   "metadata": {},
   "outputs": [],
   "source": [
    "#complex global models at 10 km \n",
    "glmm.sp10 <- glmer(bin_p ~ ac + pop_norm + sp_norm + gni_norm + cpi_norm + (1|NAME_0), family=binomial, data=data10.1)\n",
    "glmm.pa10 <- glmer(bin_p ~ ac + pop_norm + bin_pa + gni_norm + cpi_norm + (1|NAME_0), family=binomial, data=data10.1)\n",
    "glmm.kba10 <- glmer(bin_p~ ac + pop_norm + bin_kba + gni_norm + cpi_norm + (1|NAME_0), family=binomial, data=data10.1)\n",
    "glmm.hot10 <- glmer(bin_p~ ac + pop_norm + bin_hot + gni_norm + cpi_norm + (1|NAME_0), family=binomial, data=data10.1)"
   ]
  },
  {
   "cell_type": "code",
   "execution_count": null,
   "metadata": {},
   "outputs": [],
   "source": [
    "##table of coefficents of complex global models at 10km \n",
    "stargazer(glmm.sp10,glmm.pa10, glmm.kba10, glmm.hot10, type=\"html\",out=\"Figures/com_g_models_moll_10.htm\")"
   ]
  },
  {
   "cell_type": "code",
   "execution_count": null,
   "metadata": {},
   "outputs": [],
   "source": [
    "#complex global models at 50 km \n",
    "glmm.sp25 <- glmer(bin_p ~ ac + pop_norm + sp_norm + gni_norm + cpi_norm + (1|NAME_0), family=binomial, data=data25.1)\n",
    "glmm.pa25 <- glmer(bin_p ~ ac + pop_norm + bin_pa + gni_norm + cpi_norm + (1|NAME_0), family=binomial, data=data25.1)\n",
    "glmm.kba25 <- glmer(bin_p~ ac + pop_norm + bin_kba + gni_norm + cpi_norm + (1|NAME_0), family=binomial, data=data25.1)\n",
    "glmm.hot25 <- glmer(bin_p~ ac + pop_norm + bin_hot + gni_norm + cpi_norm + (1|NAME_0), family=binomial, data=data25.1)"
   ]
  },
  {
   "cell_type": "code",
   "execution_count": null,
   "metadata": {},
   "outputs": [],
   "source": [
    "##table of coefficents of complex global models at 25km \n",
    "stargazer(glmm.sp25,glmm.pa25, glmm.kba25, glmm.hot25, type=\"html\",out=\"Figures/com_g_models_moll_25.htm\")"
   ]
  },
  {
   "cell_type": "code",
   "execution_count": null,
   "metadata": {},
   "outputs": [],
   "source": [
    "#complex global models at 50 km \n",
    "glmm.sp50 <- glmer(bin_p ~ ac + pop_norm + sp_norm + gni_norm + cpi_norm + (1|NAME_0), family=binomial, data=data50.1)\n",
    "glmm.pa50 <- glmer(bin_p ~ ac + pop_norm + bin_pa + gni_norm + cpi_norm + (1|NAME_0), family=binomial, data=data50.1)\n",
    "glmm.kba50 <- glmer(bin_p~ ac + pop_norm + bin_kba + gni_norm + cpi_norm + (1|NAME_0), family=binomial, data=data50.1)\n",
    "glmm.hot50 <- glmer(bin_p~ ac + pop_norm + bin_hot + gni_norm + cpi_norm + (1|NAME_0), family=binomial, data=data50.1)"
   ]
  },
  {
   "cell_type": "code",
   "execution_count": null,
   "metadata": {},
   "outputs": [],
   "source": [
    "##table of coefficents of complex global models at 50km \n",
    "stargazer(glmm.sp50,glmm.pa50, glmm.kba50, glmm.hot50, type=\"html\",out=\"Figures/com_g_models_moll_50.htm\")"
   ]
  }
 ],
 "metadata": {
  "kernelspec": {
   "display_name": "R 3.6.0",
   "language": "R",
   "name": "ir35"
  },
  "language_info": {
   "codemirror_mode": "r",
   "file_extension": ".r",
   "mimetype": "text/x-r-source",
   "name": "R",
   "pygments_lexer": "r",
   "version": "3.6.1"
  }
 },
 "nbformat": 4,
 "nbformat_minor": 4
}
