{
 "cells": [
  {
   "cell_type": "code",
   "execution_count": 1,
   "metadata": {},
   "outputs": [],
   "source": [
    "import math\n",
    "import numpy as np\n",
    "import rasterio\n",
    "from rasterio.transform import from_origin\n",
    "from rasterio.features import rasterize\n",
    "from rasterio.warp import reproject, Resampling\n",
    "import geopandas as gpd\n",
    "import pandas as pd\n",
    "from shapely.geometry import Point\n",
    "import rasterstats as rs"
   ]
  },
  {
   "cell_type": "code",
   "execution_count": 2,
   "metadata": {},
   "outputs": [],
   "source": [
    "path = 'Insert path'"
   ]
  },
  {
   "cell_type": "code",
   "execution_count": 3,
   "metadata": {},
   "outputs": [],
   "source": [
    "##read in the shape file with adm1 districts - this is a combination of the gadm36_1.sp file plus and mising countries added in from the gadm36_0.shp file \n",
    "##these will only have a single district for the country most are small isalnd \n",
    "adm1 = gpd.read_file(path + r'country_data/adm1_final.shp')\n",
    "adm1 = adm1[['GID_1','GID_0', 'NAME_0', 'geometry']]"
   ]
  },
  {
   "cell_type": "code",
   "execution_count": 4,
   "metadata": {},
   "outputs": [],
   "source": [
    "##reproject to a Mollwiede equal area projection\n",
    "crs = '+proj=moll +lon_0=0 +x_0=0 +y_0=0 +ellps=WGS84 +datum=WGS84 +units=m +no_defs'\n",
    "adm1 = adm1.to_crs(crs)"
   ]
  },
  {
   "cell_type": "code",
   "execution_count": 5,
   "metadata": {},
   "outputs": [],
   "source": [
    "##extract extent\n",
    "extent = adm1.geometry.total_bounds"
   ]
  },
  {
   "cell_type": "markdown",
   "metadata": {},
   "source": [
    "### 1 km raster base"
   ]
  },
  {
   "cell_type": "code",
   "execution_count": 10,
   "metadata": {},
   "outputs": [],
   "source": [
    "##create finer raster \n",
    "x_res = 1000\n",
    "y_res = 1000\n",
    "\n",
    "##loaction for new raster\n",
    "base_1 = (path + r'rasters/1_base_moll.tif')"
   ]
  },
  {
   "cell_type": "code",
   "execution_count": 11,
   "metadata": {},
   "outputs": [],
   "source": [
    "##Calculate raster dataset dimensions from desired pixel resolution the +6 is required for matching other datalayers\n",
    "tiff_width = int(math.ceil(abs(extent[2] - extent[0]) / x_res))\n",
    "tiff_height = int(math.ceil(abs(extent[3] - extent[1]) / y_res))"
   ]
  },
  {
   "cell_type": "code",
   "execution_count": 12,
   "metadata": {},
   "outputs": [],
   "source": [
    "# Create raster GeoTransform based on upper left corner and pixel dimensions\n",
    "transform = from_origin(extent[0], extent[3], x_res, y_res)\n",
    "\n",
    "##create an array with  sequence of numbers \n",
    "start = 1\n",
    "end = (tiff_width * tiff_height) + 1\n",
    "arr = np.arange(start, end, 1).reshape(tiff_height, tiff_width).astype(np.float)"
   ]
  },
  {
   "cell_type": "code",
   "execution_count": 13,
   "metadata": {},
   "outputs": [],
   "source": [
    "##write new raster \n",
    "new_dataset = rasterio.open(base_1, 'w', driver='GTiff',\n",
    "                            height = arr.shape[0], width = arr.shape[1],\n",
    "                            count=1, dtype=str(arr.dtype),\n",
    "                            crs=crs,\n",
    "                            transform = transform)\n",
    "new_dataset.write(arr, 1)\n",
    "new_dataset.close()"
   ]
  },
  {
   "cell_type": "markdown",
   "metadata": {},
   "source": [
    "### 5 km raster base"
   ]
  },
  {
   "cell_type": "code",
   "execution_count": 14,
   "metadata": {},
   "outputs": [],
   "source": [
    "##create finer raster \n",
    "x_res = 5000\n",
    "y_res = 5000\n",
    "\n",
    "##loaction for new raster\n",
    "base_5 = (path + r'rasters/5_base_moll.tif')"
   ]
  },
  {
   "cell_type": "code",
   "execution_count": 15,
   "metadata": {},
   "outputs": [],
   "source": [
    "##Calculate raster dataset dimensions from desired pixel resolution the +6 is required for matching other datalayers\n",
    "tiff_width = int(math.ceil(abs(extent[2] - extent[0]) / x_res))\n",
    "tiff_height = int(math.ceil(abs(extent[3] - extent[1]) / y_res))"
   ]
  },
  {
   "cell_type": "code",
   "execution_count": 16,
   "metadata": {},
   "outputs": [],
   "source": [
    "# Create raster GeoTransform based on upper left corner and pixel dimensions\n",
    "transform = from_origin(extent[0], extent[3], x_res, y_res)\n",
    "\n",
    "##create an array with  sequence of numbers \n",
    "start = 1\n",
    "end = (tiff_width * tiff_height) + 1\n",
    "arr = np.arange(start, end, 1).reshape(tiff_height, tiff_width).astype(np.float)"
   ]
  },
  {
   "cell_type": "code",
   "execution_count": 17,
   "metadata": {},
   "outputs": [],
   "source": [
    "##write new raster \n",
    "new_dataset = rasterio.open(base_5, 'w', driver='GTiff',\n",
    "                            height = arr.shape[0], width = arr.shape[1],\n",
    "                            count=1, dtype=str(arr.dtype),\n",
    "                            crs=crs,\n",
    "                            transform = transform)\n",
    "new_dataset.write(arr, 1)\n",
    "new_dataset.close()"
   ]
  },
  {
   "cell_type": "markdown",
   "metadata": {},
   "source": [
    "### 10km base raster "
   ]
  },
  {
   "cell_type": "code",
   "execution_count": 6,
   "metadata": {},
   "outputs": [],
   "source": [
    "##set resoltuion in meters\n",
    "x_res = 10000\n",
    "y_res = 10000\n",
    "\n",
    "##loaction for new raster\n",
    "base_10 = (path + r'rasters/10_base_moll.tif')"
   ]
  },
  {
   "cell_type": "code",
   "execution_count": 7,
   "metadata": {},
   "outputs": [],
   "source": [
    "##Calculate raster dataset dimensions from desired pixel resolution\n",
    "tiff_width = int(math.ceil(abs(extent[2] - extent[0]) / x_res))\n",
    "tiff_height = int(math.ceil(abs(extent[3] - extent[1]) / y_res))"
   ]
  },
  {
   "cell_type": "code",
   "execution_count": 8,
   "metadata": {},
   "outputs": [],
   "source": [
    "# Create raster GeoTransform based on upper left corner and pixel dimensions\n",
    "transform = from_origin(extent[0], extent[3], x_res, y_res)\n",
    "\n",
    "##create an array with  sequence of numbers \n",
    "start = 1\n",
    "end = (tiff_width * tiff_height) + 1\n",
    "arr = np.arange(start, end, 1).reshape(tiff_height, tiff_width).astype(np.float)"
   ]
  },
  {
   "cell_type": "code",
   "execution_count": 9,
   "metadata": {},
   "outputs": [],
   "source": [
    "##write new raster \n",
    "new_dataset = rasterio.open(base_10, 'w', driver='GTiff',\n",
    "                            height = arr.shape[0], width = arr.shape[1],\n",
    "                            count=1, dtype=str(arr.dtype),\n",
    "                            crs=crs,\n",
    "                            transform = transform)\n",
    "new_dataset.write(arr, 1)\n",
    "new_dataset.close()"
   ]
  },
  {
   "cell_type": "markdown",
   "metadata": {},
   "source": [
    "### 25 km base raster"
   ]
  },
  {
   "cell_type": "code",
   "execution_count": 6,
   "metadata": {},
   "outputs": [],
   "source": [
    "##Set pixel resolution - this is in meters\n",
    "x_res = 25000\n",
    "y_res = 25000\n",
    "\n",
    "##loaction for new raster\n",
    "base_25 = (path + r'rasters/25_base_moll.tif')"
   ]
  },
  {
   "cell_type": "code",
   "execution_count": 7,
   "metadata": {},
   "outputs": [],
   "source": [
    "##Calculate raster dataset dimensions from desired pixel resolution the +1 is required for matching other datalayers\n",
    "tiff_width = int(math.ceil(abs(extent[2] - extent[0]) / x_res))\n",
    "tiff_height = int(math.ceil(abs(extent[3] - extent[1]) / y_res))"
   ]
  },
  {
   "cell_type": "code",
   "execution_count": 8,
   "metadata": {},
   "outputs": [],
   "source": [
    "# Create raster GeoTransform based on upper left corner and pixel dimensions\n",
    "transform = from_origin(extent[0], extent[3], x_res, y_res)\n",
    "\n",
    "##create an array with  sequence of numbers \n",
    "start = 1\n",
    "end = (tiff_width * tiff_height) + 1\n",
    "arr = np.arange(start, end, 1).reshape(tiff_height, tiff_width).astype(np.float)"
   ]
  },
  {
   "cell_type": "code",
   "execution_count": 9,
   "metadata": {},
   "outputs": [],
   "source": [
    "##write new raster \n",
    "new_dataset = rasterio.open(base_25, 'w', driver='GTiff',\n",
    "                            height = arr.shape[0], width = arr.shape[1],\n",
    "                            count=1, dtype=str(arr.dtype),\n",
    "                            crs=crs,\n",
    "                            transform = transform)\n",
    "new_dataset.write(arr, 1)\n",
    "new_dataset.close()"
   ]
  },
  {
   "cell_type": "markdown",
   "metadata": {},
   "source": [
    "### 50 km raster base"
   ]
  },
  {
   "cell_type": "code",
   "execution_count": 18,
   "metadata": {},
   "outputs": [],
   "source": [
    "##create finer raster \n",
    "x_res = 50000\n",
    "y_res = 50000\n",
    "\n",
    "##loaction for new raster\n",
    "base_50 = (path + r'rasters/50_base_moll.tif')"
   ]
  },
  {
   "cell_type": "code",
   "execution_count": 19,
   "metadata": {},
   "outputs": [],
   "source": [
    "##Calculate raster dataset dimensions from desired pixel resolution the +6 is required for matching other datalayers\n",
    "tiff_width = int(math.ceil(abs(extent[2] - extent[0]) / x_res))\n",
    "tiff_height = int(math.ceil(abs(extent[3] - extent[1]) / y_res))"
   ]
  },
  {
   "cell_type": "code",
   "execution_count": 20,
   "metadata": {},
   "outputs": [],
   "source": [
    "# Create raster GeoTransform based on upper left corner and pixel dimensions\n",
    "transform = from_origin(extent[0], extent[3], x_res, y_res)\n",
    "\n",
    "##create an array with sequence of numbers \n",
    "start = 1\n",
    "end = (tiff_width * tiff_height) + 1\n",
    "arr = np.arange(start, end, 1).reshape(tiff_height, tiff_width).astype(np.float)"
   ]
  },
  {
   "cell_type": "code",
   "execution_count": 21,
   "metadata": {},
   "outputs": [],
   "source": [
    "##write new raster \n",
    "new_dataset = rasterio.open(base_50, 'w', driver='GTiff',\n",
    "                            height = arr.shape[0], width = arr.shape[1],\n",
    "                            count=1, dtype=str(arr.dtype),\n",
    "                            crs=crs,\n",
    "                            transform = transform)\n",
    "new_dataset.write(arr, 1)\n",
    "new_dataset.close()"
   ]
  },
  {
   "cell_type": "code",
   "execution_count": 10,
   "metadata": {},
   "outputs": [],
   "source": [
    "##read in lookup adm1 values with a lookup value a sequence uniqe number for each adm1 and a continent feild manualy created\n",
    "lookup = pd.read_csv(path + r'country_data/adm1_lookup.csv')"
   ]
  },
  {
   "cell_type": "code",
   "execution_count": 11,
   "metadata": {},
   "outputs": [],
   "source": [
    "adm1_1 = pd.merge(adm1, lookup, how='left', on=['GID_1', 'GID_1'])"
   ]
  },
  {
   "cell_type": "code",
   "execution_count": 12,
   "metadata": {},
   "outputs": [],
   "source": [
    "##read back in the new bases\n",
    "rast_50 = rasterio.open(path + r'/rasters/50_base_moll.tif')\n",
    "base_50 = rast_50.read(1)\n",
    "\n",
    "rast_25 = rasterio.open(path + r'/rasters/25_base_moll.tif')\n",
    "base_25 = rast_25.read(1)\n",
    "\n",
    "rast_10 = rasterio.open(path + r'/rasters/10_base_moll.tif')\n",
    "base_10 = rast_10.read(1)\n",
    "\n",
    "rast_5 = rasterio.open(path + r'/rasters/5_base_moll.tif')\n",
    "base_5 = rast_5.read(1)\n",
    "\n",
    "rast_1 = rasterio.open(path + r'/rasters/1_base_moll.tif')\n",
    "base_1 = rast_1.read(1)"
   ]
  },
  {
   "cell_type": "code",
   "execution_count": 13,
   "metadata": {},
   "outputs": [],
   "source": [
    "##ceate list of polygons \n",
    "shapes = ((geom,value) for geom, value in zip(adm1_1.geometry, adm1_1['lookup']))"
   ]
  },
  {
   "cell_type": "code",
   "execution_count": 14,
   "metadata": {},
   "outputs": [],
   "source": [
    "##convert shape to raster\n",
    "adm1_rast = rasterize(shapes = shapes, out_shape = rast_1.shape, fill=-999, transform = rast_1.transform, all_touched= True)"
   ]
  },
  {
   "cell_type": "code",
   "execution_count": 34,
   "metadata": {},
   "outputs": [],
   "source": [
    "##write new raster\n",
    "with rasterio.open(adm1, 'w', driver='GTiff', height=rast_1.shape[0],\n",
    "                   width=rast_1.shape[1], count=1, dtype=adm1_rast.dtype,\n",
    "                   crs=rast_1.crs, transform=rast_1.transform) as dst:\n",
    "    dst.write(adm1_rast, 1)"
   ]
  },
  {
   "cell_type": "code",
   "execution_count": 15,
   "metadata": {},
   "outputs": [],
   "source": [
    "##read in the new fine scale adm1_raster\n",
    "adm1_fine = rasterio.open(path + r'/rasters/adm1_1km_moll.tif')\n",
    "adf = adm1_fine.read(1)"
   ]
  },
  {
   "cell_type": "code",
   "execution_count": 16,
   "metadata": {},
   "outputs": [],
   "source": [
    "##change -999 to nan\n",
    "adf = np.where(adf== -999, np.NaN, adf)"
   ]
  },
  {
   "cell_type": "code",
   "execution_count": 17,
   "metadata": {},
   "outputs": [],
   "source": [
    "##resample to other resoltuions - first create empty arrays \n",
    "arr50 = np.empty(shape=(rast_50.shape[0], \n",
    "                         rast_50.shape[1]))\n",
    "\n",
    "arr25 = np.empty(shape=(rast_25.shape[0], \n",
    "                         rast_25.shape[1]))\n",
    "\n",
    "arr10 = np.empty(shape=(rast_10.shape[0], \n",
    "                         rast_10.shape[1]))\n",
    "\n",
    "arr5 = np.empty(shape=(rast_5.shape[0], \n",
    "                         rast_5.shape[1]))"
   ]
  },
  {
   "cell_type": "code",
   "execution_count": null,
   "metadata": {},
   "outputs": [],
   "source": [
    "##resample by usinge reproject - select mode as resampling method to get the dominant value - 25 km\n",
    "reproject(\n",
    "    adf, arr25,\n",
    "    src_transform = adm1_fine.transform,\n",
    "    dst_transform = rast_25.transform,\n",
    "    src_crs = adm1_fine.crs,\n",
    "    dst_crs = adm1_fine.crs,\n",
    "    resampling = Resampling.mode)"
   ]
  },
  {
   "cell_type": "code",
   "execution_count": null,
   "metadata": {},
   "outputs": [],
   "source": [
    "##resample by usinge reproject - select mode as resampling method to get the dominant value - 50 km \n",
    "reproject(\n",
    "    adf, arr50,\n",
    "    src_transform = adm1_fine.transform,\n",
    "    dst_transform = rast_50.transform,\n",
    "    src_crs = adm1_fine.crs,\n",
    "    dst_crs = adm1_fine.crs,\n",
    "    resampling = Resampling.mode)"
   ]
  },
  {
   "cell_type": "code",
   "execution_count": null,
   "metadata": {},
   "outputs": [],
   "source": [
    "##resample by usinge reproject - select mode as resampling method to get the dominant value - 10 km \n",
    "reproject(\n",
    "    adf, arr10,\n",
    "    src_transform = adm1_fine.transform,\n",
    "    dst_transform = rast_10.transform,\n",
    "    src_crs = adm1_fine.crs,\n",
    "    dst_crs = adm1_fine.crs,\n",
    "    resampling = Resampling.mode)"
   ]
  },
  {
   "cell_type": "code",
   "execution_count": null,
   "metadata": {},
   "outputs": [],
   "source": [
    "##resample by usinge reproject - select mode as resampling method to get the dominant value - 5 km \n",
    "reproject(\n",
    "    adf, arr5,\n",
    "    src_transform = adm1_fine.transform,\n",
    "    dst_transform = rast_5.transform,\n",
    "    src_crs = adm1_fine.crs,\n",
    "    dst_crs = adm1_fine.crs,\n",
    "    resampling = Resampling.mode)"
   ]
  },
  {
   "cell_type": "code",
   "execution_count": 19,
   "metadata": {},
   "outputs": [],
   "source": [
    "##paths for adm1 rasters \n",
    "adm50 = path + r'rasters/adm1_50_moll.tif' \n",
    "adm25 = path + r'rasters/adm1_25_moll.tif' \n",
    "adm10 = path + r'rasters/adm1_10_moll.tif' \n",
    "adm5 = path + r'rasters/adm1_5_moll.tif' \n",
    "adm1 = path + r'rasters/adm1_1km_moll.tif'     "
   ]
  },
  {
   "cell_type": "code",
   "execution_count": 50,
   "metadata": {},
   "outputs": [],
   "source": [
    "##write new rasters\n",
    "\n",
    "## 50 km    \n",
    "with rasterio.open(adm50, 'w', driver='GTiff', height=arr50.shape[0],\n",
    "                   width=arr50.shape[1], count=1, dtype=arr50.dtype,\n",
    "                   crs=adm1_fine.crs, transform=rast_50.transform) as dst:\n",
    "    dst.write(arr50, 1)\n",
    "    dst.close()\n",
    "\n",
    "    \n",
    "##25 km\n",
    "with rasterio.open(adm25, 'w', driver='GTiff', height=arr25.shape[0],\n",
    "                   width=arr25.shape[1], count=1, dtype=arr25.dtype,\n",
    "                   crs=adm1_fine.crs, transform=rast_25.transform) as dst:\n",
    "    dst.write(arr25, 1)\n",
    "    dst.close()\n",
    "    \n",
    "\n",
    "\n",
    "## 10km \n",
    "with rasterio.open(adm10, 'w', driver='GTiff', height=arr10.shape[0],\n",
    "                   width=arr10.shape[1], count=1, dtype=arr10.dtype,\n",
    "                   crs=adm1_fine.crs, transform=rast_10.transform) as dst:\n",
    "    dst.write(arr10, 1)\n",
    "    dst.close()    \n",
    "\n",
    "## 5 km \n",
    "with rasterio.open(adm5, 'w', driver='GTiff', height=arr5.shape[0],\n",
    "                   width=arr5.shape[1], count=1, dtype=arr5.dtype,\n",
    "                   crs=adm1_fine.crs, transform=rast_5.transform) as dst:\n",
    "    dst.write(arr5, 1)\n",
    "    dst.close()"
   ]
  },
  {
   "cell_type": "markdown",
   "metadata": {},
   "source": [
    "## Projects ##"
   ]
  },
  {
   "cell_type": "code",
   "execution_count": 21,
   "metadata": {},
   "outputs": [],
   "source": [
    "#set path to projects\n",
    "p_path_in = r'/WorldBank_GeocodedResearchRelease_Level1_v1.4.2/data/'\n",
    "out_path = r'projects/'"
   ]
  },
  {
   "cell_type": "code",
   "execution_count": 22,
   "metadata": {},
   "outputs": [],
   "source": [
    "##read main WB project file and remove projects without location information \n",
    "wb_1a = pd.read_csv(p_path_in + 'level_1a.csv')\n",
    "\n",
    "wb_1a = wb_1a.dropna(subset =['longitude'])"
   ]
  },
  {
   "cell_type": "code",
   "execution_count": null,
   "metadata": {},
   "outputs": [],
   "source": [
    "##read the rojects ancillary informaiton file from AidData\n",
    "wb_detail = pd.read_csv(p_path_in + \"projects_ancillary.csv\")"
   ]
  },
  {
   "cell_type": "code",
   "execution_count": 24,
   "metadata": {},
   "outputs": [],
   "source": [
    "##remove duplicates from the projects ancillary informaiton file and set index\n",
    "wb_detail = wb_detail.drop_duplicates(subset = 'PROJECT ID', keep = 'first')\n",
    "wb_detail = wb_detail.set_index('PROJECT ID')"
   ]
  },
  {
   "cell_type": "code",
   "execution_count": 25,
   "metadata": {},
   "outputs": [],
   "source": [
    "##join porjects and extra info\n",
    "wb_1a = pd.merge(wb_1a, wb_detail, left_on='project_id', how = 'left',  right_index=True, sort=True)"
   ]
  },
  {
   "cell_type": "code",
   "execution_count": 26,
   "metadata": {},
   "outputs": [],
   "source": [
    "##select just projects with a percise location known \n",
    "wb_1 = wb_1a.loc[wb_1a['precision_code'].isin([1])]\n",
    "wb_12 = wb_1a.loc[wb_1a['precision_code'].isin([1,2])] ## and those known within 25km\n",
    "\n",
    "## select detiled information for these\n",
    "wb_12_detail = wb_1a.loc[wb_1a['precision_code'].isin([1,2])]\n",
    "wb_1_detail = wb_1a.loc[wb_1a['precision_code'].isin([1])]"
   ]
  },
  {
   "cell_type": "code",
   "execution_count": 27,
   "metadata": {},
   "outputs": [],
   "source": [
    "##create simple version of the dataset - for percsion code 1 and 2\n",
    "wb_12 = wb_12[['project_location_id','project_id', 'latitude', 'longitude', 'even_split_commitments','transactions_start_year', 'ENV. CATEGORY']]   \n",
    "\n",
    "wb_12.rename(columns={'project_location_id' : 'pro_lo_id',\n",
    "                         'even_split_commitments' : 'money', \n",
    "                         'transactions_start_year': 'year', \n",
    "                         'ENV. CATEGORY':'category'} ,inplace=True)\n",
    "\n",
    "\n",
    "wb_12['Coordinates'] = list(zip(wb_12.longitude, wb_12.latitude))\n",
    "wb_12['Coordinates'] = wb_12['Coordinates'].apply(Point)"
   ]
  },
  {
   "cell_type": "code",
   "execution_count": 28,
   "metadata": {},
   "outputs": [],
   "source": [
    "##create simple version of the dataset for percsion code 1\n",
    "wb_1 = wb_1[['project_location_id','project_id', 'latitude', 'longitude', 'even_split_commitments','transactions_start_year', 'ENV. CATEGORY']]   \n",
    "\n",
    "wb_1.rename(columns={'project_location_id' : 'pro_lo_id',\n",
    "                         'even_split_commitments' : 'money', \n",
    "                         'transactions_start_year': 'year', \n",
    "                         'ENV. CATEGORY':'category'} ,inplace=True)\n",
    "\n",
    "\n",
    "wb_1['Coordinates'] = list(zip(wb_1.longitude, wb_1.latitude))\n",
    "wb_1['Coordinates'] = wb_1['Coordinates'].apply(Point)"
   ]
  },
  {
   "cell_type": "code",
   "execution_count": null,
   "metadata": {},
   "outputs": [],
   "source": [
    "##convert to a geodataframe\n",
    "gdf_wb1 = gpd.GeoDataFrame(wb_1, geometry='Coordinates')\n",
    "\n",
    "##set projection \n",
    "gdf_wb1.crs = {'init' :'epsg:4326'}\n",
    "\n",
    "##reporject to equal area\n",
    "wb1_out = gdf_wb1.to_crs(crs)"
   ]
  },
  {
   "cell_type": "code",
   "execution_count": null,
   "metadata": {},
   "outputs": [],
   "source": [
    "##convert to a geodataframe\n",
    "gdf_wb12 = gpd.GeoDataFrame(wb_12, geometry='Coordinates')\n",
    "\n",
    "##set projection \n",
    "gdf_wb12.crs = {'init' :'epsg:4326'}\n",
    "\n",
    "##reporject to equal area\n",
    "wb12_out = gdf_wb12.to_crs(crs)"
   ]
  },
  {
   "cell_type": "code",
   "execution_count": 89,
   "metadata": {},
   "outputs": [],
   "source": [
    "##save shapefil of points in equal area projection\n",
    "wb1_out.to_file(driver='ESRI Shapefile',filename=r'projects/wb_p1_moll.shp')"
   ]
  },
  {
   "cell_type": "code",
   "execution_count": 60,
   "metadata": {},
   "outputs": [],
   "source": [
    "##save shapefil of points in e3qual area projection\n",
    "wb12_out.to_file(driver='ESRI Shapefile',filename=r'projects/wb_p12_moll.shp')"
   ]
  },
  {
   "cell_type": "code",
   "execution_count": 35,
   "metadata": {},
   "outputs": [],
   "source": [
    "base_25p = (path + r'rasters/25_base_moll.tif')\n",
    "base_50p = (path + r'rasters/50_base_moll.tif')\n",
    "base_10p = (path + r'rasters/10_base_moll.tif')\n",
    "base_5p = (path + r'rasters/5_base_moll.tif')"
   ]
  },
  {
   "cell_type": "markdown",
   "metadata": {},
   "source": [
    "### what cell are points in - 5km"
   ]
  },
  {
   "cell_type": "code",
   "execution_count": 41,
   "metadata": {},
   "outputs": [],
   "source": [
    "##sample the base raster with the project points to create a lookup value \n",
    "project_path1 =r'projects/wb_p1_moll.shp'\n",
    "project_lookup1 = rs.zonal_stats(project_path1, base_5p,\n",
    "                                nodata=-999,\n",
    "                                geojson_out=True,\n",
    "                                copy_properties=True,\n",
    "                                stats=\"min\")"
   ]
  },
  {
   "cell_type": "code",
   "execution_count": 42,
   "metadata": {},
   "outputs": [
    {
     "data": {
      "text/html": [
       "<div>\n",
       "<style scoped>\n",
       "    .dataframe tbody tr th:only-of-type {\n",
       "        vertical-align: middle;\n",
       "    }\n",
       "\n",
       "    .dataframe tbody tr th {\n",
       "        vertical-align: top;\n",
       "    }\n",
       "\n",
       "    .dataframe thead th {\n",
       "        text-align: right;\n",
       "    }\n",
       "</style>\n",
       "<table border=\"1\" class=\"dataframe\">\n",
       "  <thead>\n",
       "    <tr style=\"text-align: right;\">\n",
       "      <th></th>\n",
       "      <th>geometry</th>\n",
       "      <th>pro_lo_id</th>\n",
       "      <th>project_id</th>\n",
       "      <th>latitude</th>\n",
       "      <th>longitude</th>\n",
       "      <th>money</th>\n",
       "      <th>year</th>\n",
       "      <th>category</th>\n",
       "      <th>5base</th>\n",
       "    </tr>\n",
       "  </thead>\n",
       "  <tbody>\n",
       "    <tr>\n",
       "      <th>0</th>\n",
       "      <td>POINT (206266.482 821530.771)</td>\n",
       "      <td>P000117_2395858</td>\n",
       "      <td>P000117</td>\n",
       "      <td>6.65000</td>\n",
       "      <td>2.06667</td>\n",
       "      <td>2.598699e+06</td>\n",
       "      <td>1996</td>\n",
       "      <td>B</td>\n",
       "      <td>11289558.0</td>\n",
       "    </tr>\n",
       "    <tr>\n",
       "      <th>1</th>\n",
       "      <td>POINT (241464.964 1393522.395)</td>\n",
       "      <td>P000117_2395317</td>\n",
       "      <td>P000117</td>\n",
       "      <td>11.29845</td>\n",
       "      <td>2.43856</td>\n",
       "      <td>2.598699e+06</td>\n",
       "      <td>1996</td>\n",
       "      <td>B</td>\n",
       "      <td>10471225.0</td>\n",
       "    </tr>\n",
       "    <tr>\n",
       "      <th>2</th>\n",
       "      <td>POINT (165637.629 1112050.862)</td>\n",
       "      <td>P000117_2395261</td>\n",
       "      <td>P000117</td>\n",
       "      <td>9.00814</td>\n",
       "      <td>1.66540</td>\n",
       "      <td>2.598699e+06</td>\n",
       "      <td>1996</td>\n",
       "      <td>B</td>\n",
       "      <td>10876822.0</td>\n",
       "    </tr>\n",
       "    <tr>\n",
       "      <th>3</th>\n",
       "      <td>POINT (137562.396 1192444.874)</td>\n",
       "      <td>P000117_2596746</td>\n",
       "      <td>P000117</td>\n",
       "      <td>9.66167</td>\n",
       "      <td>1.38472</td>\n",
       "      <td>2.598699e+06</td>\n",
       "      <td>1996</td>\n",
       "      <td>B</td>\n",
       "      <td>10755844.0</td>\n",
       "    </tr>\n",
       "    <tr>\n",
       "      <th>4</th>\n",
       "      <td>POINT (95992.134 1362784.027)</td>\n",
       "      <td>P000117_2392090</td>\n",
       "      <td>P000117</td>\n",
       "      <td>11.04802</td>\n",
       "      <td>0.96891</td>\n",
       "      <td>2.598699e+06</td>\n",
       "      <td>1996</td>\n",
       "      <td>B</td>\n",
       "      <td>10513892.0</td>\n",
       "    </tr>\n",
       "  </tbody>\n",
       "</table>\n",
       "</div>"
      ],
      "text/plain": [
       "                         geometry        pro_lo_id project_id  latitude  \\\n",
       "0   POINT (206266.482 821530.771)  P000117_2395858    P000117   6.65000   \n",
       "1  POINT (241464.964 1393522.395)  P000117_2395317    P000117  11.29845   \n",
       "2  POINT (165637.629 1112050.862)  P000117_2395261    P000117   9.00814   \n",
       "3  POINT (137562.396 1192444.874)  P000117_2596746    P000117   9.66167   \n",
       "4   POINT (95992.134 1362784.027)  P000117_2392090    P000117  11.04802   \n",
       "\n",
       "   longitude         money  year category       5base  \n",
       "0    2.06667  2.598699e+06  1996        B  11289558.0  \n",
       "1    2.43856  2.598699e+06  1996        B  10471225.0  \n",
       "2    1.66540  2.598699e+06  1996        B  10876822.0  \n",
       "3    1.38472  2.598699e+06  1996        B  10755844.0  \n",
       "4    0.96891  2.598699e+06  1996        B  10513892.0  "
      ]
     },
     "execution_count": 42,
     "metadata": {},
     "output_type": "execute_result"
    }
   ],
   "source": [
    "##create a dataframe where each point has a value of the cell it is in\n",
    "project_lookup_df = gpd.GeoDataFrame.from_features(project_lookup1)\n",
    "project_lookup_df.rename(columns={'min' : '5base'} \n",
    "                          ,inplace=True)\n",
    "project_lookup_df.head()"
   ]
  },
  {
   "cell_type": "code",
   "execution_count": 43,
   "metadata": {},
   "outputs": [],
   "source": [
    "##create a dataframe of points with lookup to reference raster\n",
    "wb_1_lookup_5 = pd.DataFrame(project_lookup_df)"
   ]
  },
  {
   "cell_type": "code",
   "execution_count": 44,
   "metadata": {},
   "outputs": [],
   "source": [
    "##save as a csv as well along with project detield information\n",
    "wb_1_lookup_5.to_csv('projects/wb_p1_lookup_moll_5.csv')\n",
    "wb_1_detail.to_csv('projects/wb_p1_detail_moll.csv')"
   ]
  },
  {
   "cell_type": "markdown",
   "metadata": {},
   "source": [
    "### what cell are points in - 10km"
   ]
  },
  {
   "cell_type": "code",
   "execution_count": 36,
   "metadata": {},
   "outputs": [],
   "source": [
    "##sample the base raster with the porject points to create a lookup value \n",
    "project_path1 =r'projects/wb_p1_moll.shp'\n",
    "project_lookup1 = rs.zonal_stats(project_path1, base_10p,\n",
    "                                nodata=-999,\n",
    "                                geojson_out=True,\n",
    "                                copy_properties=True,\n",
    "                                stats=\"min\")"
   ]
  },
  {
   "cell_type": "code",
   "execution_count": null,
   "metadata": {},
   "outputs": [],
   "source": [
    "##create a dataframe where each point has a value of the cell it is in \n",
    "project_lookup_df = gpd.GeoDataFrame.from_features(project_lookup1)\n",
    "project_lookup_df.rename(columns={'min' : '5base'} \n",
    "                          ,inplace=True)\n",
    "project_lookup_df.head()"
   ]
  },
  {
   "cell_type": "code",
   "execution_count": 43,
   "metadata": {},
   "outputs": [],
   "source": [
    "##create a dataframe of points with lookup to reference raster\n",
    "wb_1_lookup_10 = pd.DataFrame(project_lookup_df)"
   ]
  },
  {
   "cell_type": "code",
   "execution_count": 44,
   "metadata": {},
   "outputs": [],
   "source": [
    "##save as a csv\n",
    "wb_1_lookup_10.to_csv('projects/wb_p1_lookup_moll_10.csv')"
   ]
  },
  {
   "cell_type": "markdown",
   "metadata": {},
   "source": [
    "### what cell are points in - 25km"
   ]
  },
  {
   "cell_type": "code",
   "execution_count": 70,
   "metadata": {},
   "outputs": [],
   "source": [
    "##sample the base raster with the porject points to create a lookup value \n",
    "project_path =r'projects/wb_p12_moll.shp'\n",
    "project_lookup12 = rs.zonal_stats(project_path, base_25p,\n",
    "                                nodata=-999,\n",
    "                                geojson_out=True,\n",
    "                                copy_properties=True,\n",
    "                                stats=\"min\")"
   ]
  },
  {
   "cell_type": "code",
   "execution_count": 71,
   "metadata": {},
   "outputs": [
    {
     "data": {
      "text/html": [
       "<div>\n",
       "<style scoped>\n",
       "    .dataframe tbody tr th:only-of-type {\n",
       "        vertical-align: middle;\n",
       "    }\n",
       "\n",
       "    .dataframe tbody tr th {\n",
       "        vertical-align: top;\n",
       "    }\n",
       "\n",
       "    .dataframe thead th {\n",
       "        text-align: right;\n",
       "    }\n",
       "</style>\n",
       "<table border=\"1\" class=\"dataframe\">\n",
       "  <thead>\n",
       "    <tr style=\"text-align: right;\">\n",
       "      <th></th>\n",
       "      <th>geometry</th>\n",
       "      <th>pro_lo_id</th>\n",
       "      <th>project_id</th>\n",
       "      <th>latitude</th>\n",
       "      <th>longitude</th>\n",
       "      <th>money</th>\n",
       "      <th>year</th>\n",
       "      <th>category</th>\n",
       "      <th>25base</th>\n",
       "    </tr>\n",
       "  </thead>\n",
       "  <tbody>\n",
       "    <tr>\n",
       "      <th>0</th>\n",
       "      <td>POINT (206266.482 821530.771)</td>\n",
       "      <td>P000117_2395858</td>\n",
       "      <td>P000117</td>\n",
       "      <td>6.65000</td>\n",
       "      <td>2.06667</td>\n",
       "      <td>2.598699e+06</td>\n",
       "      <td>1996</td>\n",
       "      <td>B</td>\n",
       "      <td>452125.0</td>\n",
       "    </tr>\n",
       "    <tr>\n",
       "      <th>1</th>\n",
       "      <td>POINT (241464.964 1393522.395)</td>\n",
       "      <td>P000117_2395317</td>\n",
       "      <td>P000117</td>\n",
       "      <td>11.29845</td>\n",
       "      <td>2.43856</td>\n",
       "      <td>2.598699e+06</td>\n",
       "      <td>1996</td>\n",
       "      <td>B</td>\n",
       "      <td>419374.0</td>\n",
       "    </tr>\n",
       "    <tr>\n",
       "      <th>2</th>\n",
       "      <td>POINT (165637.629 1112050.862)</td>\n",
       "      <td>P000117_2395261</td>\n",
       "      <td>P000117</td>\n",
       "      <td>9.00814</td>\n",
       "      <td>1.66540</td>\n",
       "      <td>2.598699e+06</td>\n",
       "      <td>1996</td>\n",
       "      <td>B</td>\n",
       "      <td>435035.0</td>\n",
       "    </tr>\n",
       "    <tr>\n",
       "      <th>3</th>\n",
       "      <td>POINT (100406.786 1292955.824)</td>\n",
       "      <td>P000117_2596747</td>\n",
       "      <td>P000117</td>\n",
       "      <td>10.47942</td>\n",
       "      <td>1.01229</td>\n",
       "      <td>2.598699e+06</td>\n",
       "      <td>1996</td>\n",
       "      <td>B</td>\n",
       "      <td>425065.0</td>\n",
       "    </tr>\n",
       "    <tr>\n",
       "      <th>4</th>\n",
       "      <td>POINT (137562.396 1192444.874)</td>\n",
       "      <td>P000117_2596746</td>\n",
       "      <td>P000117</td>\n",
       "      <td>9.66167</td>\n",
       "      <td>1.38472</td>\n",
       "      <td>2.598699e+06</td>\n",
       "      <td>1996</td>\n",
       "      <td>B</td>\n",
       "      <td>430762.0</td>\n",
       "    </tr>\n",
       "  </tbody>\n",
       "</table>\n",
       "</div>"
      ],
      "text/plain": [
       "                         geometry        pro_lo_id project_id  latitude  \\\n",
       "0   POINT (206266.482 821530.771)  P000117_2395858    P000117   6.65000   \n",
       "1  POINT (241464.964 1393522.395)  P000117_2395317    P000117  11.29845   \n",
       "2  POINT (165637.629 1112050.862)  P000117_2395261    P000117   9.00814   \n",
       "3  POINT (100406.786 1292955.824)  P000117_2596747    P000117  10.47942   \n",
       "4  POINT (137562.396 1192444.874)  P000117_2596746    P000117   9.66167   \n",
       "\n",
       "   longitude         money  year category    25base  \n",
       "0    2.06667  2.598699e+06  1996        B  452125.0  \n",
       "1    2.43856  2.598699e+06  1996        B  419374.0  \n",
       "2    1.66540  2.598699e+06  1996        B  435035.0  \n",
       "3    1.01229  2.598699e+06  1996        B  425065.0  \n",
       "4    1.38472  2.598699e+06  1996        B  430762.0  "
      ]
     },
     "execution_count": 71,
     "metadata": {},
     "output_type": "execute_result"
    }
   ],
   "source": [
    "##create a dataframe where each point has a value of the cell it is in \n",
    "project_lookup_df = gpd.GeoDataFrame.from_features(project_lookup12)\n",
    "project_lookup_df.rename(columns={'min' : '25base'} \n",
    "                          ,inplace=True)\n",
    "project_lookup_df.head()"
   ]
  },
  {
   "cell_type": "code",
   "execution_count": 72,
   "metadata": {},
   "outputs": [],
   "source": [
    "##create a dataframe of points with lookup to reference raster\n",
    "wb_12_lookup_25 = pd.DataFrame(project_lookup_df)"
   ]
  },
  {
   "cell_type": "code",
   "execution_count": 73,
   "metadata": {},
   "outputs": [],
   "source": [
    "##save as a csv as well along with project detield information\n",
    "wb_12_detail.to_csv('projects/wb_p12_detail_moll.csv')\n",
    "wb_12_lookup.to_csv('projects/wb_p12_lookup_moll_25.csv')"
   ]
  },
  {
   "cell_type": "markdown",
   "metadata": {},
   "source": [
    "### what cell are points in - 50km"
   ]
  },
  {
   "cell_type": "code",
   "execution_count": 74,
   "metadata": {},
   "outputs": [],
   "source": [
    "##sample the base raster with the porject points to create a lookup value \n",
    "project_path =r'projects/wb_p12_moll.shp'\n",
    "project_lookup12 = rs.zonal_stats(project_path, base_50p,\n",
    "                                nodata=-999,\n",
    "                                geojson_out=True,\n",
    "                                copy_properties=True,\n",
    "                                stats=\"min\")"
   ]
  },
  {
   "cell_type": "code",
   "execution_count": 84,
   "metadata": {},
   "outputs": [
    {
     "data": {
      "text/html": [
       "<div>\n",
       "<style scoped>\n",
       "    .dataframe tbody tr th:only-of-type {\n",
       "        vertical-align: middle;\n",
       "    }\n",
       "\n",
       "    .dataframe tbody tr th {\n",
       "        vertical-align: top;\n",
       "    }\n",
       "\n",
       "    .dataframe thead th {\n",
       "        text-align: right;\n",
       "    }\n",
       "</style>\n",
       "<table border=\"1\" class=\"dataframe\">\n",
       "  <thead>\n",
       "    <tr style=\"text-align: right;\">\n",
       "      <th></th>\n",
       "      <th>geometry</th>\n",
       "      <th>pro_lo_id</th>\n",
       "      <th>project_id</th>\n",
       "      <th>latitude</th>\n",
       "      <th>longitude</th>\n",
       "      <th>money</th>\n",
       "      <th>year</th>\n",
       "      <th>category</th>\n",
       "      <th>50base</th>\n",
       "    </tr>\n",
       "  </thead>\n",
       "  <tbody>\n",
       "    <tr>\n",
       "      <th>0</th>\n",
       "      <td>POINT (206266.482 821530.771)</td>\n",
       "      <td>P000117_2395858</td>\n",
       "      <td>P000117</td>\n",
       "      <td>6.65000</td>\n",
       "      <td>2.06667</td>\n",
       "      <td>2.598699e+06</td>\n",
       "      <td>1996</td>\n",
       "      <td>B</td>\n",
       "      <td>112855.0</td>\n",
       "    </tr>\n",
       "    <tr>\n",
       "      <th>1</th>\n",
       "      <td>POINT (241464.964 1393522.395)</td>\n",
       "      <td>P000117_2395317</td>\n",
       "      <td>P000117</td>\n",
       "      <td>11.29845</td>\n",
       "      <td>2.43856</td>\n",
       "      <td>2.598699e+06</td>\n",
       "      <td>1996</td>\n",
       "      <td>B</td>\n",
       "      <td>105023.0</td>\n",
       "    </tr>\n",
       "    <tr>\n",
       "      <th>2</th>\n",
       "      <td>POINT (165637.629 1112050.862)</td>\n",
       "      <td>P000117_2395261</td>\n",
       "      <td>P000117</td>\n",
       "      <td>9.00814</td>\n",
       "      <td>1.66540</td>\n",
       "      <td>2.598699e+06</td>\n",
       "      <td>1996</td>\n",
       "      <td>B</td>\n",
       "      <td>108582.0</td>\n",
       "    </tr>\n",
       "    <tr>\n",
       "      <th>3</th>\n",
       "      <td>POINT (100406.786 1292955.824)</td>\n",
       "      <td>P000117_2596747</td>\n",
       "      <td>P000117</td>\n",
       "      <td>10.47942</td>\n",
       "      <td>1.01229</td>\n",
       "      <td>2.598699e+06</td>\n",
       "      <td>1996</td>\n",
       "      <td>B</td>\n",
       "      <td>106445.0</td>\n",
       "    </tr>\n",
       "    <tr>\n",
       "      <th>4</th>\n",
       "      <td>POINT (137562.396 1192444.874)</td>\n",
       "      <td>P000117_2596746</td>\n",
       "      <td>P000117</td>\n",
       "      <td>9.66167</td>\n",
       "      <td>1.38472</td>\n",
       "      <td>2.598699e+06</td>\n",
       "      <td>1996</td>\n",
       "      <td>B</td>\n",
       "      <td>107869.0</td>\n",
       "    </tr>\n",
       "  </tbody>\n",
       "</table>\n",
       "</div>"
      ],
      "text/plain": [
       "                         geometry        pro_lo_id project_id  latitude  \\\n",
       "0   POINT (206266.482 821530.771)  P000117_2395858    P000117   6.65000   \n",
       "1  POINT (241464.964 1393522.395)  P000117_2395317    P000117  11.29845   \n",
       "2  POINT (165637.629 1112050.862)  P000117_2395261    P000117   9.00814   \n",
       "3  POINT (100406.786 1292955.824)  P000117_2596747    P000117  10.47942   \n",
       "4  POINT (137562.396 1192444.874)  P000117_2596746    P000117   9.66167   \n",
       "\n",
       "   longitude         money  year category    50base  \n",
       "0    2.06667  2.598699e+06  1996        B  112855.0  \n",
       "1    2.43856  2.598699e+06  1996        B  105023.0  \n",
       "2    1.66540  2.598699e+06  1996        B  108582.0  \n",
       "3    1.01229  2.598699e+06  1996        B  106445.0  \n",
       "4    1.38472  2.598699e+06  1996        B  107869.0  "
      ]
     },
     "execution_count": 84,
     "metadata": {},
     "output_type": "execute_result"
    }
   ],
   "source": [
    "##create a dataframe where each point has a value of the cell it is in \n",
    "project_lookup_df = gpd.GeoDataFrame.from_features(project_lookup12)\n",
    "project_lookup_df.rename(columns={'min' : '50base'} \n",
    "                          ,inplace=True)\n",
    "project_lookup_df.head()"
   ]
  },
  {
   "cell_type": "code",
   "execution_count": 85,
   "metadata": {},
   "outputs": [],
   "source": [
    "##create a dataframe of points with lookup to reference raster\n",
    "wb_12_lookup_50 = pd.DataFrame(project_lookup_df)"
   ]
  },
  {
   "cell_type": "code",
   "execution_count": 86,
   "metadata": {},
   "outputs": [],
   "source": [
    "##save as a csv\n",
    "wb_12_lookup_50.to_csv('projects/wb_p12_lookup_moll_50.csv')"
   ]
  }
 ],
 "metadata": {
  "kernelspec": {
   "display_name": "Python 3",
   "language": "python",
   "name": "python3"
  },
  "language_info": {
   "codemirror_mode": {
    "name": "ipython",
    "version": 3
   },
   "file_extension": ".py",
   "mimetype": "text/x-python",
   "name": "python",
   "nbconvert_exporter": "python",
   "pygments_lexer": "ipython3",
   "version": "3.8.8"
  }
 },
 "nbformat": 4,
 "nbformat_minor": 4
}
