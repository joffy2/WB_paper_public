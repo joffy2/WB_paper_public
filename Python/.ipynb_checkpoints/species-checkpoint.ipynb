{
 "cells": [
  {
   "cell_type": "code",
   "execution_count": 2,
   "metadata": {},
   "outputs": [],
   "source": [
    "import math\n",
    "import numpy as np\n",
    "import geopandas as gpd\n",
    "import rasterio\n",
    "from rasterio.transform import from_origin\n",
    "from rasterio.features import rasterize"
   ]
  },
  {
   "cell_type": "code",
   "execution_count": 3,
   "metadata": {},
   "outputs": [],
   "source": [
    "##set path to files\n",
    "path = 'insert path'"
   ]
  },
  {
   "cell_type": "code",
   "execution_count": 4,
   "metadata": {},
   "outputs": [],
   "source": [
    "##open reference raster - base in right size and projection\n",
    "base_50 = rasterio.open(path + r'/rasters/50_base_moll.tif')\n",
    "base_25 = rasterio.open(path + r'/rasters/25_base_moll.tif')\n",
    "base_10 = rasterio.open(path + r'/rasters/10_base_moll.tif')\n",
    "base_5 = rasterio.open(path + r'/rasters/5_base_moll.tif')"
   ]
  },
  {
   "cell_type": "code",
   "execution_count": 4,
   "metadata": {},
   "outputs": [],
   "source": [
    "##read in land mask to create nodata values over water\n",
    "# 5km\n",
    "mask = rasterio.open(path + r'/rasters/adm1_5_moll.tif')\n",
    "mask5 = mask.read(1)\n",
    "mask5 = np.where(mask5 > 0, 0, -999)\n",
    "mask5 = mask5.astype('float')\n",
    "# 10km\n",
    "mask = rasterio.open(path + r'/rasters/adm1_10_moll.tif')\n",
    "mask10 = mask.read(1)\n",
    "mask10 = np.where(mask10 > 0, 0, -999)\n",
    "mask10 = mask10.astype('float')\n",
    "# 25 km\n",
    "mask = rasterio.open(path + r'/rasters/adm1_25_moll.tif')\n",
    "mask25 = mask.read(1)\n",
    "mask25 = np.where(mask25 > 0, 0, -999)\n",
    "mask25 = mask25.astype('float')\n",
    "# 50 km \n",
    "mask = rasterio.open(path + r'/rasters/adm1_50_moll.tif')\n",
    "mask50 = mask.read(1)\n",
    "mask50 = np.where(mask50 > 0, 0, -999)\n",
    "mask50 = mask50.astype('float')"
   ]
  },
  {
   "cell_type": "code",
   "execution_count": null,
   "metadata": {},
   "outputs": [],
   "source": [
    "##read in the bird ranges file\n",
    "brd = gpd.read_file(path + r'/species/BOTW.gdb',driver=\"FileGDB\", layer = 'All_Species')\n",
    "\n",
    "red = gpd.read_file(path + r'/species/BOTW.gdb',driver=\"FileGDB\", layer = 'RedList_2018')\n",
    "\n",
    "## select relevant columns\n",
    "red = red.rename(columns={'SISRecID': 'SISID'})\n",
    "red = red[['SISID','SpcRecID','CommonName', 'RedListCategory']]\n",
    "\n",
    "##filter the bird dataset, see paper or meta data for explantation of filters\n",
    "brd = brd.loc[brd['PRESENCE'] <= 4]\n",
    "brd = brd.loc[brd['SEASONAL'] <= 3]\n",
    "brd = brd.loc[brd['ORIGIN'] <= 2]\n",
    "brd = brd[['SISID', 'SCINAME', 'geometry']]\n",
    "\n",
    "print(len(brd))"
   ]
  },
  {
   "cell_type": "code",
   "execution_count": null,
   "metadata": {},
   "outputs": [],
   "source": [
    "##merge with red lsit data\n",
    "brd_rl = brd.merge(red, how='inner', on=\"SISID\")\n",
    "\n",
    "##filter based on the red list category to just globally threateneed species \n",
    "brd_rl = brd_rl.loc[brd_rl[\"RedListCategory\"].isin([\"CR\",\"EN\",\"VU\",\"NT\"])]\n",
    "\n",
    "print(len(brd_rl))"
   ]
  },
  {
   "cell_type": "code",
   "execution_count": null,
   "metadata": {},
   "outputs": [],
   "source": [
    "##reproject to a Mollwiede equal area projection\n",
    "crs = '+proj=moll +lon_0=0 +x_0=0 +y_0=0 +ellps=WGS84 +datum=WGS84 +units=m +no_defs'\n",
    "brd_rp = brd_rl.to_crs(crs)"
   ]
  },
  {
   "cell_type": "code",
   "execution_count": null,
   "metadata": {},
   "outputs": [],
   "source": [
    "##dissolve by species ID - to create single reocrd per species\n",
    "brd_diss = brd_rp.dissolve(by = 'SISID')\n",
    "print(len(brd_diss))"
   ]
  },
  {
   "cell_type": "code",
   "execution_count": null,
   "metadata": {},
   "outputs": [],
   "source": [
    "##convert to dictonary to allow conversion to raster \n",
    "brd_dict = brd_diss.to_dict('records')"
   ]
  },
  {
   "cell_type": "markdown",
   "metadata": {},
   "source": [
    "#### 50km "
   ]
  },
  {
   "cell_type": "code",
   "execution_count": null,
   "metadata": {},
   "outputs": [],
   "source": [
    "##rasterise each species into a numpy array - 50km - this creates a list of arrays\n",
    "np_list_brd = [rasterize([geom['geometry']], out_shape = base_50.shape, transform=base_50.transform, all_touched = True) \n",
    "           for geom in brd_dict]"
   ]
  },
  {
   "cell_type": "code",
   "execution_count": null,
   "metadata": {},
   "outputs": [],
   "source": [
    "##sum the list of arrays to create count of feautres within a cell - 50km\n",
    "arr_sum_brd = sum(np_list_brd)\n",
    "##add the land mask \n",
    "arr_out_brd = arr_sum_brd + mask50\n",
    "print(np.amax(arr_out_brd))\n",
    "print(np.amin(arr_out_brd))"
   ]
  },
  {
   "cell_type": "code",
   "execution_count": null,
   "metadata": {},
   "outputs": [],
   "source": [
    "##write new raster - 50 km \n",
    "out_brd = path + r'rasters/birds_50_moll.tif'\n",
    "\n",
    "with rasterio.open(out_brd, 'w', driver='GTiff', height=arr_out_brd.shape[0],\n",
    "                   width=arr_out_brd.shape[1], count=1, dtype=arr_out_brd.dtype,\n",
    "                   crs=base_50.crs, transform=base_50.transform) as dst:\n",
    "    dst.write(arr_out_brd, 1)"
   ]
  },
  {
   "cell_type": "markdown",
   "metadata": {},
   "source": [
    "#### 25km "
   ]
  },
  {
   "cell_type": "code",
   "execution_count": null,
   "metadata": {},
   "outputs": [],
   "source": [
    "##rasteise each species into a numpy array - this creates a list of arrays where each array has a 1 if a polygon touches it\n",
    "np_list_brd = [rasterize([geom['geometry']], out_shape = base_25.shape, transform=base_25.transform, all_touched = True) \n",
    "           for geom in brd_dict]"
   ]
  },
  {
   "cell_type": "code",
   "execution_count": null,
   "metadata": {},
   "outputs": [],
   "source": [
    "##sum the list of arrays to create count of feautres within a cell \n",
    "arr_sum_brd = sum(np_list_brd)\n",
    "##add the land mask \n",
    "arr_out_brd = arr_sum_brd + mask25\n",
    "print(np.amax(arr_out_brd))\n",
    "print(np.amin(arr_out_brd))"
   ]
  },
  {
   "cell_type": "code",
   "execution_count": 14,
   "metadata": {},
   "outputs": [],
   "source": [
    "##write new raster - 25 km \n",
    "out_brd = path + r'rasters/birds_25_moll.tif'\n",
    "\n",
    "with rasterio.open(out_brd, 'w', driver='GTiff', height=arr_out_brd.shape[0],\n",
    "                   width=arr_out_brd.shape[1], count=1, dtype=arr_out_brd.dtype,\n",
    "                   crs=base_25.crs, transform=base_25.transform) as dst:\n",
    "    dst.write(arr_out_brd, 1)"
   ]
  },
  {
   "cell_type": "markdown",
   "metadata": {},
   "source": [
    "#### 10km "
   ]
  },
  {
   "cell_type": "code",
   "execution_count": null,
   "metadata": {},
   "outputs": [],
   "source": [
    "##rasteise each species into a numpy array - this creates a list of arrays where each array has a 1 if a polygon touches it\n",
    "np_list_brd = [rasterize([geom['geometry']], out_shape = base_10.shape, transform=base_10.transform, all_touched = True) \n",
    "           for geom in brd_dict]"
   ]
  },
  {
   "cell_type": "code",
   "execution_count": null,
   "metadata": {},
   "outputs": [],
   "source": [
    "##sum the list of arrays to create count of feautres within a cell - 10km\n",
    "arr_sum_brd = sum(np_list_brd)\n",
    "##add the land mask \n",
    "arr_out_brd = arr_sum_brd + mask10\n",
    "print(np.amax(arr_out_brd))\n",
    "print(np.amin(arr_out_brd))"
   ]
  },
  {
   "cell_type": "code",
   "execution_count": null,
   "metadata": {},
   "outputs": [],
   "source": [
    "##write new raster - 10 km \n",
    "out_brd = path + r'rasters/birds_10_moll.tif'\n",
    "\n",
    "with rasterio.open(out_brd, 'w', driver='GTiff', height=arr_out_brd.shape[0],\n",
    "                   width=arr_out_brd.shape[1], count=1, dtype=arr_out_brd.dtype,\n",
    "                   crs=base_10.crs, transform=base_10.transform) as dst:\n",
    "    dst.write(arr_out_brd, 1)"
   ]
  },
  {
   "cell_type": "markdown",
   "metadata": {},
   "source": [
    "#### 5km "
   ]
  },
  {
   "cell_type": "code",
   "execution_count": null,
   "metadata": {},
   "outputs": [],
   "source": [
    "##rasteise each species into a numpy array - this creates a list of arrays where each array has a 1 if a polygon touches it\n",
    "np_list_brd = [rasterize([geom['geometry']], out_shape = base_5.shape, transform=base_5.transform, all_touched = True) \n",
    "           for geom in brd_dict]"
   ]
  },
  {
   "cell_type": "code",
   "execution_count": 22,
   "metadata": {},
   "outputs": [
    {
     "name": "stdout",
     "output_type": "stream",
     "text": [
      "111.0\n",
      "-999.0\n"
     ]
    }
   ],
   "source": [
    "##sum the list of arrays to create count of feautres within a cell - 5km\n",
    "arr_sum_brd = sum(np_list_brd)\n",
    "##add the land mask \n",
    "arr_out_brd = arr_sum_brd + mask5\n",
    "print(np.amax(arr_out_brd))\n",
    "print(np.amin(arr_out_brd))"
   ]
  },
  {
   "cell_type": "code",
   "execution_count": 23,
   "metadata": {},
   "outputs": [],
   "source": [
    "##write new raster - 5 km \n",
    "out_brd = path + r'rasters/birds_5_moll.tif'\n",
    "\n",
    "with rasterio.open(out_brd, 'w', driver='GTiff', height=arr_out_brd.shape[0],\n",
    "                   width=arr_out_brd.shape[1], count=1, dtype=arr_out_brd.dtype,\n",
    "                   crs=base_5.crs, transform=base_5.transform) as dst:\n",
    "    dst.write(arr_out_brd, 1)"
   ]
  },
  {
   "cell_type": "markdown",
   "metadata": {},
   "source": [
    "## mammals"
   ]
  },
  {
   "cell_type": "code",
   "execution_count": 6,
   "metadata": {},
   "outputs": [
    {
     "name": "stdout",
     "output_type": "stream",
     "text": [
      "12716\n"
     ]
    }
   ],
   "source": [
    "###read in the mammal datasets \n",
    "mam = gpd.read_file(path + r'species/TERRESTRIAL_MAMMALS/TERRESTRIAL_MAMMALS.shp')\n",
    "print(len(mam))"
   ]
  },
  {
   "cell_type": "code",
   "execution_count": 7,
   "metadata": {},
   "outputs": [
    {
     "name": "stdout",
     "output_type": "stream",
     "text": [
      "3367\n"
     ]
    }
   ],
   "source": [
    "##apply filters \n",
    "mam = mam.loc[mam[\"category\"].isin([\"CR\",\"EN\",\"VU\",\"NT\"])] ## red list category\n",
    "mam = mam.loc[mam['presence'] <= 4]\n",
    "mam = mam.loc[mam['seasonal'] <= 3]\n",
    "mam = mam.loc[mam['origin'] <= 2]\n",
    "mam = mam[['id_no', 'binomial', 'geometry']]\n",
    "print(len(mam))"
   ]
  },
  {
   "cell_type": "code",
   "execution_count": 9,
   "metadata": {},
   "outputs": [],
   "source": [
    "##reproject\n",
    "crs = '+proj=moll +lon_0=0 +x_0=0 +y_0=0 +ellps=WGS84 +datum=WGS84 +units=m +no_defs'\n",
    "mam_rp = mam.to_crs(crs)"
   ]
  },
  {
   "cell_type": "code",
   "execution_count": 10,
   "metadata": {},
   "outputs": [
    {
     "name": "stdout",
     "output_type": "stream",
     "text": [
      "3367\n"
     ]
    }
   ],
   "source": [
    "##dissolve by species\n",
    "mam_dis = mam_rp.dissolve(by = 'id_no')\n",
    "print(len(mam))"
   ]
  },
  {
   "cell_type": "code",
   "execution_count": 11,
   "metadata": {},
   "outputs": [],
   "source": [
    "##convert to a diconary\n",
    "mam_dict = mam_dis.to_dict('records')"
   ]
  },
  {
   "cell_type": "markdown",
   "metadata": {},
   "source": [
    "#### 50km"
   ]
  },
  {
   "cell_type": "code",
   "execution_count": 90,
   "metadata": {},
   "outputs": [],
   "source": [
    "##rasteise each species polygons into a numpy array - this creates a list of arrays\n",
    "np_list_mam = [rasterize([geom['geometry']], out_shape= base_50.shape, transform=base_50.transform, all_touched = True) for geom in mam_dict]"
   ]
  },
  {
   "cell_type": "code",
   "execution_count": 34,
   "metadata": {},
   "outputs": [
    {
     "name": "stdout",
     "output_type": "stream",
     "text": [
      "62.0\n",
      "-999.0\n"
     ]
    }
   ],
   "source": [
    "##sum the list of arrays to create count of feautres within a cell \n",
    "arr_sum_mam = sum(np_list_mam)\n",
    "##add the land mask to turn \n",
    "arr_out_mam = arr_sum_mam + mask50\n",
    "print(np.amax(arr_out_mam))\n",
    "print(np.amin(arr_out_mam))"
   ]
  },
  {
   "cell_type": "code",
   "execution_count": 35,
   "metadata": {},
   "outputs": [],
   "source": [
    "##write new raster\n",
    "out_mam = path + r'rasters/mam_50_moll.tif'\n",
    "\n",
    "with rasterio.open(out_mam, 'w', driver='GTiff', height=arr_out_mam.shape[0],\n",
    "                   width=arr_out_mam.shape[1], count=1, dtype=arr_out_mam.dtype,\n",
    "                   crs=base_50.crs, transform=base_50.transform) as dst:\n",
    "    dst.write(arr_out_mam, 1)\n",
    "    "
   ]
  },
  {
   "cell_type": "markdown",
   "metadata": {},
   "source": [
    "#### 25km"
   ]
  },
  {
   "cell_type": "code",
   "execution_count": null,
   "metadata": {},
   "outputs": [],
   "source": [
    "##rasteise each species polygons into a numpy array - this creates a list of arrays\n",
    "np_list_mam = [rasterize([geom['geometry']], out_shape= base_25.shape, transform=base_25.transform, all_touched = True) for geom in mam_dict]"
   ]
  },
  {
   "cell_type": "code",
   "execution_count": null,
   "metadata": {},
   "outputs": [],
   "source": [
    "##sum the list of arrays to create count of feautres within a cell \n",
    "arr_sum_mam = sum(np_list_mam)\n",
    "##add the land mask to turn \n",
    "arr_out_mam = arr_sum_mam + mask25\n",
    "print(np.amax(arr_out_mam))\n",
    "print(np.amin(arr_out_mam))"
   ]
  },
  {
   "cell_type": "code",
   "execution_count": 32,
   "metadata": {},
   "outputs": [],
   "source": [
    "##write new raster\n",
    "out_mam = path + r'rasters/mam_25_moll.tif'\n",
    "\n",
    "with rasterio.open(out_mam, 'w', driver='GTiff', height=arr_out_mam.shape[0],\n",
    "                   width=arr_out_mam.shape[1], count=1, dtype=arr_out_mam.dtype,\n",
    "                   crs=base_25.crs, transform=base_25.transform) as dst:\n",
    "    dst.write(arr_out_mam, 1)"
   ]
  },
  {
   "cell_type": "markdown",
   "metadata": {},
   "source": [
    "#### 10km"
   ]
  },
  {
   "cell_type": "code",
   "execution_count": 12,
   "metadata": {},
   "outputs": [],
   "source": [
    "##rasteise each species polygons into a numpy array - this creates a list of arrays\n",
    "np_list_mam = [rasterize([geom['geometry']], out_shape= base_10.shape, transform=base_10.transform, all_touched = True) for geom in mam_dict]"
   ]
  },
  {
   "cell_type": "code",
   "execution_count": 13,
   "metadata": {},
   "outputs": [
    {
     "name": "stdout",
     "output_type": "stream",
     "text": [
      "58.0\n",
      "-999.0\n"
     ]
    }
   ],
   "source": [
    "##sum the list of arrays to create count of feautres within a cell \n",
    "arr_sum_mam = sum(np_list_mam)\n",
    "##add the land mask to turn \n",
    "arr_out_mam = arr_sum_mam + mask10\n",
    "print(np.amax(arr_out_mam))\n",
    "print(np.amin(arr_out_mam))"
   ]
  },
  {
   "cell_type": "code",
   "execution_count": 14,
   "metadata": {},
   "outputs": [],
   "source": [
    "##write new raster\n",
    "out_mam = path + r'rasters/mam_10_moll.tif'\n",
    "\n",
    "with rasterio.open(out_mam, 'w', driver='GTiff', height=arr_out_mam.shape[0],\n",
    "                   width=arr_out_mam.shape[1], count=1, dtype=arr_out_mam.dtype,\n",
    "                   crs=base_10.crs, transform=base_10.transform) as dst:\n",
    "    dst.write(arr_out_mam, 1)\n",
    "    "
   ]
  },
  {
   "cell_type": "markdown",
   "metadata": {},
   "source": [
    "#### 5km"
   ]
  },
  {
   "cell_type": "code",
   "execution_count": 36,
   "metadata": {},
   "outputs": [],
   "source": [
    "##rasteise each species polygons into a numpy array - this creates a list of arrays\n",
    "np_list_mam = [rasterize([geom['geometry']], out_shape= base_5.shape, transform=base_5.transform, all_touched = True) for geom in mam_dict]"
   ]
  },
  {
   "cell_type": "code",
   "execution_count": 38,
   "metadata": {},
   "outputs": [
    {
     "name": "stdout",
     "output_type": "stream",
     "text": [
      "57.0\n",
      "-999.0\n"
     ]
    }
   ],
   "source": [
    "##sum the list of arrays to create count of feautres within a cell \n",
    "arr_sum_mam = sum(np_list_mam)\n",
    "##add the land mask to turn \n",
    "arr_out_mam = arr_sum_mam + mask5\n",
    "print(np.amax(arr_out_mam))\n",
    "print(np.amin(arr_out_mam))"
   ]
  },
  {
   "cell_type": "code",
   "execution_count": 39,
   "metadata": {},
   "outputs": [],
   "source": [
    "##write new raster\n",
    "out_mam = path + r'rasters/mam_5_moll.tif'\n",
    "\n",
    "with rasterio.open(out_mam, 'w', driver='GTiff', height=arr_out_mam.shape[0],\n",
    "                   width=arr_out_mam.shape[1], count=1, dtype=arr_out_mam.dtype,\n",
    "                   crs=base_5.crs, transform=base_5.transform) as dst:\n",
    "    dst.write(arr_out_mam, 1)\n",
    "    "
   ]
  },
  {
   "cell_type": "markdown",
   "metadata": {},
   "source": [
    "## Amphibians"
   ]
  },
  {
   "cell_type": "code",
   "execution_count": 15,
   "metadata": {},
   "outputs": [
    {
     "name": "stdout",
     "output_type": "stream",
     "text": [
      "2691\n"
     ]
    }
   ],
   "source": [
    "##read in the Amphbian dataset\n",
    "amp = gpd.read_file(path + 'species/AMPHIBIANS/AMPHIBIANS.shp')\n",
    "\n",
    "##apply filters\n",
    "amp = amp.loc[amp[\"category\"].isin([\"CR\",\"EN\",\"VU\", \"NT\"])]\n",
    "amp = amp.loc[amp['presence'] <= 4]\n",
    "amp = amp.loc[amp['seasonal'] <= 3]\n",
    "amp = amp.loc[amp['origin'] <= 2]\n",
    "amp = amp[['id_no', 'binomial', 'geometry']]\n",
    "print(len(amp))"
   ]
  },
  {
   "cell_type": "code",
   "execution_count": 16,
   "metadata": {},
   "outputs": [],
   "source": [
    "##reproject\n",
    "crs = '+proj=moll +lon_0=0 +x_0=0 +y_0=0 +ellps=WGS84 +datum=WGS84 +units=m +no_defs'\n",
    "\n",
    "amp_rp = amp.to_crs(crs)"
   ]
  },
  {
   "cell_type": "code",
   "execution_count": 17,
   "metadata": {},
   "outputs": [
    {
     "name": "stdout",
     "output_type": "stream",
     "text": [
      "2691\n"
     ]
    }
   ],
   "source": [
    "##dissolve by species ID\n",
    "amp_diss = amp_rp.dissolve(by = 'id_no')\n",
    "print(len(amp))"
   ]
  },
  {
   "cell_type": "code",
   "execution_count": 18,
   "metadata": {},
   "outputs": [],
   "source": [
    "##convert to a dictonary\n",
    "amp_dict = amp_diss.to_dict('records')"
   ]
  },
  {
   "cell_type": "markdown",
   "metadata": {},
   "source": [
    "## 50km"
   ]
  },
  {
   "cell_type": "code",
   "execution_count": 99,
   "metadata": {},
   "outputs": [],
   "source": [
    "##rasterise each species polygon into a numpy array - this creates a list of arrays\n",
    "np_list_amp = [rasterize([geom['geometry']], out_shape= base_50.shape, transform=base_50.transform, all_touched = True) for geom in amp_dict]"
   ]
  },
  {
   "cell_type": "code",
   "execution_count": 100,
   "metadata": {},
   "outputs": [
    {
     "name": "stdout",
     "output_type": "stream",
     "text": [
      "49.0\n",
      "-999.0\n"
     ]
    }
   ],
   "source": [
    "##sum the list of arrays to create count of feautres within a cell \n",
    "arr_sum_amp = sum(np_list_amp)\n",
    "##add the land mask\n",
    "arr_out_amp = arr_sum_amp + mask50\n",
    "print(np.amax(arr_out_amp))\n",
    "print(np.amin(arr_out_amp))"
   ]
  },
  {
   "cell_type": "code",
   "execution_count": 101,
   "metadata": {},
   "outputs": [],
   "source": [
    "##write new raster\n",
    "out_amp = path + r'rasters/amp_50_moll.tif'\n",
    "\n",
    "with rasterio.open(out_amp, 'w', driver='GTiff', height=arr_out_amp.shape[0],\n",
    "                   width=arr_out_amp.shape[1], count=1, dtype=arr_out_amp.dtype,\n",
    "                   crs=base_50.crs, transform=base_50.transform) as dst:\n",
    "    dst.write(arr_out_amp, 1)"
   ]
  },
  {
   "cell_type": "markdown",
   "metadata": {},
   "source": [
    "### 25km"
   ]
  },
  {
   "cell_type": "code",
   "execution_count": 93,
   "metadata": {},
   "outputs": [],
   "source": [
    "##rasteise each species polygons into a numpy array - this creates a list of arrays\n",
    "np_list_amp = [rasterize([geom['geometry']], out_shape= base_25.shape, transform=base_25.transform, all_touched = True) for geom in amp_dict]"
   ]
  },
  {
   "cell_type": "code",
   "execution_count": 97,
   "metadata": {},
   "outputs": [
    {
     "name": "stdout",
     "output_type": "stream",
     "text": [
      "43.0\n",
      "-999.0\n"
     ]
    }
   ],
   "source": [
    "##sum the list of arrays to create count of feautres within a cell \n",
    "arr_sum_amp = sum(np_list_amp)\n",
    "##add the land mask\n",
    "arr_out_amp = arr_sum_amp + mask25\n",
    "print(np.amax(arr_out_amp))\n",
    "print(np.amin(arr_out_amp))"
   ]
  },
  {
   "cell_type": "code",
   "execution_count": 98,
   "metadata": {},
   "outputs": [],
   "source": [
    "##write new raster\n",
    "out_amp = path + r'rasters/amp_25_moll.tif'\n",
    "\n",
    "with rasterio.open(out_amp, 'w', driver='GTiff', height=arr_out_amp.shape[0],\n",
    "                   width=arr_out_amp.shape[1], count=1, dtype=arr_out_amp.dtype,\n",
    "                   crs=base_25.crs, transform=base_25.transform) as dst:\n",
    "    dst.write(arr_out_amp, 1)"
   ]
  },
  {
   "cell_type": "markdown",
   "metadata": {},
   "source": [
    "## 10km"
   ]
  },
  {
   "cell_type": "code",
   "execution_count": 19,
   "metadata": {},
   "outputs": [],
   "source": [
    "##rasteise each species polygons into a numpy array - this creates a list of arrays\n",
    "np_list_amp = [rasterize([geom['geometry']], out_shape= base_10.shape, transform=base_10.transform, all_touched = True) for geom in amp_dict]"
   ]
  },
  {
   "cell_type": "code",
   "execution_count": 20,
   "metadata": {},
   "outputs": [
    {
     "name": "stdout",
     "output_type": "stream",
     "text": [
      "38.0\n",
      "-999.0\n"
     ]
    }
   ],
   "source": [
    "##sum the list of arrays to create count of feautres within a cell \n",
    "arr_sum_amp = sum(np_list_amp)\n",
    "##add the land mask\n",
    "arr_out_amp = arr_sum_amp + mask10\n",
    "print(np.amax(arr_out_amp))\n",
    "print(np.amin(arr_out_amp))"
   ]
  },
  {
   "cell_type": "code",
   "execution_count": 21,
   "metadata": {},
   "outputs": [],
   "source": [
    "##write new raster\n",
    "out_amp = path + r'rasters/amp_10_moll.tif'\n",
    "\n",
    "with rasterio.open(out_amp, 'w', driver='GTiff', height=arr_out_amp.shape[0],\n",
    "                   width=arr_out_amp.shape[1], count=1, dtype=arr_out_amp.dtype,\n",
    "                   crs=base_10.crs, transform=base_10.transform) as dst:\n",
    "    dst.write(arr_out_amp, 1)"
   ]
  },
  {
   "cell_type": "markdown",
   "metadata": {},
   "source": [
    "## 5km"
   ]
  },
  {
   "cell_type": "code",
   "execution_count": 102,
   "metadata": {},
   "outputs": [],
   "source": [
    "##rasteise each species polygons into a numpy array - this creates a list of arrays\n",
    "np_list_amp = [rasterize([geom['geometry']], out_shape= base_5.shape, transform=base_5.transform, all_touched = True) for geom in amp_dict]"
   ]
  },
  {
   "cell_type": "code",
   "execution_count": 103,
   "metadata": {},
   "outputs": [
    {
     "name": "stdout",
     "output_type": "stream",
     "text": [
      "35.0\n",
      "-999.0\n"
     ]
    }
   ],
   "source": [
    "##sum the list of arrays to create count of feautres within a cell \n",
    "arr_sum_amp = sum(np_list_amp)\n",
    "##add the land mask\n",
    "arr_out_amp = arr_sum_amp + mask5\n",
    "print(np.amax(arr_out_amp))\n",
    "print(np.amin(arr_out_amp))"
   ]
  },
  {
   "cell_type": "code",
   "execution_count": 104,
   "metadata": {},
   "outputs": [],
   "source": [
    "##write new raster\n",
    "out_amp = path + r'rasters/amp_5_moll.tif'\n",
    "\n",
    "with rasterio.open(out_amp, 'w', driver='GTiff', height=arr_out_amp.shape[0],\n",
    "                   width=arr_out_amp.shape[1], count=1, dtype=arr_out_amp.dtype,\n",
    "                   crs=base_5.crs, transform=base_5.transform) as dst:\n",
    "    dst.write(arr_out_amp, 1)"
   ]
  }
 ],
 "metadata": {
  "kernelspec": {
   "display_name": "Python 3",
   "language": "python",
   "name": "python3"
  },
  "language_info": {
   "codemirror_mode": {
    "name": "ipython",
    "version": 3
   },
   "file_extension": ".py",
   "mimetype": "text/x-python",
   "name": "python",
   "nbconvert_exporter": "python",
   "pygments_lexer": "ipython3",
   "version": "3.8.8"
  }
 },
 "nbformat": 4,
 "nbformat_minor": 4
}
