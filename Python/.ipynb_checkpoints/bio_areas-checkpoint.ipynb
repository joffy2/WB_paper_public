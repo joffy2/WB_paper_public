{
 "cells": [
  {
   "cell_type": "code",
   "execution_count": 1,
   "metadata": {},
   "outputs": [],
   "source": [
    "import math\n",
    "import numpy as np\n",
    "import geopandas as gpd\n",
    "import rasterio\n",
    "from rasterio.transform import from_origin\n",
    "from rasterio.features import rasterize\n",
    "from rasterio.warp import reproject, Resampling"
   ]
  },
  {
   "cell_type": "code",
   "execution_count": 2,
   "metadata": {},
   "outputs": [],
   "source": [
    "##set path to files\n",
    "path = 'Insert path'\n",
    "\n",
    "##read in the non-species biodiversity layers\n",
    "\n",
    "hot = gpd.read_file(path + 'biodiversity_areas/biodiversity_hotspots.shp')\n",
    "\n",
    "kba = gpd.read_file(path + 'biodiversity_areas/KbaMapGlobal_POL.shp')\n",
    "\n",
    "pa = gpd.read_file(path + 'biodiversity_areas/WDPA_Nov2018-shapefile-polygons.shp')"
   ]
  },
  {
   "cell_type": "code",
   "execution_count": 3,
   "metadata": {},
   "outputs": [],
   "source": [
    "##open reference rasters for each resoltuion\n",
    "rast1 = rasterio.open(path + r'/rasters/1_base_moll.tif')\n",
    "\n",
    "rast50 = rasterio.open(path + r'/rasters/50_base_moll.tif') # 50km\n",
    "rast25 = rasterio.open(path + r'/rasters/25_base_moll.tif') # 25 km\n",
    "rast10 = rasterio.open(path + r'/rasters/10_base_moll.tif') # 10 km\n",
    "rast5 = rasterio.open(path + r'/rasters/5_base_moll.tif') # 5 km"
   ]
  },
  {
   "cell_type": "code",
   "execution_count": null,
   "metadata": {},
   "outputs": [],
   "source": [
    "##paths to final files\n",
    "#for fine res rasters\n",
    "hot_fine = path + r'rasters/hot_fine_moll.tif'\n",
    "kba_fine = path + r'rasters/kba_fine_moll.tif'\n",
    "pa_fine = path + r'rasters/pa_fine_moll.tif'\n",
    "\n",
    "#for final rasters - 5km\n",
    "hot_5 = path + r'rasters/hot_5_moll.tif'\n",
    "kba_5 = path + r'rasters/kba_5_moll.tif'\n",
    "pa_5 = path + r'rasters/pa_iv_5_moll.tif'\n",
    "\n",
    "#for final rasters - 10 km \n",
    "hot_10 = path + r'rasters/hot_10_moll.tif'\n",
    "kba_10 = path + r'rasters/kba_10_moll.tif'\n",
    "pa_10 = path + r'rasters/pa_iv_10_moll.tif'\n",
    "\n",
    "#for final rasters - 25 km\n",
    "hot_25 = path + r'rasters/hot_25_moll.tif'\n",
    "kba_25 = path + r'rasters/kba_25_moll.tif'\n",
    "pa_25 = path + r'rasters/pa_iv_25_moll.tif'\n",
    "\n",
    "#for final rasters 50 km\n",
    "hot_50 = path + r'rasters/hot_50_moll.tif'\n",
    "kba_50 = path + r'rasters/kba_50_moll.tif'\n",
    "pa_50 = path + r'rasters/pa_iv_50_moll.tif'"
   ]
  },
  {
   "cell_type": "code",
   "execution_count": 4,
   "metadata": {},
   "outputs": [],
   "source": [
    "##read in adm1 layer to create a land mask. nodata (-999) values are water\n",
    "# 5km\n",
    "mask = rasterio.open(path + r'/rasters/adm1_5_moll.tif')\n",
    "mask5 = mask.read(1)\n",
    "mask5 = np.where(mask5 > 0, 0, -999)\n",
    "mask5 = mask5.astype('float')\n",
    "# 10km\n",
    "mask = rasterio.open(path + r'/rasters/adm1_10_moll.tif')\n",
    "mask10 = mask.read(1)\n",
    "mask10 = np.where(mask10 > 0, 0, -999)\n",
    "mask10 = mask10.astype('float')\n",
    "# 25 km\n",
    "mask = rasterio.open(path + r'/rasters/adm1_25_moll.tif')\n",
    "mask25 = mask.read(1)\n",
    "mask25 = np.where(mask25 > 0, 0, -999)\n",
    "mask25 = mask25.astype('float')\n",
    "# 50 km \n",
    "mask = rasterio.open(path + r'/rasters/adm1_50_moll.tif')\n",
    "mask50 = mask.read(1)\n",
    "mask50 = np.where(mask50 > 0, 0, -999)\n",
    "mask50 = mask50.astype('float')"
   ]
  },
  {
   "cell_type": "code",
   "execution_count": 5,
   "metadata": {},
   "outputs": [],
   "source": [
    "##reportject to a Mollwiede equal area projection\n",
    "crs = '+proj=moll +lon_0=0 +x_0=0 +y_0=0 +ellps=WGS84 +datum=WGS84 +units=m +no_defs'"
   ]
  },
  {
   "cell_type": "code",
   "execution_count": 6,
   "metadata": {},
   "outputs": [],
   "source": [
    "##reproject hotspots layer\n",
    "hot_rp = hot.to_crs(crs)"
   ]
  },
  {
   "cell_type": "code",
   "execution_count": 7,
   "metadata": {},
   "outputs": [],
   "source": [
    "##remove KBAs without geomteries \n",
    "kba = kba.loc[kba['geometry'].is_valid == True]\n",
    "#reproject\n",
    "kba_rp = kba.to_crs(crs)"
   ]
  },
  {
   "cell_type": "code",
   "execution_count": 8,
   "metadata": {},
   "outputs": [
    {
     "name": "stdout",
     "output_type": "stream",
     "text": [
      "213205\n",
      "90052\n"
     ]
    }
   ],
   "source": [
    "##create pa datasets by filtering IUCN catgories and marine - removes compeltely marine leave coastal\n",
    "pa = pa.loc[pa['IUCN_CAT'] != 'Not Applicable']\n",
    "\n",
    "pa = pa.loc[pa['MARINE'] != '2']\n",
    "\n",
    "pa_iv = pa.loc[pa['IUCN_CAT'].isin(['Ia', 'Ib', 'II', 'III', 'IV'])]\n",
    "print(len(pa))\n",
    "print(len(pa_iv))"
   ]
  },
  {
   "cell_type": "code",
   "execution_count": 9,
   "metadata": {},
   "outputs": [],
   "source": [
    "##reprotect PA layer\n",
    "pa_rp = pa_iv.to_crs(crs)"
   ]
  },
  {
   "cell_type": "code",
   "execution_count": 10,
   "metadata": {},
   "outputs": [],
   "source": [
    "##rasterize each layer - convert any cell with a polygon touching it to a 1\n",
    "hot_out = rasterize(shapes = hot_rp.geometry , out_shape = rast1.shape, fill= 0, transform = rast1.transform, all_touched=True)"
   ]
  },
  {
   "cell_type": "code",
   "execution_count": 11,
   "metadata": {},
   "outputs": [],
   "source": [
    "##rasterize each layer - convert any cell with a polygon touching it to a 1\n",
    "kba_out = rasterize(shapes = kba_rp.geometry , out_shape = rast1.shape, fill= 0, transform = rast1.transform, all_touched=True)"
   ]
  },
  {
   "cell_type": "code",
   "execution_count": 12,
   "metadata": {},
   "outputs": [],
   "source": [
    "##rasterize each layer - convert any cell with a polygon touching it to a 1\n",
    "pa_out = rasterize(shapes = pa_rp.geometry , out_shape = rast1.shape, fill= 0, transform = rast1.transform, all_touched=True)"
   ]
  },
  {
   "cell_type": "code",
   "execution_count": 20,
   "metadata": {},
   "outputs": [],
   "source": [
    "##write new raster - fine \n",
    "with rasterio.open(hot_fine, 'w', driver='GTiff', height=hot_out.shape[0],\n",
    "                   width=hot_out.shape[1], count=1, dtype=hot_out.dtype,\n",
    "                   crs=rast1.crs, transform=rast1.transform) as dst:\n",
    "    dst.write(hot_out, 1)\n",
    "    dst.close()"
   ]
  },
  {
   "cell_type": "code",
   "execution_count": 21,
   "metadata": {},
   "outputs": [],
   "source": [
    "##write new raster - fine \n",
    "with rasterio.open(kba_fine, 'w', driver='GTiff', height=kba_out.shape[0],\n",
    "                   width=kba_out.shape[1], count=1, dtype=kba_out.dtype,\n",
    "                   crs=rast1.crs, transform=rast1.transform) as dst:\n",
    "    dst.write(kba_out, 1)\n",
    "    dst.close()"
   ]
  },
  {
   "cell_type": "code",
   "execution_count": 22,
   "metadata": {},
   "outputs": [],
   "source": [
    "##write new raster - fine\n",
    "with rasterio.open(pa_fine, 'w', driver='GTiff', height=pa_out.shape[0],\n",
    "                   width=pa_out.shape[1], count=1, dtype=pa_out.dtype,\n",
    "                   crs=rast1.crs, transform=rast1.transform) as dst:\n",
    "    dst.write(pa_out, 1)\n",
    "    dst.close()"
   ]
  },
  {
   "cell_type": "markdown",
   "metadata": {},
   "source": [
    "### resample to refrence raster - 5 km "
   ]
  },
  {
   "cell_type": "code",
   "execution_count": 43,
   "metadata": {},
   "outputs": [],
   "source": [
    "##resample to a coarser resoltuion - 5 km \n",
    "new_hot = np.empty(shape=(rast5.shape[0], \n",
    "                         rast5.shape[1]))\n",
    "\n",
    "##reproject to resample the finer raster into the coarser raster \n",
    "reproject(\n",
    "    hot_out, new_hot,\n",
    "    src_transform = rast1.transform,\n",
    "    dst_transform = rast5.transform,\n",
    "    src_crs = rast5.crs,\n",
    "    dst_crs = rast5.crs,\n",
    "    resampling = Resampling.average)\n",
    "\n",
    "##times by 100 to get percentage coverage\n",
    "hot_out2 = new_hot * 100\n",
    "hot_out2 = hot_out2 + mask5"
   ]
  },
  {
   "cell_type": "code",
   "execution_count": 44,
   "metadata": {},
   "outputs": [],
   "source": [
    "##write new raster - percentage \n",
    "with rasterio.open(hot_5, 'w', driver='GTiff', height=hot_out2.shape[0],\n",
    "                   width=hot_out2.shape[1], count=1, dtype=hot_out2.dtype,\n",
    "                   crs=rast5.crs, transform=rast5.transform) as dst:\n",
    "    dst.write(hot_out2, 1)\n",
    "    dst.close()"
   ]
  },
  {
   "cell_type": "code",
   "execution_count": 45,
   "metadata": {},
   "outputs": [],
   "source": [
    "##resample to a coarser resoltuion\n",
    "new_kba = np.empty(shape=(rast5.shape[0], \n",
    "                         rast5.shape[1]))\n",
    "\n",
    "##reporfject to resample the finer raster into the coarser raster \n",
    "reproject(\n",
    "    kba_out, new_kba,\n",
    "    src_transform = rast1.transform,\n",
    "    dst_transform = rast5.transform,\n",
    "    src_crs = rast5.crs,\n",
    "    dst_crs = rast5.crs,\n",
    "    resampling = Resampling.average)\n",
    "\n",
    "##times by 100 to get percentage coverage\n",
    "kba_out2 = new_kba * 100\n",
    "kba_out2 = kba_out2 + mask5"
   ]
  },
  {
   "cell_type": "code",
   "execution_count": 46,
   "metadata": {},
   "outputs": [],
   "source": [
    "##write new raster - percentage \n",
    "with rasterio.open(kba_5, 'w', driver='GTiff', height=kba_out2.shape[0],\n",
    "                   width=kba_out2.shape[1], count=1, dtype=kba_out2.dtype,\n",
    "                   crs=rast5.crs, transform=rast5.transform) as dst:\n",
    "    dst.write(kba_out2, 1)\n",
    "    dst.close()"
   ]
  },
  {
   "cell_type": "code",
   "execution_count": 48,
   "metadata": {},
   "outputs": [],
   "source": [
    "##resample to a coarser resoltuion\n",
    "new_pa = np.empty(shape=(rast5.shape[0], \n",
    "                         rast5.shape[1]))\n",
    "\n",
    "##reproject to resample the finer raster into the coarser raster \n",
    "reproject(\n",
    "    pa_out, new_pa,\n",
    "    src_transform = rast1.transform,\n",
    "    dst_transform = rast5.transform,\n",
    "    src_crs = rast5.crs,\n",
    "    dst_crs = rast5.crs,\n",
    "    resampling = Resampling.average)\n",
    "\n",
    "##times by 100 to get percentage coverage\n",
    "pa_out2 = new_pa * 100\n",
    "pa_out2 = pa_out2 + mask5"
   ]
  },
  {
   "cell_type": "code",
   "execution_count": 49,
   "metadata": {},
   "outputs": [],
   "source": [
    "##write new raster - percentage \n",
    "with rasterio.open(pa_5, 'w', driver='GTiff', height=pa_out2.shape[0],\n",
    "                   width=pa_out2.shape[1], count=1, dtype=pa_out2.dtype,\n",
    "                   crs=rast5.crs, transform=rast5.transform) as dst:\n",
    "    dst.write(pa_out2, 1)\n",
    "    dst.close()"
   ]
  },
  {
   "cell_type": "markdown",
   "metadata": {},
   "source": [
    "### resample to refrence raster - 10 km "
   ]
  },
  {
   "cell_type": "code",
   "execution_count": 13,
   "metadata": {},
   "outputs": [],
   "source": [
    "##resample to a coarser resoltuion\n",
    "new_hot = np.empty(shape=(rast10.shape[0], \n",
    "                         rast10.shape[1]))\n",
    "\n",
    "##reporfject to resample the finer raster into the coarser raster \n",
    "reproject(\n",
    "    hot_out, new_hot,\n",
    "    src_transform = rast1.transform,\n",
    "    dst_transform = rast10.transform,\n",
    "    src_crs = rast10.crs,\n",
    "    dst_crs = rast10.crs,\n",
    "    resampling = Resampling.average)\n",
    "\n",
    "##times by 100 to get percentage coverage\n",
    "hot_out2 = new_hot * 100\n",
    "hot_out2 = hot_out2 + mask10"
   ]
  },
  {
   "cell_type": "code",
   "execution_count": 14,
   "metadata": {},
   "outputs": [],
   "source": [
    "##write new raster - percentage \n",
    "with rasterio.open(hot_10, 'w', driver='GTiff', height=hot_out2.shape[0],\n",
    "                   width=hot_out2.shape[1], count=1, dtype=hot_out2.dtype,\n",
    "                   crs=rast10.crs, transform=rast10.transform) as dst:\n",
    "    dst.write(hot_out2, 1)\n",
    "    dst.close()"
   ]
  },
  {
   "cell_type": "code",
   "execution_count": 15,
   "metadata": {},
   "outputs": [],
   "source": [
    "##resample to a coarser resoltuion\n",
    "new_kba = np.empty(shape=(rast10.shape[0], \n",
    "                         rast10.shape[1]))\n",
    "\n",
    "##reproject to resample the finer raster into the coarser raster \n",
    "reproject(\n",
    "    kba_out, new_kba,\n",
    "    src_transform = rast1.transform,\n",
    "    dst_transform = rast10.transform,\n",
    "    src_crs = rast10.crs,\n",
    "    dst_crs = rast10.crs,\n",
    "    resampling = Resampling.average)\n",
    "\n",
    "##times by 100 to get percentage coverage\n",
    "kba_out2 = new_kba * 100\n",
    "kba_out2 = kba_out2 + mask10"
   ]
  },
  {
   "cell_type": "code",
   "execution_count": 16,
   "metadata": {},
   "outputs": [],
   "source": [
    "##write new raster - percentage \n",
    "with rasterio.open(kba_10, 'w', driver='GTiff', height=kba_out2.shape[0],\n",
    "                   width=kba_out2.shape[1], count=1, dtype=kba_out2.dtype,\n",
    "                   crs=rast10.crs, transform=rast10.transform) as dst:\n",
    "    dst.write(kba_out2, 1)\n",
    "    dst.close()"
   ]
  },
  {
   "cell_type": "code",
   "execution_count": 17,
   "metadata": {},
   "outputs": [],
   "source": [
    "##resample to a coarser resoltuion\n",
    "new_pa = np.empty(shape=(rast10.shape[0],\n",
    "                         rast10.shape[1]))\n",
    "\n",
    "##reproject to resample the finer raster into the coarser raster \n",
    "reproject(\n",
    "    pa_out, new_pa,\n",
    "    src_transform = rast1.transform,\n",
    "    dst_transform = rast10.transform,\n",
    "    src_crs = rast10.crs,\n",
    "    dst_crs = rast10.crs,\n",
    "    resampling = Resampling.average)\n",
    "\n",
    "##times by 100 to get pertcentgae coverage\n",
    "pa_out2 = new_pa * 100\n",
    "pa_out2 = pa_out2 + mask10"
   ]
  },
  {
   "cell_type": "code",
   "execution_count": 18,
   "metadata": {},
   "outputs": [],
   "source": [
    "##write new raster - percentage \n",
    "with rasterio.open(pa_10, 'w', driver='GTiff', height=pa_out2.shape[0],\n",
    "                   width=pa_out2.shape[1], count=1, dtype=pa_out2.dtype,\n",
    "                   crs=rast10.crs, transform=rast10.transform) as dst:\n",
    "    dst.write(pa_out2, 1)\n",
    "    dst.close()"
   ]
  },
  {
   "cell_type": "markdown",
   "metadata": {},
   "source": [
    "### resample to refrence raster - 25 km "
   ]
  },
  {
   "cell_type": "code",
   "execution_count": 26,
   "metadata": {},
   "outputs": [],
   "source": [
    "##resample to a caorser resoltuion - 25 km\n",
    "new_hot = np.empty(shape=(rast25.shape[0], # 10% resolution\n",
    "                         rast25.shape[1]))\n",
    "##reproject to resample the finer raster into the caorser raster \n",
    "reproject(\n",
    "    hot_out, new_hot,\n",
    "    src_transform = rast1.transform,\n",
    "    dst_transform = rast25.transform,\n",
    "    src_crs = rast25.crs,\n",
    "    dst_crs = rast25.crs,\n",
    "    resampling = Resampling.average)\n",
    "\n",
    "##times by 100 to get pertcentgae coverage\n",
    "hot_out2 = new_hot * 100\n",
    "hot_out2 = hot_out2 + mask25"
   ]
  },
  {
   "cell_type": "code",
   "execution_count": 27,
   "metadata": {},
   "outputs": [],
   "source": [
    "##write new raster - percentage \n",
    "with rasterio.open(hot_25, 'w', driver='GTiff', height=hot_out2.shape[0],\n",
    "                   width=hot_out2.shape[1], count=1, dtype=hot_out2.dtype,\n",
    "                   crs=rast25.crs, transform=rast25.transform) as dst:\n",
    "    dst.write(hot_out2, 1)\n",
    "    dst.close()"
   ]
  },
  {
   "cell_type": "code",
   "execution_count": 32,
   "metadata": {},
   "outputs": [],
   "source": [
    "##resample to a coarser resoltuion\n",
    "new_kba = np.empty(shape=(rast25.shape[0], \n",
    "                         rast25.shape[1]))\n",
    "\n",
    "##reproject to resample the finer raster into the coarser raster \n",
    "reproject(\n",
    "    kba_out, new_kba,\n",
    "    src_transform = rast1.transform,\n",
    "    dst_transform = rast25.transform,\n",
    "    src_crs = rast25.crs,\n",
    "    dst_crs = rast25.crs,\n",
    "    resampling = Resampling.average)\n",
    "\n",
    "##times by 100 to get percentage coverage\n",
    "kba_out2 = new_kba * 100\n",
    "kba_out2 = kba_out2 + mask25"
   ]
  },
  {
   "cell_type": "code",
   "execution_count": 33,
   "metadata": {},
   "outputs": [],
   "source": [
    "##write new raster - percentage \n",
    "with rasterio.open(kba_25, 'w', driver='GTiff', height=kba_out2.shape[0],\n",
    "                   width=kba_out2.shape[1], count=1, dtype=kba_out2.dtype,\n",
    "                   crs=rast25.crs, transform=rast25.transform) as dst:\n",
    "    dst.write(kba_out2, 1)\n",
    "    dst.close()"
   ]
  },
  {
   "cell_type": "code",
   "execution_count": 34,
   "metadata": {},
   "outputs": [],
   "source": [
    "##resample to a coarser resoltuion\n",
    "new_pa = np.empty(shape=(rast25.shape[0], \n",
    "                         rast25.shape[1]))\n",
    "\n",
    "##reproject to resample the finer raster into the coarser raster \n",
    "reproject(\n",
    "    pa_out, new_pa,\n",
    "    src_transform = rast1.transform,\n",
    "    dst_transform = rast25.transform,\n",
    "    src_crs = rast25.crs,\n",
    "    dst_crs = rast25.crs,\n",
    "    resampling = Resampling.average)\n",
    "\n",
    "##times by 100 to get percentage coverage\n",
    "pa_out2 = new_pa * 100\n",
    "pa_out2 = pa_out2 + mask25"
   ]
  },
  {
   "cell_type": "code",
   "execution_count": 35,
   "metadata": {},
   "outputs": [],
   "source": [
    "##write new raster - percentage \n",
    "with rasterio.open(pa_25, 'w', driver='GTiff', height=pa_out2.shape[0],\n",
    "                   width=pa_out2.shape[1], count=1, dtype=pa_out2.dtype,\n",
    "                   crs=rast25.crs, transform=rast25.transform) as dst:\n",
    "    dst.write(pa_out2, 1)\n",
    "    dst.close()"
   ]
  },
  {
   "cell_type": "markdown",
   "metadata": {},
   "source": [
    "### resample to refrence raster - 50 km "
   ]
  },
  {
   "cell_type": "code",
   "execution_count": 37,
   "metadata": {},
   "outputs": [],
   "source": [
    "##resample to a coarser resoltuion\n",
    "new_hot = np.empty(shape=(rast50.shape[0], \n",
    "                         rast50.shape[1]))\n",
    "\n",
    "##reproject to resample the finer raster into the coarser raster \n",
    "reproject(\n",
    "    hot_out, new_hot,\n",
    "    src_transform = rast1.transform,\n",
    "    dst_transform = rast50.transform,\n",
    "    src_crs = rast50.crs,\n",
    "    dst_crs = rast50.crs,\n",
    "    resampling = Resampling.average)\n",
    "\n",
    "##times by 100 to get percentage coverage\n",
    "hot_out2 = new_hot * 100\n",
    "hot_out2 = hot_out2 + mask50"
   ]
  },
  {
   "cell_type": "code",
   "execution_count": 38,
   "metadata": {},
   "outputs": [],
   "source": [
    "##write new raster - percentage \n",
    "with rasterio.open(hot_50, 'w', driver='GTiff', height=hot_out2.shape[0],\n",
    "                   width=hot_out2.shape[1], count=1, dtype=hot_out2.dtype,\n",
    "                   crs=rast50.crs, transform=rast50.transform) as dst:\n",
    "    dst.write(hot_out2, 1)\n",
    "    dst.close()"
   ]
  },
  {
   "cell_type": "code",
   "execution_count": 39,
   "metadata": {},
   "outputs": [],
   "source": [
    "##resample to a coarser resoltuion\n",
    "new_kba = np.empty(shape=(rast50.shape[0], \n",
    "                         rast50.shape[1]))\n",
    "\n",
    "##reproject to resample the finer raster into the coarser raster \n",
    "reproject(\n",
    "    kba_out, new_kba,\n",
    "    src_transform = rast1.transform,\n",
    "    dst_transform = rast50.transform,\n",
    "    src_crs = rast50.crs,\n",
    "    dst_crs = rast50.crs,\n",
    "    resampling = Resampling.average)\n",
    "\n",
    "##times by 100 to get percentage coverage\n",
    "kba_out2 = new_kba * 100\n",
    "kba_out2 = kba_out2 + mask50"
   ]
  },
  {
   "cell_type": "code",
   "execution_count": 40,
   "metadata": {},
   "outputs": [],
   "source": [
    "##write new raster - percentage \n",
    "with rasterio.open(kba_50, 'w', driver='GTiff', height=kba_out2.shape[0],\n",
    "                   width=kba_out2.shape[1], count=1, dtype=kba_out2.dtype,\n",
    "                   crs=rast50.crs, transform=rast50.transform) as dst:\n",
    "    dst.write(kba_out2, 1)\n",
    "    dst.close()"
   ]
  },
  {
   "cell_type": "code",
   "execution_count": 41,
   "metadata": {},
   "outputs": [],
   "source": [
    "##resample to a coarser resoltuion\n",
    "new_pa = np.empty(shape=(rast50.shape[0], \n",
    "                         rast50.shape[1]))\n",
    "\n",
    "##reproject to resample the finer raster into the coarser raster \n",
    "reproject(\n",
    "    pa_out, new_pa,\n",
    "    src_transform = rast1.transform,\n",
    "    dst_transform = rast50.transform,\n",
    "    src_crs = rast50.crs,\n",
    "    dst_crs = rast50.crs,\n",
    "    resampling = Resampling.average)\n",
    "\n",
    "##times by 100 to get percentage coverage\n",
    "pa_out2 = new_pa * 100\n",
    "pa_out2 = pa_out2 + mask50"
   ]
  },
  {
   "cell_type": "code",
   "execution_count": 42,
   "metadata": {},
   "outputs": [],
   "source": [
    "##write new raster - percentage \n",
    "with rasterio.open(pa_50, 'w', driver='GTiff', height=pa_out2.shape[0],\n",
    "                   width=pa_out2.shape[1], count=1, dtype=pa_out2.dtype,\n",
    "                   crs=rast50.crs, transform=rast50.transform) as dst:\n",
    "    dst.write(pa_out2, 1)\n",
    "    dst.close()"
   ]
  }
 ],
 "metadata": {
  "kernelspec": {
   "display_name": "Python 3",
   "language": "python",
   "name": "python3"
  },
  "language_info": {
   "codemirror_mode": {
    "name": "ipython",
    "version": 3
   },
   "file_extension": ".py",
   "mimetype": "text/x-python",
   "name": "python",
   "nbconvert_exporter": "python",
   "pygments_lexer": "ipython3",
   "version": "3.8.8"
  }
 },
 "nbformat": 4,
 "nbformat_minor": 4
}
